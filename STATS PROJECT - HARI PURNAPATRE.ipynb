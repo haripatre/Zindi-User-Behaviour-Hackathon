{
 "cells": [
  {
   "cell_type": "markdown",
   "id": "abd3a811",
   "metadata": {},
   "source": [
    "# Objective\n",
    "\n",
    "I am using the dataset of a data science competition held by zindi.africa. This data is the actual data collected by the website of it's users and the objective of this competition is to create a machine learning model to determine if a user will be active on Zindi in the next month. An active user is one that enters a competition, makes a submission, or engages through the discussion forums. I have performed several statistical analysis and modeling to come up with an appropriate model that can predict user activity. \n"
   ]
  },
  {
   "cell_type": "markdown",
   "id": "91c96cbd",
   "metadata": {},
   "source": [
    "# Data Info\n",
    "###  The data is a subset of Zindi user activity. All variables have been masked to preserve privacy.\n",
    "* **competitions.csv:** this file contains information about hackathons and competitions\n",
    "* **CompetitionPartipation.csv:** this file contains information about users' participation in hackathons and competitions\n",
    "* **comments.csv:** this file contains information about every comment made, such as which userID made the submission and when it was made\n",
    "* **VariableDefinitions.csv:** this file contains information about each table and each variable\n",
    "* **train.csv:** this is a summarized table of the above activities. You can use this table to train you model but it is recommended you pull features from the above tables to enrich your model.\n",
    "* **test.csv:** contains the userID, month and year you need to apply your model to.\n",
    "* **SampleSubmission.csz:** shows the submission format for this competition. The order of the rows does not matter, but the names of the ‘ID’ must be correct."
   ]
  },
  {
   "cell_type": "markdown",
   "id": "a65c0ba4",
   "metadata": {},
   "source": [
    "# Data Load and Import Libraries"
   ]
  },
  {
   "cell_type": "code",
   "execution_count": 2,
   "id": "a9b49f56",
   "metadata": {},
   "outputs": [],
   "source": [
    "import pandas as pd\n",
    "import numpy as np\n",
    "import seaborn as sns\n",
    "train = pd.read_csv('Train.csv')\n",
    "test = pd.read_csv('Test.csv')\n",
    "comments = pd.read_csv('Comments.csv')\n",
    "competitionPartipation = pd.read_csv('CompetitionPartipation.csv')\n",
    "Discussions = pd.read_csv('Discussions.csv')\n",
    "SampleSubmission = pd.read_csv('SampleSubmission.csv')\n",
    "competitions = pd.read_csv('Competitions.csv')"
   ]
  },
  {
   "cell_type": "markdown",
   "id": "7111ce02",
   "metadata": {},
   "source": [
    "**Looking at the comments table we can see that it has 44% duplicate values**"
   ]
  },
  {
   "cell_type": "code",
   "execution_count": 3,
   "id": "e3217717",
   "metadata": {},
   "outputs": [
    {
     "name": "stdout",
     "output_type": "stream",
     "text": [
      "Comments Number of Records: 11751\n"
     ]
    },
    {
     "data": {
      "text/plain": [
       "(UserID                     2055\n",
       " CommentDate Year              3\n",
       " CommentDate Month            12\n",
       " CommentDate Day_of_week       7\n",
       " dtype: int64,\n",
       " None)"
      ]
     },
     "execution_count": 3,
     "metadata": {},
     "output_type": "execute_result"
    }
   ],
   "source": [
    "#Check Unique Values\n",
    "comments.nunique(), print('Comments Number of Records:', len(comments))"
   ]
  },
  {
   "cell_type": "code",
   "execution_count": 4,
   "id": "b07c652b",
   "metadata": {},
   "outputs": [
    {
     "name": "stdout",
     "output_type": "stream",
     "text": [
      "Number of duplicate records are: 44.56641987915922\n"
     ]
    }
   ],
   "source": [
    "print('Number of duplicate records are:',len(comments[comments.duplicated()])/len(comments) * 100)"
   ]
  },
  {
   "cell_type": "code",
   "execution_count": 5,
   "id": "7d748363",
   "metadata": {},
   "outputs": [],
   "source": [
    "#Drop Duplicates\n",
    "comments.drop_duplicates(keep='first', inplace = True)\n",
    "comments.reset_index(inplace = True, drop = True)"
   ]
  },
  {
   "cell_type": "code",
   "execution_count": 6,
   "id": "24350b95",
   "metadata": {},
   "outputs": [
    {
     "name": "stdout",
     "output_type": "stream",
     "text": [
      "Number of duplicate records are: 0.0\n"
     ]
    }
   ],
   "source": [
    "#Check Duplicates\n",
    "print('Number of duplicate records are:',len(comments[comments.duplicated()])/len(comments) * 100)"
   ]
  },
  {
   "cell_type": "code",
   "execution_count": 7,
   "id": "60018492",
   "metadata": {},
   "outputs": [
    {
     "data": {
      "text/html": [
       "<div>\n",
       "<style scoped>\n",
       "    .dataframe tbody tr th:only-of-type {\n",
       "        vertical-align: middle;\n",
       "    }\n",
       "\n",
       "    .dataframe tbody tr th {\n",
       "        vertical-align: top;\n",
       "    }\n",
       "\n",
       "    .dataframe thead th {\n",
       "        text-align: right;\n",
       "    }\n",
       "</style>\n",
       "<table border=\"1\" class=\"dataframe\">\n",
       "  <thead>\n",
       "    <tr style=\"text-align: right;\">\n",
       "      <th></th>\n",
       "      <th>UserID</th>\n",
       "      <th>CommentDate Year</th>\n",
       "      <th>CommentDate Month</th>\n",
       "      <th>CommentDate Day_of_week</th>\n",
       "    </tr>\n",
       "  </thead>\n",
       "  <tbody>\n",
       "    <tr>\n",
       "      <th>0</th>\n",
       "      <td>ID_MVIB05DL</td>\n",
       "      <td>3</td>\n",
       "      <td>1</td>\n",
       "      <td>7</td>\n",
       "    </tr>\n",
       "    <tr>\n",
       "      <th>1</th>\n",
       "      <td>ID_KBRFRAR9</td>\n",
       "      <td>3</td>\n",
       "      <td>1</td>\n",
       "      <td>7</td>\n",
       "    </tr>\n",
       "    <tr>\n",
       "      <th>2</th>\n",
       "      <td>ID_UDS6FRR8</td>\n",
       "      <td>3</td>\n",
       "      <td>1</td>\n",
       "      <td>7</td>\n",
       "    </tr>\n",
       "    <tr>\n",
       "      <th>3</th>\n",
       "      <td>ID_M8Z5T722</td>\n",
       "      <td>3</td>\n",
       "      <td>1</td>\n",
       "      <td>7</td>\n",
       "    </tr>\n",
       "    <tr>\n",
       "      <th>4</th>\n",
       "      <td>ID_MVIB05DL</td>\n",
       "      <td>3</td>\n",
       "      <td>2</td>\n",
       "      <td>2</td>\n",
       "    </tr>\n",
       "    <tr>\n",
       "      <th>...</th>\n",
       "      <td>...</td>\n",
       "      <td>...</td>\n",
       "      <td>...</td>\n",
       "      <td>...</td>\n",
       "    </tr>\n",
       "    <tr>\n",
       "      <th>6509</th>\n",
       "      <td>ID_ZVE0W61X</td>\n",
       "      <td>3</td>\n",
       "      <td>12</td>\n",
       "      <td>2</td>\n",
       "    </tr>\n",
       "    <tr>\n",
       "      <th>6510</th>\n",
       "      <td>ID_9MJ12JJR</td>\n",
       "      <td>3</td>\n",
       "      <td>5</td>\n",
       "      <td>4</td>\n",
       "    </tr>\n",
       "    <tr>\n",
       "      <th>6511</th>\n",
       "      <td>ID_0B9SK73T</td>\n",
       "      <td>3</td>\n",
       "      <td>6</td>\n",
       "      <td>5</td>\n",
       "    </tr>\n",
       "    <tr>\n",
       "      <th>6512</th>\n",
       "      <td>ID_0B9SK73T</td>\n",
       "      <td>3</td>\n",
       "      <td>6</td>\n",
       "      <td>4</td>\n",
       "    </tr>\n",
       "    <tr>\n",
       "      <th>6513</th>\n",
       "      <td>ID_2IKJFHYK</td>\n",
       "      <td>3</td>\n",
       "      <td>6</td>\n",
       "      <td>1</td>\n",
       "    </tr>\n",
       "  </tbody>\n",
       "</table>\n",
       "<p>6514 rows × 4 columns</p>\n",
       "</div>"
      ],
      "text/plain": [
       "           UserID  CommentDate Year  CommentDate Month  \\\n",
       "0     ID_MVIB05DL                 3                  1   \n",
       "1     ID_KBRFRAR9                 3                  1   \n",
       "2     ID_UDS6FRR8                 3                  1   \n",
       "3     ID_M8Z5T722                 3                  1   \n",
       "4     ID_MVIB05DL                 3                  2   \n",
       "...           ...               ...                ...   \n",
       "6509  ID_ZVE0W61X                 3                 12   \n",
       "6510  ID_9MJ12JJR                 3                  5   \n",
       "6511  ID_0B9SK73T                 3                  6   \n",
       "6512  ID_0B9SK73T                 3                  6   \n",
       "6513  ID_2IKJFHYK                 3                  6   \n",
       "\n",
       "      CommentDate Day_of_week  \n",
       "0                           7  \n",
       "1                           7  \n",
       "2                           7  \n",
       "3                           7  \n",
       "4                           2  \n",
       "...                       ...  \n",
       "6509                        2  \n",
       "6510                        4  \n",
       "6511                        5  \n",
       "6512                        4  \n",
       "6513                        1  \n",
       "\n",
       "[6514 rows x 4 columns]"
      ]
     },
     "execution_count": 7,
     "metadata": {},
     "output_type": "execute_result"
    }
   ],
   "source": [
    "comments"
   ]
  },
  {
   "cell_type": "code",
   "execution_count": 8,
   "id": "2ee01138",
   "metadata": {},
   "outputs": [
    {
     "data": {
      "text/html": [
       "<div>\n",
       "<style scoped>\n",
       "    .dataframe tbody tr th:only-of-type {\n",
       "        vertical-align: middle;\n",
       "    }\n",
       "\n",
       "    .dataframe tbody tr th {\n",
       "        vertical-align: top;\n",
       "    }\n",
       "\n",
       "    .dataframe thead th {\n",
       "        text-align: right;\n",
       "    }\n",
       "</style>\n",
       "<table border=\"1\" class=\"dataframe\">\n",
       "  <thead>\n",
       "    <tr style=\"text-align: right;\">\n",
       "      <th></th>\n",
       "      <th>UserID</th>\n",
       "      <th>CommentDate Year</th>\n",
       "      <th>CommentDate Month</th>\n",
       "      <th>CommentDate Day_of_week</th>\n",
       "    </tr>\n",
       "  </thead>\n",
       "  <tbody>\n",
       "    <tr>\n",
       "      <th>0</th>\n",
       "      <td>ID_MVIB05DL</td>\n",
       "      <td>3</td>\n",
       "      <td>1</td>\n",
       "      <td>7</td>\n",
       "    </tr>\n",
       "    <tr>\n",
       "      <th>1</th>\n",
       "      <td>ID_KBRFRAR9</td>\n",
       "      <td>3</td>\n",
       "      <td>1</td>\n",
       "      <td>7</td>\n",
       "    </tr>\n",
       "    <tr>\n",
       "      <th>2</th>\n",
       "      <td>ID_UDS6FRR8</td>\n",
       "      <td>3</td>\n",
       "      <td>1</td>\n",
       "      <td>7</td>\n",
       "    </tr>\n",
       "    <tr>\n",
       "      <th>3</th>\n",
       "      <td>ID_M8Z5T722</td>\n",
       "      <td>3</td>\n",
       "      <td>1</td>\n",
       "      <td>7</td>\n",
       "    </tr>\n",
       "    <tr>\n",
       "      <th>4</th>\n",
       "      <td>ID_MVIB05DL</td>\n",
       "      <td>3</td>\n",
       "      <td>2</td>\n",
       "      <td>2</td>\n",
       "    </tr>\n",
       "  </tbody>\n",
       "</table>\n",
       "</div>"
      ],
      "text/plain": [
       "        UserID  CommentDate Year  CommentDate Month  CommentDate Day_of_week\n",
       "0  ID_MVIB05DL                 3                  1                        7\n",
       "1  ID_KBRFRAR9                 3                  1                        7\n",
       "2  ID_UDS6FRR8                 3                  1                        7\n",
       "3  ID_M8Z5T722                 3                  1                        7\n",
       "4  ID_MVIB05DL                 3                  2                        2"
      ]
     },
     "metadata": {},
     "output_type": "display_data"
    },
    {
     "data": {
      "text/html": [
       "<div>\n",
       "<style scoped>\n",
       "    .dataframe tbody tr th:only-of-type {\n",
       "        vertical-align: middle;\n",
       "    }\n",
       "\n",
       "    .dataframe tbody tr th {\n",
       "        vertical-align: top;\n",
       "    }\n",
       "\n",
       "    .dataframe thead th {\n",
       "        text-align: right;\n",
       "    }\n",
       "</style>\n",
       "<table border=\"1\" class=\"dataframe\">\n",
       "  <thead>\n",
       "    <tr style=\"text-align: right;\">\n",
       "      <th></th>\n",
       "      <th>User_ID</th>\n",
       "      <th>month</th>\n",
       "      <th>year</th>\n",
       "    </tr>\n",
       "  </thead>\n",
       "  <tbody>\n",
       "    <tr>\n",
       "      <th>0</th>\n",
       "      <td>ID_H1ELY25E</td>\n",
       "      <td>1</td>\n",
       "      <td>4</td>\n",
       "    </tr>\n",
       "    <tr>\n",
       "      <th>1</th>\n",
       "      <td>ID_H1ELY25E</td>\n",
       "      <td>2</td>\n",
       "      <td>4</td>\n",
       "    </tr>\n",
       "    <tr>\n",
       "      <th>2</th>\n",
       "      <td>ID_H1ELY25E</td>\n",
       "      <td>3</td>\n",
       "      <td>4</td>\n",
       "    </tr>\n",
       "    <tr>\n",
       "      <th>3</th>\n",
       "      <td>ID_463Q2BCO</td>\n",
       "      <td>1</td>\n",
       "      <td>4</td>\n",
       "    </tr>\n",
       "    <tr>\n",
       "      <th>4</th>\n",
       "      <td>ID_463Q2BCO</td>\n",
       "      <td>2</td>\n",
       "      <td>4</td>\n",
       "    </tr>\n",
       "  </tbody>\n",
       "</table>\n",
       "</div>"
      ],
      "text/plain": [
       "       User_ID  month  year\n",
       "0  ID_H1ELY25E      1     4\n",
       "1  ID_H1ELY25E      2     4\n",
       "2  ID_H1ELY25E      3     4\n",
       "3  ID_463Q2BCO      1     4\n",
       "4  ID_463Q2BCO      2     4"
      ]
     },
     "metadata": {},
     "output_type": "display_data"
    }
   ],
   "source": [
    "display(comments.head(), test.head())"
   ]
  },
  {
   "cell_type": "markdown",
   "id": "75822fed",
   "metadata": {},
   "source": [
    "# We will join datasets to combine all the features to train our model."
   ]
  },
  {
   "cell_type": "markdown",
   "id": "be05f858",
   "metadata": {},
   "source": [
    "**In order to join the train and comments table we will aggregate the columns in the comments table to create different statistics of the columns.  This will help us to reduce duplication by reducing the amount of data participating in joins.** "
   ]
  },
  {
   "cell_type": "code",
   "execution_count": 9,
   "id": "ace5e679",
   "metadata": {},
   "outputs": [],
   "source": [
    "def renamer(agg_func,desired_name):\n",
    "    def return_func(x):\n",
    "        return agg_func(x)\n",
    "    return_func.__name__ = desired_name\n",
    "    return return_func"
   ]
  },
  {
   "cell_type": "code",
   "execution_count": 10,
   "id": "ff40e79e",
   "metadata": {},
   "outputs": [],
   "source": [
    "comments1 = comments.groupby('UserID').agg({'CommentDate Month':[renamer(np.sum,'CommentMonth_Sum'),renamer(np.median,'CommentMonth_Median'),renamer(np.mean,'CommentMonth_Mean'),renamer(np.size,'CommentMonth_Count')],\n",
    "                                           'CommentDate Year':[renamer(np.sum,'CommentYear_Sum'),renamer(np.median,'CommentYear_Median'),renamer(np.mean,'CommentYear_Mean'),renamer(np.size,'CommentYear_Count')],\n",
    "                                           'CommentDate Day_of_week':[renamer(np.sum,'CommentDoW_Sum'),renamer(np.median,'CommentDoW_Median'),renamer(np.mean,'CommentDoW_Mean'),renamer(np.size,'CommentDoW_Count')]})\n",
    "\n",
    "comments1.columns = comments1.columns.droplevel(level=0)\n",
    "\n",
    "comments1 = comments1.reset_index()"
   ]
  },
  {
   "cell_type": "code",
   "execution_count": 11,
   "id": "444ab387",
   "metadata": {},
   "outputs": [
    {
     "data": {
      "text/html": [
       "<div>\n",
       "<style scoped>\n",
       "    .dataframe tbody tr th:only-of-type {\n",
       "        vertical-align: middle;\n",
       "    }\n",
       "\n",
       "    .dataframe tbody tr th {\n",
       "        vertical-align: top;\n",
       "    }\n",
       "\n",
       "    .dataframe thead th {\n",
       "        text-align: right;\n",
       "    }\n",
       "</style>\n",
       "<table border=\"1\" class=\"dataframe\">\n",
       "  <thead>\n",
       "    <tr style=\"text-align: right;\">\n",
       "      <th></th>\n",
       "      <th>UserID</th>\n",
       "      <th>CommentMonth_Sum</th>\n",
       "      <th>CommentMonth_Median</th>\n",
       "      <th>CommentMonth_Mean</th>\n",
       "      <th>CommentMonth_Count</th>\n",
       "      <th>CommentYear_Sum</th>\n",
       "      <th>CommentYear_Median</th>\n",
       "      <th>CommentYear_Mean</th>\n",
       "      <th>CommentYear_Count</th>\n",
       "      <th>CommentDoW_Sum</th>\n",
       "      <th>CommentDoW_Median</th>\n",
       "      <th>CommentDoW_Mean</th>\n",
       "      <th>CommentDoW_Count</th>\n",
       "    </tr>\n",
       "  </thead>\n",
       "  <tbody>\n",
       "    <tr>\n",
       "      <th>0</th>\n",
       "      <td>ID_00HKNVC0</td>\n",
       "      <td>24</td>\n",
       "      <td>5.0</td>\n",
       "      <td>6.000000</td>\n",
       "      <td>4</td>\n",
       "      <td>12</td>\n",
       "      <td>3.0</td>\n",
       "      <td>3.0</td>\n",
       "      <td>4</td>\n",
       "      <td>18</td>\n",
       "      <td>5.0</td>\n",
       "      <td>4.500000</td>\n",
       "      <td>4</td>\n",
       "    </tr>\n",
       "    <tr>\n",
       "      <th>1</th>\n",
       "      <td>ID_00QSUS04</td>\n",
       "      <td>16</td>\n",
       "      <td>5.0</td>\n",
       "      <td>5.333333</td>\n",
       "      <td>3</td>\n",
       "      <td>6</td>\n",
       "      <td>2.0</td>\n",
       "      <td>2.0</td>\n",
       "      <td>3</td>\n",
       "      <td>10</td>\n",
       "      <td>3.0</td>\n",
       "      <td>3.333333</td>\n",
       "      <td>3</td>\n",
       "    </tr>\n",
       "    <tr>\n",
       "      <th>2</th>\n",
       "      <td>ID_00WD4BRD</td>\n",
       "      <td>6</td>\n",
       "      <td>6.0</td>\n",
       "      <td>6.000000</td>\n",
       "      <td>1</td>\n",
       "      <td>3</td>\n",
       "      <td>3.0</td>\n",
       "      <td>3.0</td>\n",
       "      <td>1</td>\n",
       "      <td>1</td>\n",
       "      <td>1.0</td>\n",
       "      <td>1.000000</td>\n",
       "      <td>1</td>\n",
       "    </tr>\n",
       "    <tr>\n",
       "      <th>3</th>\n",
       "      <td>ID_01SWZ6F1</td>\n",
       "      <td>4</td>\n",
       "      <td>4.0</td>\n",
       "      <td>4.000000</td>\n",
       "      <td>1</td>\n",
       "      <td>2</td>\n",
       "      <td>2.0</td>\n",
       "      <td>2.0</td>\n",
       "      <td>1</td>\n",
       "      <td>5</td>\n",
       "      <td>5.0</td>\n",
       "      <td>5.000000</td>\n",
       "      <td>1</td>\n",
       "    </tr>\n",
       "    <tr>\n",
       "      <th>4</th>\n",
       "      <td>ID_024JT34D</td>\n",
       "      <td>3</td>\n",
       "      <td>3.0</td>\n",
       "      <td>3.000000</td>\n",
       "      <td>1</td>\n",
       "      <td>2</td>\n",
       "      <td>2.0</td>\n",
       "      <td>2.0</td>\n",
       "      <td>1</td>\n",
       "      <td>7</td>\n",
       "      <td>7.0</td>\n",
       "      <td>7.000000</td>\n",
       "      <td>1</td>\n",
       "    </tr>\n",
       "  </tbody>\n",
       "</table>\n",
       "</div>"
      ],
      "text/plain": [
       "        UserID  CommentMonth_Sum  CommentMonth_Median  CommentMonth_Mean  \\\n",
       "0  ID_00HKNVC0                24                  5.0           6.000000   \n",
       "1  ID_00QSUS04                16                  5.0           5.333333   \n",
       "2  ID_00WD4BRD                 6                  6.0           6.000000   \n",
       "3  ID_01SWZ6F1                 4                  4.0           4.000000   \n",
       "4  ID_024JT34D                 3                  3.0           3.000000   \n",
       "\n",
       "   CommentMonth_Count  CommentYear_Sum  CommentYear_Median  CommentYear_Mean  \\\n",
       "0                   4               12                 3.0               3.0   \n",
       "1                   3                6                 2.0               2.0   \n",
       "2                   1                3                 3.0               3.0   \n",
       "3                   1                2                 2.0               2.0   \n",
       "4                   1                2                 2.0               2.0   \n",
       "\n",
       "   CommentYear_Count  CommentDoW_Sum  CommentDoW_Median  CommentDoW_Mean  \\\n",
       "0                  4              18                5.0         4.500000   \n",
       "1                  3              10                3.0         3.333333   \n",
       "2                  1               1                1.0         1.000000   \n",
       "3                  1               5                5.0         5.000000   \n",
       "4                  1               7                7.0         7.000000   \n",
       "\n",
       "   CommentDoW_Count  \n",
       "0                 4  \n",
       "1                 3  \n",
       "2                 1  \n",
       "3                 1  \n",
       "4                 1  "
      ]
     },
     "execution_count": 11,
     "metadata": {},
     "output_type": "execute_result"
    }
   ],
   "source": [
    "comments1.head()"
   ]
  },
  {
   "cell_type": "code",
   "execution_count": 12,
   "id": "679539d5",
   "metadata": {},
   "outputs": [
    {
     "data": {
      "text/plain": [
       "(259832, 8)"
      ]
     },
     "execution_count": 12,
     "metadata": {},
     "output_type": "execute_result"
    }
   ],
   "source": [
    "#shape of train before join\n",
    "train.shape"
   ]
  },
  {
   "cell_type": "code",
   "execution_count": 13,
   "id": "e387c105",
   "metadata": {},
   "outputs": [],
   "source": [
    "result = pd.merge(train,\n",
    "                  comments1,\n",
    "                  left_on = ['User_ID'],\n",
    "                  right_on= ['UserID'],\n",
    "                  how ='left') "
   ]
  },
  {
   "cell_type": "code",
   "execution_count": 14,
   "id": "cd9b3f4e",
   "metadata": {},
   "outputs": [
    {
     "data": {
      "text/plain": [
       "(259832, 21)"
      ]
     },
     "execution_count": 14,
     "metadata": {},
     "output_type": "execute_result"
    }
   ],
   "source": [
    "#shape after join\n",
    "result.shape"
   ]
  },
  {
   "cell_type": "markdown",
   "id": "a99bfec4",
   "metadata": {},
   "source": [
    "## Joining the competition tables\n",
    "**As the table 'competitions' does not have the column UserID we will have to join it to 'competitionPartipation' first**"
   ]
  },
  {
   "cell_type": "code",
   "execution_count": 15,
   "id": "7709ab5d",
   "metadata": {},
   "outputs": [
    {
     "data": {
      "text/html": [
       "<div>\n",
       "<style scoped>\n",
       "    .dataframe tbody tr th:only-of-type {\n",
       "        vertical-align: middle;\n",
       "    }\n",
       "\n",
       "    .dataframe tbody tr th {\n",
       "        vertical-align: top;\n",
       "    }\n",
       "\n",
       "    .dataframe thead th {\n",
       "        text-align: right;\n",
       "    }\n",
       "</style>\n",
       "<table border=\"1\" class=\"dataframe\">\n",
       "  <thead>\n",
       "    <tr style=\"text-align: right;\">\n",
       "      <th></th>\n",
       "      <th>CompID</th>\n",
       "      <th>Country</th>\n",
       "      <th>FeatureA</th>\n",
       "      <th>FeatureB</th>\n",
       "      <th>FeatureC</th>\n",
       "      <th>Kind</th>\n",
       "      <th>Points Reward</th>\n",
       "      <th>FeatureD</th>\n",
       "      <th>SecretCode</th>\n",
       "      <th>SubmissionLimitPerDay</th>\n",
       "      <th>FeatureE</th>\n",
       "      <th>CompEndTime Year</th>\n",
       "      <th>CompEndTime Month</th>\n",
       "      <th>CompEndTime Day_of_week</th>\n",
       "      <th>CompStartTime Year</th>\n",
       "      <th>CompStartTime Month</th>\n",
       "      <th>CompStartTime Day_of_week</th>\n",
       "    </tr>\n",
       "  </thead>\n",
       "  <tbody>\n",
       "    <tr>\n",
       "      <th>0</th>\n",
       "      <td>ID_WGZ2</td>\n",
       "      <td>ID_HWRH</td>\n",
       "      <td>[1]</td>\n",
       "      <td>[14]</td>\n",
       "      <td>1.0</td>\n",
       "      <td>1</td>\n",
       "      <td>27</td>\n",
       "      <td>1</td>\n",
       "      <td>0</td>\n",
       "      <td>100.0</td>\n",
       "      <td>[1]</td>\n",
       "      <td>1</td>\n",
       "      <td>8.0</td>\n",
       "      <td>7.0</td>\n",
       "      <td>1</td>\n",
       "      <td>6</td>\n",
       "      <td>5</td>\n",
       "    </tr>\n",
       "    <tr>\n",
       "      <th>1</th>\n",
       "      <td>ID_G370</td>\n",
       "      <td>NaN</td>\n",
       "      <td>[1]</td>\n",
       "      <td>[]</td>\n",
       "      <td>2.0</td>\n",
       "      <td>1</td>\n",
       "      <td>52</td>\n",
       "      <td>2</td>\n",
       "      <td>0</td>\n",
       "      <td>10.0</td>\n",
       "      <td>[1]</td>\n",
       "      <td>4</td>\n",
       "      <td>1.0</td>\n",
       "      <td>6.0</td>\n",
       "      <td>3</td>\n",
       "      <td>12</td>\n",
       "      <td>7</td>\n",
       "    </tr>\n",
       "    <tr>\n",
       "      <th>2</th>\n",
       "      <td>ID_R5HL</td>\n",
       "      <td>NaN</td>\n",
       "      <td>[1]</td>\n",
       "      <td>[]</td>\n",
       "      <td>3.0</td>\n",
       "      <td>1</td>\n",
       "      <td>126</td>\n",
       "      <td>2</td>\n",
       "      <td>0</td>\n",
       "      <td>10.0</td>\n",
       "      <td>[1]</td>\n",
       "      <td>4</td>\n",
       "      <td>1.0</td>\n",
       "      <td>6.0</td>\n",
       "      <td>3</td>\n",
       "      <td>10</td>\n",
       "      <td>4</td>\n",
       "    </tr>\n",
       "    <tr>\n",
       "      <th>3</th>\n",
       "      <td>ID_Y6XI</td>\n",
       "      <td>ID_ARVG</td>\n",
       "      <td>[1]</td>\n",
       "      <td>[]</td>\n",
       "      <td>4.0</td>\n",
       "      <td>1</td>\n",
       "      <td>52</td>\n",
       "      <td>2</td>\n",
       "      <td>0</td>\n",
       "      <td>10.0</td>\n",
       "      <td>[1]</td>\n",
       "      <td>4</td>\n",
       "      <td>1.0</td>\n",
       "      <td>6.0</td>\n",
       "      <td>3</td>\n",
       "      <td>11</td>\n",
       "      <td>4</td>\n",
       "    </tr>\n",
       "    <tr>\n",
       "      <th>4</th>\n",
       "      <td>ID_8PEN</td>\n",
       "      <td>ID_I1L9</td>\n",
       "      <td>[1]</td>\n",
       "      <td>[]</td>\n",
       "      <td>5.0</td>\n",
       "      <td>0</td>\n",
       "      <td>2</td>\n",
       "      <td>2</td>\n",
       "      <td>0</td>\n",
       "      <td>200.0</td>\n",
       "      <td>[1]</td>\n",
       "      <td>2</td>\n",
       "      <td>11.0</td>\n",
       "      <td>6.0</td>\n",
       "      <td>2</td>\n",
       "      <td>11</td>\n",
       "      <td>4</td>\n",
       "    </tr>\n",
       "    <tr>\n",
       "      <th>...</th>\n",
       "      <td>...</td>\n",
       "      <td>...</td>\n",
       "      <td>...</td>\n",
       "      <td>...</td>\n",
       "      <td>...</td>\n",
       "      <td>...</td>\n",
       "      <td>...</td>\n",
       "      <td>...</td>\n",
       "      <td>...</td>\n",
       "      <td>...</td>\n",
       "      <td>...</td>\n",
       "      <td>...</td>\n",
       "      <td>...</td>\n",
       "      <td>...</td>\n",
       "      <td>...</td>\n",
       "      <td>...</td>\n",
       "      <td>...</td>\n",
       "    </tr>\n",
       "    <tr>\n",
       "      <th>149</th>\n",
       "      <td>ID_F7X4</td>\n",
       "      <td>NaN</td>\n",
       "      <td>[1]</td>\n",
       "      <td>[]</td>\n",
       "      <td>2.0</td>\n",
       "      <td>1</td>\n",
       "      <td>2</td>\n",
       "      <td>3</td>\n",
       "      <td>0</td>\n",
       "      <td>30.0</td>\n",
       "      <td>[1]</td>\n",
       "      <td>not mapped</td>\n",
       "      <td>NaN</td>\n",
       "      <td>NaN</td>\n",
       "      <td>1</td>\n",
       "      <td>5</td>\n",
       "      <td>3</td>\n",
       "    </tr>\n",
       "    <tr>\n",
       "      <th>150</th>\n",
       "      <td>ID_E1LI</td>\n",
       "      <td>ID_I1L9</td>\n",
       "      <td>[3, 2]</td>\n",
       "      <td>[14]</td>\n",
       "      <td>7.0</td>\n",
       "      <td>1</td>\n",
       "      <td>2</td>\n",
       "      <td>3</td>\n",
       "      <td>0</td>\n",
       "      <td>50.0</td>\n",
       "      <td>[2]</td>\n",
       "      <td>not mapped</td>\n",
       "      <td>NaN</td>\n",
       "      <td>NaN</td>\n",
       "      <td>3</td>\n",
       "      <td>2</td>\n",
       "      <td>3</td>\n",
       "    </tr>\n",
       "    <tr>\n",
       "      <th>151</th>\n",
       "      <td>ID_MPSN</td>\n",
       "      <td>NaN</td>\n",
       "      <td>[1]</td>\n",
       "      <td>[9]</td>\n",
       "      <td>2.0</td>\n",
       "      <td>1</td>\n",
       "      <td>2</td>\n",
       "      <td>3</td>\n",
       "      <td>0</td>\n",
       "      <td>10.0</td>\n",
       "      <td>[1, 5]</td>\n",
       "      <td>not mapped</td>\n",
       "      <td>NaN</td>\n",
       "      <td>NaN</td>\n",
       "      <td>2</td>\n",
       "      <td>2</td>\n",
       "      <td>7</td>\n",
       "    </tr>\n",
       "    <tr>\n",
       "      <th>152</th>\n",
       "      <td>ID_Z5QP</td>\n",
       "      <td>ID_5OWN</td>\n",
       "      <td>[1]</td>\n",
       "      <td>[]</td>\n",
       "      <td>31.0</td>\n",
       "      <td>0</td>\n",
       "      <td>2</td>\n",
       "      <td>2</td>\n",
       "      <td>1</td>\n",
       "      <td>NaN</td>\n",
       "      <td>[1]</td>\n",
       "      <td>3</td>\n",
       "      <td>6.0</td>\n",
       "      <td>5.0</td>\n",
       "      <td>3</td>\n",
       "      <td>6</td>\n",
       "      <td>5</td>\n",
       "    </tr>\n",
       "    <tr>\n",
       "      <th>153</th>\n",
       "      <td>ID_D42Y</td>\n",
       "      <td>ID_ARVG</td>\n",
       "      <td>[1]</td>\n",
       "      <td>[]</td>\n",
       "      <td>2.0</td>\n",
       "      <td>1</td>\n",
       "      <td>151</td>\n",
       "      <td>1</td>\n",
       "      <td>0</td>\n",
       "      <td>30.0</td>\n",
       "      <td>[1]</td>\n",
       "      <td>2</td>\n",
       "      <td>7.0</td>\n",
       "      <td>7.0</td>\n",
       "      <td>2</td>\n",
       "      <td>3</td>\n",
       "      <td>4</td>\n",
       "    </tr>\n",
       "  </tbody>\n",
       "</table>\n",
       "<p>154 rows × 17 columns</p>\n",
       "</div>"
      ],
      "text/plain": [
       "      CompID  Country FeatureA FeatureB  FeatureC  Kind  Points Reward  \\\n",
       "0    ID_WGZ2  ID_HWRH      [1]     [14]       1.0     1             27   \n",
       "1    ID_G370      NaN      [1]       []       2.0     1             52   \n",
       "2    ID_R5HL      NaN      [1]       []       3.0     1            126   \n",
       "3    ID_Y6XI  ID_ARVG      [1]       []       4.0     1             52   \n",
       "4    ID_8PEN  ID_I1L9      [1]       []       5.0     0              2   \n",
       "..       ...      ...      ...      ...       ...   ...            ...   \n",
       "149  ID_F7X4      NaN      [1]       []       2.0     1              2   \n",
       "150  ID_E1LI  ID_I1L9   [3, 2]     [14]       7.0     1              2   \n",
       "151  ID_MPSN      NaN      [1]      [9]       2.0     1              2   \n",
       "152  ID_Z5QP  ID_5OWN      [1]       []      31.0     0              2   \n",
       "153  ID_D42Y  ID_ARVG      [1]       []       2.0     1            151   \n",
       "\n",
       "     FeatureD  SecretCode  SubmissionLimitPerDay FeatureE CompEndTime Year  \\\n",
       "0           1           0                  100.0      [1]                1   \n",
       "1           2           0                   10.0      [1]                4   \n",
       "2           2           0                   10.0      [1]                4   \n",
       "3           2           0                   10.0      [1]                4   \n",
       "4           2           0                  200.0      [1]                2   \n",
       "..        ...         ...                    ...      ...              ...   \n",
       "149         3           0                   30.0      [1]       not mapped   \n",
       "150         3           0                   50.0      [2]       not mapped   \n",
       "151         3           0                   10.0   [1, 5]       not mapped   \n",
       "152         2           1                    NaN      [1]                3   \n",
       "153         1           0                   30.0      [1]                2   \n",
       "\n",
       "     CompEndTime Month  CompEndTime Day_of_week  CompStartTime Year  \\\n",
       "0                  8.0                      7.0                   1   \n",
       "1                  1.0                      6.0                   3   \n",
       "2                  1.0                      6.0                   3   \n",
       "3                  1.0                      6.0                   3   \n",
       "4                 11.0                      6.0                   2   \n",
       "..                 ...                      ...                 ...   \n",
       "149                NaN                      NaN                   1   \n",
       "150                NaN                      NaN                   3   \n",
       "151                NaN                      NaN                   2   \n",
       "152                6.0                      5.0                   3   \n",
       "153                7.0                      7.0                   2   \n",
       "\n",
       "     CompStartTime Month  CompStartTime Day_of_week  \n",
       "0                      6                          5  \n",
       "1                     12                          7  \n",
       "2                     10                          4  \n",
       "3                     11                          4  \n",
       "4                     11                          4  \n",
       "..                   ...                        ...  \n",
       "149                    5                          3  \n",
       "150                    2                          3  \n",
       "151                    2                          7  \n",
       "152                    6                          5  \n",
       "153                    3                          4  \n",
       "\n",
       "[154 rows x 17 columns]"
      ]
     },
     "metadata": {},
     "output_type": "display_data"
    },
    {
     "data": {
      "text/html": [
       "<div>\n",
       "<style scoped>\n",
       "    .dataframe tbody tr th:only-of-type {\n",
       "        vertical-align: middle;\n",
       "    }\n",
       "\n",
       "    .dataframe tbody tr th {\n",
       "        vertical-align: top;\n",
       "    }\n",
       "\n",
       "    .dataframe thead th {\n",
       "        text-align: right;\n",
       "    }\n",
       "</style>\n",
       "<table border=\"1\" class=\"dataframe\">\n",
       "  <thead>\n",
       "    <tr style=\"text-align: right;\">\n",
       "      <th></th>\n",
       "      <th>CompID</th>\n",
       "      <th>UserID</th>\n",
       "      <th>PublicRank</th>\n",
       "      <th>Successful Submission Count</th>\n",
       "      <th>CompPartCreated Year</th>\n",
       "      <th>CompPartCreated Month</th>\n",
       "      <th>CompPartCreated Day_of_week</th>\n",
       "    </tr>\n",
       "  </thead>\n",
       "  <tbody>\n",
       "    <tr>\n",
       "      <th>0</th>\n",
       "      <td>ID_WMUF</td>\n",
       "      <td>ID_UWBBZ9OF</td>\n",
       "      <td>rank 11</td>\n",
       "      <td>count 10</td>\n",
       "      <td>3</td>\n",
       "      <td>1</td>\n",
       "      <td>4</td>\n",
       "    </tr>\n",
       "    <tr>\n",
       "      <th>1</th>\n",
       "      <td>ID_MPSN</td>\n",
       "      <td>ID_UWBBZ9OF</td>\n",
       "      <td>NaN</td>\n",
       "      <td>NaN</td>\n",
       "      <td>3</td>\n",
       "      <td>1</td>\n",
       "      <td>7</td>\n",
       "    </tr>\n",
       "    <tr>\n",
       "      <th>2</th>\n",
       "      <td>ID_WMUF</td>\n",
       "      <td>ID_1N5J2PGO</td>\n",
       "      <td>NaN</td>\n",
       "      <td>count 10</td>\n",
       "      <td>3</td>\n",
       "      <td>1</td>\n",
       "      <td>5</td>\n",
       "    </tr>\n",
       "    <tr>\n",
       "      <th>3</th>\n",
       "      <td>ID_7MLO</td>\n",
       "      <td>ID_1N5J2PGO</td>\n",
       "      <td>NaN</td>\n",
       "      <td>NaN</td>\n",
       "      <td>2</td>\n",
       "      <td>10</td>\n",
       "      <td>5</td>\n",
       "    </tr>\n",
       "    <tr>\n",
       "      <th>4</th>\n",
       "      <td>ID_2KEY</td>\n",
       "      <td>ID_1N5J2PGO</td>\n",
       "      <td>NaN</td>\n",
       "      <td>NaN</td>\n",
       "      <td>2</td>\n",
       "      <td>5</td>\n",
       "      <td>4</td>\n",
       "    </tr>\n",
       "    <tr>\n",
       "      <th>...</th>\n",
       "      <td>...</td>\n",
       "      <td>...</td>\n",
       "      <td>...</td>\n",
       "      <td>...</td>\n",
       "      <td>...</td>\n",
       "      <td>...</td>\n",
       "      <td>...</td>\n",
       "    </tr>\n",
       "    <tr>\n",
       "      <th>48560</th>\n",
       "      <td>ID_XYJZ</td>\n",
       "      <td>ID_5C4D0VO2</td>\n",
       "      <td>rank 11</td>\n",
       "      <td>count 10</td>\n",
       "      <td>3</td>\n",
       "      <td>7</td>\n",
       "      <td>6</td>\n",
       "    </tr>\n",
       "    <tr>\n",
       "      <th>48561</th>\n",
       "      <td>ID_XYJZ</td>\n",
       "      <td>ID_JRJZQB8S</td>\n",
       "      <td>rank 11</td>\n",
       "      <td>count 10</td>\n",
       "      <td>3</td>\n",
       "      <td>7</td>\n",
       "      <td>5</td>\n",
       "    </tr>\n",
       "    <tr>\n",
       "      <th>48562</th>\n",
       "      <td>ID_XYJZ</td>\n",
       "      <td>ID_H4FM7RBV</td>\n",
       "      <td>NaN</td>\n",
       "      <td>NaN</td>\n",
       "      <td>3</td>\n",
       "      <td>7</td>\n",
       "      <td>5</td>\n",
       "    </tr>\n",
       "    <tr>\n",
       "      <th>48563</th>\n",
       "      <td>ID_XYJZ</td>\n",
       "      <td>ID_C3QOEMU4</td>\n",
       "      <td>rank 11</td>\n",
       "      <td>count 10</td>\n",
       "      <td>3</td>\n",
       "      <td>7</td>\n",
       "      <td>5</td>\n",
       "    </tr>\n",
       "    <tr>\n",
       "      <th>48564</th>\n",
       "      <td>ID_XYJZ</td>\n",
       "      <td>ID_WF3E1TND</td>\n",
       "      <td>NaN</td>\n",
       "      <td>NaN</td>\n",
       "      <td>3</td>\n",
       "      <td>7</td>\n",
       "      <td>7</td>\n",
       "    </tr>\n",
       "  </tbody>\n",
       "</table>\n",
       "<p>48565 rows × 7 columns</p>\n",
       "</div>"
      ],
      "text/plain": [
       "        CompID       UserID PublicRank Successful Submission Count  \\\n",
       "0      ID_WMUF  ID_UWBBZ9OF    rank 11                    count 10   \n",
       "1      ID_MPSN  ID_UWBBZ9OF        NaN                         NaN   \n",
       "2      ID_WMUF  ID_1N5J2PGO        NaN                    count 10   \n",
       "3      ID_7MLO  ID_1N5J2PGO        NaN                         NaN   \n",
       "4      ID_2KEY  ID_1N5J2PGO        NaN                         NaN   \n",
       "...        ...          ...        ...                         ...   \n",
       "48560  ID_XYJZ  ID_5C4D0VO2    rank 11                    count 10   \n",
       "48561  ID_XYJZ  ID_JRJZQB8S    rank 11                    count 10   \n",
       "48562  ID_XYJZ  ID_H4FM7RBV        NaN                         NaN   \n",
       "48563  ID_XYJZ  ID_C3QOEMU4    rank 11                    count 10   \n",
       "48564  ID_XYJZ  ID_WF3E1TND        NaN                         NaN   \n",
       "\n",
       "       CompPartCreated Year  CompPartCreated Month  \\\n",
       "0                         3                      1   \n",
       "1                         3                      1   \n",
       "2                         3                      1   \n",
       "3                         2                     10   \n",
       "4                         2                      5   \n",
       "...                     ...                    ...   \n",
       "48560                     3                      7   \n",
       "48561                     3                      7   \n",
       "48562                     3                      7   \n",
       "48563                     3                      7   \n",
       "48564                     3                      7   \n",
       "\n",
       "       CompPartCreated Day_of_week  \n",
       "0                                4  \n",
       "1                                7  \n",
       "2                                5  \n",
       "3                                5  \n",
       "4                                4  \n",
       "...                            ...  \n",
       "48560                            6  \n",
       "48561                            5  \n",
       "48562                            5  \n",
       "48563                            5  \n",
       "48564                            7  \n",
       "\n",
       "[48565 rows x 7 columns]"
      ]
     },
     "metadata": {},
     "output_type": "display_data"
    }
   ],
   "source": [
    "display(competitions, competitionPartipation)"
   ]
  },
  {
   "cell_type": "code",
   "execution_count": 16,
   "id": "7ec811ce",
   "metadata": {},
   "outputs": [],
   "source": [
    "result_comp = pd.merge(competitionPartipation,\n",
    "                  competitions,\n",
    "                  left_on = ['CompID'],\n",
    "                  right_on= ['CompID'],\n",
    "                  how ='left')"
   ]
  },
  {
   "cell_type": "code",
   "execution_count": 17,
   "id": "6919ff14",
   "metadata": {},
   "outputs": [],
   "source": [
    "#Function to check null values\n",
    "def assess_NA(data):\n",
    "    null_sum = data.isnull().sum()# instantiate columns for missing data\n",
    "    total = null_sum.sort_values(ascending=False)\n",
    "    percent = ( ((null_sum / len(data.index))*100).round(2) ).sort_values(ascending=False)\n",
    "    \n",
    "    df_NA = pd.concat([total, percent], axis=1, keys=['Number of NA', 'Percent NA'])\n",
    "    \n",
    "    df_NA = df_NA[ (df_NA.T != 0).any() ]\n",
    "    \n",
    "    return df_NA"
   ]
  },
  {
   "cell_type": "code",
   "execution_count": 18,
   "id": "abed2509",
   "metadata": {},
   "outputs": [
    {
     "data": {
      "text/html": [
       "<div>\n",
       "<style scoped>\n",
       "    .dataframe tbody tr th:only-of-type {\n",
       "        vertical-align: middle;\n",
       "    }\n",
       "\n",
       "    .dataframe tbody tr th {\n",
       "        vertical-align: top;\n",
       "    }\n",
       "\n",
       "    .dataframe thead th {\n",
       "        text-align: right;\n",
       "    }\n",
       "</style>\n",
       "<table border=\"1\" class=\"dataframe\">\n",
       "  <thead>\n",
       "    <tr style=\"text-align: right;\">\n",
       "      <th></th>\n",
       "      <th>Number of NA</th>\n",
       "      <th>Percent NA</th>\n",
       "    </tr>\n",
       "  </thead>\n",
       "  <tbody>\n",
       "    <tr>\n",
       "      <th>PublicRank</th>\n",
       "      <td>34598</td>\n",
       "      <td>71.24</td>\n",
       "    </tr>\n",
       "    <tr>\n",
       "      <th>Successful Submission Count</th>\n",
       "      <td>32426</td>\n",
       "      <td>66.77</td>\n",
       "    </tr>\n",
       "    <tr>\n",
       "      <th>CompEndTime Day_of_week</th>\n",
       "      <td>9182</td>\n",
       "      <td>18.91</td>\n",
       "    </tr>\n",
       "    <tr>\n",
       "      <th>CompEndTime Month</th>\n",
       "      <td>9182</td>\n",
       "      <td>18.91</td>\n",
       "    </tr>\n",
       "    <tr>\n",
       "      <th>Country</th>\n",
       "      <td>8412</td>\n",
       "      <td>17.32</td>\n",
       "    </tr>\n",
       "    <tr>\n",
       "      <th>FeatureC</th>\n",
       "      <td>4021</td>\n",
       "      <td>8.28</td>\n",
       "    </tr>\n",
       "    <tr>\n",
       "      <th>SubmissionLimitPerDay</th>\n",
       "      <td>712</td>\n",
       "      <td>1.47</td>\n",
       "    </tr>\n",
       "  </tbody>\n",
       "</table>\n",
       "</div>"
      ],
      "text/plain": [
       "                             Number of NA  Percent NA\n",
       "PublicRank                          34598       71.24\n",
       "Successful Submission Count         32426       66.77\n",
       "CompEndTime Day_of_week              9182       18.91\n",
       "CompEndTime Month                    9182       18.91\n",
       "Country                              8412       17.32\n",
       "FeatureC                             4021        8.28\n",
       "SubmissionLimitPerDay                 712        1.47"
      ]
     },
     "execution_count": 18,
     "metadata": {},
     "output_type": "execute_result"
    }
   ],
   "source": [
    "df_na = assess_NA(result_comp)\n",
    "df_na"
   ]
  },
  {
   "cell_type": "markdown",
   "id": "028b248c",
   "metadata": {},
   "source": [
    "# Feature Engineering and Analysis"
   ]
  },
  {
   "cell_type": "markdown",
   "id": "c92790ad",
   "metadata": {},
   "source": [
    "### Public Rank\n",
    "This variable is split into groups. Users are grouped together in groups of 50.  Rank 1 does not neccesarily mean the users who are top 50 on the leaderboard. This field is masked."
   ]
  },
  {
   "cell_type": "code",
   "execution_count": 19,
   "id": "2cfb7e52",
   "metadata": {},
   "outputs": [
    {
     "data": {
      "image/png": "[encoded data removed]",
      "text/plain": [
       "<Figure size 1296x288 with 1 Axes>"
      ]
     },
     "metadata": {
      "needs_background": "light"
     },
     "output_type": "display_data"
    }
   ],
   "source": [
    "import seaborn as sns\n",
    "import matplotlib.pyplot as plt\n",
    "plt.figure(figsize=(18,4))\n",
    "sns.countplot(data = result_comp, x = 'PublicRank')\n",
    "plt.show()"
   ]
  },
  {
   "cell_type": "code",
   "execution_count": 20,
   "id": "504fdfec",
   "metadata": {},
   "outputs": [],
   "source": [
    "result_comp['PublicRank'].fillna('rank na', inplace = True)"
   ]
  },
  {
   "cell_type": "markdown",
   "id": "aaf82d0a",
   "metadata": {},
   "source": [
    "We can see that the ranks are not in chronological order. People with rank 6 have the highest points followed by rank 7 and 2. We can rearrange rank according to Points Rewarded and aggregate it before joining."
   ]
  },
  {
   "cell_type": "code",
   "execution_count": 21,
   "id": "81ecdf7f",
   "metadata": {},
   "outputs": [
    {
     "data": {
      "image/png": "[encoded data removed]",
      "text/plain": [
       "<Figure size 1296x288 with 1 Axes>"
      ]
     },
     "metadata": {
      "needs_background": "light"
     },
     "output_type": "display_data"
    }
   ],
   "source": [
    "import seaborn as sns\n",
    "import matplotlib.pyplot as plt\n",
    "plt.figure(figsize=(18,4))\n",
    "sns.barplot(x = 'PublicRank', y = 'Points Reward',data = result_comp, order = ['rank 6','rank 7','rank 2','rank 8','rank 9','rank na','rank 3','rank 10','rank 4','rank 1','rank 11','rank 5'])\n",
    "plt.show()"
   ]
  },
  {
   "cell_type": "code",
   "execution_count": 22,
   "id": "832a7b49",
   "metadata": {},
   "outputs": [
    {
     "data": {
      "text/plain": [
       "rank na    71.240605\n",
       "rank 11     9.613919\n",
       "rank 1      5.244518\n",
       "rank 10     3.659014\n",
       "rank 2      2.460620\n",
       "rank 9      1.748173\n",
       "rank 5      1.643159\n",
       "rank 8      1.313703\n",
       "rank 7      0.988366\n",
       "rank 6      0.862761\n",
       "rank 3      0.720684\n",
       "rank 4      0.504479\n",
       "Name: PublicRank, dtype: float64"
      ]
     },
     "execution_count": 22,
     "metadata": {},
     "output_type": "execute_result"
    }
   ],
   "source": [
    "result_comp['PublicRank'].value_counts(normalize = True) * 100"
   ]
  },
  {
   "cell_type": "code",
   "execution_count": 23,
   "id": "a6a9a42d",
   "metadata": {},
   "outputs": [],
   "source": [
    "dict1 = {'rank 6':1, \n",
    "         'rank 7':2,\n",
    "         'rank 2':3,\n",
    "         'rank 8':4,\n",
    "         'rank 9':5,\n",
    "         'rank 3':6,\n",
    "         'rank 10':7,\n",
    "         'rank 4':8,\n",
    "         'rank 1':9,\n",
    "         'rank 11':10,\n",
    "         'rank 5':11,\n",
    "         'rank na': -999\n",
    "        } \n",
    "result_comp['PublicRank'] = result_comp['PublicRank'].map(dict1)"
   ]
  },
  {
   "cell_type": "code",
   "execution_count": 24,
   "id": "1800ece1",
   "metadata": {},
   "outputs": [
    {
     "data": {
      "image/png": "[encoded data removed]",
      "text/plain": [
       "<Figure size 1296x288 with 1 Axes>"
      ]
     },
     "metadata": {
      "needs_background": "light"
     },
     "output_type": "display_data"
    }
   ],
   "source": [
    "plt.figure(figsize=(18,4))\n",
    "sns.barplot(x = 'PublicRank', y = 'Points Reward',data = result_comp, order = [1,2,3,4,5,6,7,8,9,10,11])\n",
    "plt.show()"
   ]
  },
  {
   "cell_type": "markdown",
   "id": "4b80e0ab",
   "metadata": {},
   "source": [
    "We have to predict the user activity in the future so we will also create a feature by frequency encoding the rank. So our model will know if the rank is null in the future for a certain value of other features."
   ]
  },
  {
   "cell_type": "code",
   "execution_count": 25,
   "id": "137fc96f",
   "metadata": {},
   "outputs": [],
   "source": [
    "pr = result_comp['PublicRank'].value_counts()/len(result_comp['PublicRank'])\n",
    "pr = pr.to_dict()\n",
    "result_comp['PublicRank_Freq'] = result_comp['PublicRank'].map(pr) "
   ]
  },
  {
   "cell_type": "markdown",
   "id": "d8cb9fef",
   "metadata": {},
   "source": [
    "### Secret Code\n",
    "Secret Code is a special code someone has to enter a competition. We can see that very few people have the special code. We can calculate the sum of the secret code for number of people in the aggregate function to get a measure of how many people have a code."
   ]
  },
  {
   "cell_type": "code",
   "execution_count": 26,
   "id": "2dd2ff54",
   "metadata": {},
   "outputs": [
    {
     "data": {
      "text/plain": [
       "<AxesSubplot:xlabel='SecretCode', ylabel='count'>"
      ]
     },
     "execution_count": 26,
     "metadata": {},
     "output_type": "execute_result"
    },
    {
     "data": {
      "image/png": "[encoded data removed]",
      "text/plain": [
       "<Figure size 432x288 with 1 Axes>"
      ]
     },
     "metadata": {
      "needs_background": "light"
     },
     "output_type": "display_data"
    }
   ],
   "source": [
    "sns.countplot(data = result_comp, x = 'SecretCode')"
   ]
  },
  {
   "cell_type": "code",
   "execution_count": 27,
   "id": "9cf65913",
   "metadata": {},
   "outputs": [
    {
     "data": {
      "image/png": "[encoded data removed]",
      "text/plain": [
       "<Figure size 1440x432 with 1 Axes>"
      ]
     },
     "metadata": {
      "needs_background": "light"
     },
     "output_type": "display_data"
    }
   ],
   "source": [
    "import seaborn as sns\n",
    "import matplotlib.pyplot as plt\n",
    "plt.figure(figsize=(20,6))\n",
    "sns.barplot(x = 'Country', y = 'Points Reward',data = result_comp)\n",
    "plt.show()"
   ]
  },
  {
   "cell_type": "markdown",
   "id": "0750703e",
   "metadata": {},
   "source": [
    "### Successful Submission Count\n",
    "This variable is split into groups. Number of submissions are grouped in groups of 10. Count 3 does not neccesarily mean that users with count 3 made 30-40 submissions. This field is masked"
   ]
  },
  {
   "cell_type": "code",
   "execution_count": 1672,
   "id": "7cc74d00",
   "metadata": {},
   "outputs": [],
   "source": [
    "result_comp['Successful Submission Count'].fillna('count 0', inplace = True)"
   ]
  },
  {
   "cell_type": "code",
   "execution_count": 1673,
   "id": "522b7ee4",
   "metadata": {},
   "outputs": [
    {
     "data": {
      "image/png": "[encoded data removed]",
      "text/plain": [
       "<Figure size 1296x288 with 1 Axes>"
      ]
     },
     "metadata": {},
     "output_type": "display_data"
    }
   ],
   "source": [
    "plt.figure(figsize=(18,4))\n",
    "sns.countplot(data = result_comp, x = 'Successful Submission Count')\n",
    "plt.show()"
   ]
  },
  {
   "cell_type": "markdown",
   "id": "81ccfc86",
   "metadata": {},
   "source": [
    "As we have to predict user activity we will create a feature of frequency of occeunce of submission counts. "
   ]
  },
  {
   "cell_type": "code",
   "execution_count": 1678,
   "id": "1b5cb29f",
   "metadata": {},
   "outputs": [],
   "source": [
    "result_comp['Successful Submission Count'].replace(0,-999, inplace = True)"
   ]
  },
  {
   "cell_type": "code",
   "execution_count": 1679,
   "id": "191488b5",
   "metadata": {},
   "outputs": [],
   "source": [
    "sc = result_comp['Successful Submission Count'].value_counts()/len(result_comp['Successful Submission Count'])\n",
    "sc = sc.to_dict()\n",
    "result_comp['Successful Submission Count_Freq'] = result_comp['Successful Submission Count'].map(sc)"
   ]
  },
  {
   "cell_type": "code",
   "execution_count": 1681,
   "id": "bbce1a60",
   "metadata": {},
   "outputs": [
    {
     "data": {
      "text/html": [
       "<div>\n",
       "<style scoped>\n",
       "    .dataframe tbody tr th:only-of-type {\n",
       "        vertical-align: middle;\n",
       "    }\n",
       "\n",
       "    .dataframe tbody tr th {\n",
       "        vertical-align: top;\n",
       "    }\n",
       "\n",
       "    .dataframe thead th {\n",
       "        text-align: right;\n",
       "    }\n",
       "</style>\n",
       "<table border=\"1\" class=\"dataframe\">\n",
       "  <thead>\n",
       "    <tr style=\"text-align: right;\">\n",
       "      <th></th>\n",
       "      <th>Successful Submission Count_Freq</th>\n",
       "    </tr>\n",
       "  </thead>\n",
       "  <tbody>\n",
       "    <tr>\n",
       "      <th>0</th>\n",
       "      <td>0.189210</td>\n",
       "    </tr>\n",
       "    <tr>\n",
       "      <th>1</th>\n",
       "      <td>0.667682</td>\n",
       "    </tr>\n",
       "    <tr>\n",
       "      <th>2</th>\n",
       "      <td>0.189210</td>\n",
       "    </tr>\n",
       "    <tr>\n",
       "      <th>3</th>\n",
       "      <td>0.667682</td>\n",
       "    </tr>\n",
       "    <tr>\n",
       "      <th>4</th>\n",
       "      <td>0.667682</td>\n",
       "    </tr>\n",
       "    <tr>\n",
       "      <th>5</th>\n",
       "      <td>0.667682</td>\n",
       "    </tr>\n",
       "    <tr>\n",
       "      <th>6</th>\n",
       "      <td>0.667682</td>\n",
       "    </tr>\n",
       "    <tr>\n",
       "      <th>7</th>\n",
       "      <td>0.189210</td>\n",
       "    </tr>\n",
       "    <tr>\n",
       "      <th>8</th>\n",
       "      <td>0.667682</td>\n",
       "    </tr>\n",
       "    <tr>\n",
       "      <th>9</th>\n",
       "      <td>0.667682</td>\n",
       "    </tr>\n",
       "  </tbody>\n",
       "</table>\n",
       "</div>"
      ],
      "text/plain": [
       "   Successful Submission Count_Freq\n",
       "0                          0.189210\n",
       "1                          0.667682\n",
       "2                          0.189210\n",
       "3                          0.667682\n",
       "4                          0.667682\n",
       "5                          0.667682\n",
       "6                          0.667682\n",
       "7                          0.189210\n",
       "8                          0.667682\n",
       "9                          0.667682"
      ]
     },
     "execution_count": 1681,
     "metadata": {},
     "output_type": "execute_result"
    }
   ],
   "source": [
    "result_comp[['Successful Submission Count_Freq']].head(10)"
   ]
  },
  {
   "cell_type": "markdown",
   "id": "15743694",
   "metadata": {},
   "source": [
    "### Features\n",
    "A category the competition falls into. This field is masked."
   ]
  },
  {
   "cell_type": "code",
   "execution_count": 1682,
   "id": "2072a758",
   "metadata": {
    "scrolled": true
   },
   "outputs": [
    {
     "data": {
      "text/html": [
       "<div>\n",
       "<style scoped>\n",
       "    .dataframe tbody tr th:only-of-type {\n",
       "        vertical-align: middle;\n",
       "    }\n",
       "\n",
       "    .dataframe tbody tr th {\n",
       "        vertical-align: top;\n",
       "    }\n",
       "\n",
       "    .dataframe thead th {\n",
       "        text-align: right;\n",
       "    }\n",
       "</style>\n",
       "<table border=\"1\" class=\"dataframe\">\n",
       "  <thead>\n",
       "    <tr style=\"text-align: right;\">\n",
       "      <th></th>\n",
       "      <th>FeatureA</th>\n",
       "      <th>FeatureB</th>\n",
       "      <th>FeatureC</th>\n",
       "      <th>FeatureD</th>\n",
       "      <th>FeatureE</th>\n",
       "    </tr>\n",
       "  </thead>\n",
       "  <tbody>\n",
       "    <tr>\n",
       "      <th>0</th>\n",
       "      <td>[3, 2]</td>\n",
       "      <td>[]</td>\n",
       "      <td>6.0</td>\n",
       "      <td>2</td>\n",
       "      <td>[2]</td>\n",
       "    </tr>\n",
       "    <tr>\n",
       "      <th>1</th>\n",
       "      <td>[1]</td>\n",
       "      <td>[9]</td>\n",
       "      <td>2.0</td>\n",
       "      <td>3</td>\n",
       "      <td>[1, 5]</td>\n",
       "    </tr>\n",
       "    <tr>\n",
       "      <th>2</th>\n",
       "      <td>[3, 2]</td>\n",
       "      <td>[]</td>\n",
       "      <td>6.0</td>\n",
       "      <td>2</td>\n",
       "      <td>[2]</td>\n",
       "    </tr>\n",
       "    <tr>\n",
       "      <th>3</th>\n",
       "      <td>[1]</td>\n",
       "      <td>[]</td>\n",
       "      <td>30.0</td>\n",
       "      <td>2</td>\n",
       "      <td>[1]</td>\n",
       "    </tr>\n",
       "    <tr>\n",
       "      <th>4</th>\n",
       "      <td>[1]</td>\n",
       "      <td>[]</td>\n",
       "      <td>37.0</td>\n",
       "      <td>2</td>\n",
       "      <td>[1]</td>\n",
       "    </tr>\n",
       "    <tr>\n",
       "      <th>...</th>\n",
       "      <td>...</td>\n",
       "      <td>...</td>\n",
       "      <td>...</td>\n",
       "      <td>...</td>\n",
       "      <td>...</td>\n",
       "    </tr>\n",
       "    <tr>\n",
       "      <th>48560</th>\n",
       "      <td>[1]</td>\n",
       "      <td>[]</td>\n",
       "      <td>35.0</td>\n",
       "      <td>2</td>\n",
       "      <td>[1]</td>\n",
       "    </tr>\n",
       "    <tr>\n",
       "      <th>48561</th>\n",
       "      <td>[1]</td>\n",
       "      <td>[]</td>\n",
       "      <td>35.0</td>\n",
       "      <td>2</td>\n",
       "      <td>[1]</td>\n",
       "    </tr>\n",
       "    <tr>\n",
       "      <th>48562</th>\n",
       "      <td>[1]</td>\n",
       "      <td>[]</td>\n",
       "      <td>35.0</td>\n",
       "      <td>2</td>\n",
       "      <td>[1]</td>\n",
       "    </tr>\n",
       "    <tr>\n",
       "      <th>48563</th>\n",
       "      <td>[1]</td>\n",
       "      <td>[]</td>\n",
       "      <td>35.0</td>\n",
       "      <td>2</td>\n",
       "      <td>[1]</td>\n",
       "    </tr>\n",
       "    <tr>\n",
       "      <th>48564</th>\n",
       "      <td>[1]</td>\n",
       "      <td>[]</td>\n",
       "      <td>35.0</td>\n",
       "      <td>2</td>\n",
       "      <td>[1]</td>\n",
       "    </tr>\n",
       "  </tbody>\n",
       "</table>\n",
       "<p>48565 rows × 5 columns</p>\n",
       "</div>"
      ],
      "text/plain": [
       "      FeatureA FeatureB  FeatureC  FeatureD FeatureE\n",
       "0       [3, 2]       []       6.0         2      [2]\n",
       "1          [1]      [9]       2.0         3   [1, 5]\n",
       "2       [3, 2]       []       6.0         2      [2]\n",
       "3          [1]       []      30.0         2      [1]\n",
       "4          [1]       []      37.0         2      [1]\n",
       "...        ...      ...       ...       ...      ...\n",
       "48560      [1]       []      35.0         2      [1]\n",
       "48561      [1]       []      35.0         2      [1]\n",
       "48562      [1]       []      35.0         2      [1]\n",
       "48563      [1]       []      35.0         2      [1]\n",
       "48564      [1]       []      35.0         2      [1]\n",
       "\n",
       "[48565 rows x 5 columns]"
      ]
     },
     "execution_count": 1682,
     "metadata": {},
     "output_type": "execute_result"
    }
   ],
   "source": [
    "result_comp[['FeatureA','FeatureB','FeatureC','FeatureD','FeatureE']]"
   ]
  },
  {
   "cell_type": "code",
   "execution_count": 1683,
   "id": "d7727445",
   "metadata": {},
   "outputs": [],
   "source": [
    "result_comp['FeatureC'].fillna(result_comp['FeatureC'].mode()[0], inplace = True)"
   ]
  },
  {
   "cell_type": "code",
   "execution_count": 1684,
   "id": "e77c8c7e",
   "metadata": {},
   "outputs": [
    {
     "data": {
      "image/png": "[encoded data removed]",
      "text/plain": [
       "<Figure size 1296x288 with 1 Axes>"
      ]
     },
     "metadata": {},
     "output_type": "display_data"
    }
   ],
   "source": [
    "plt.figure(figsize=(18,4))\n",
    "sns.countplot(data = result_comp, x = 'FeatureC')\n",
    "plt.show()"
   ]
  },
  {
   "cell_type": "markdown",
   "id": "321fb95f",
   "metadata": {},
   "source": [
    "* Feature C is a categorical variable but has continuous values. Due to the high dimenstionality of Feature C we will use binary encoding to encode  feature a,b,c,e. \n",
    "\n",
    "* **Binary encoding -** Binary encoding is a combination of Hash encoding and one-hot encoding. In this encoding scheme, the categorical feature is first converted into numerical using an ordinal encoder. Then the numbers are transformed in the binary number. After that binary value is split into different columns.\n",
    "It works well when there are high number of categories. Like in the case of Feature C.\n",
    "\n"
   ]
  },
  {
   "cell_type": "code",
   "execution_count": 1685,
   "id": "de9389d6",
   "metadata": {},
   "outputs": [],
   "source": [
    "import category_encoders as ce\n",
    "encoder= ce.BinaryEncoder(cols = ['FeatureA', 'FeatureB', 'FeatureE', 'FeatureC', 'FeatureD'],return_df=True)\n",
    "result_comp = encoder.fit_transform(result_comp)"
   ]
  },
  {
   "cell_type": "markdown",
   "id": "bfab0a40",
   "metadata": {},
   "source": [
    "### Comp Time\n",
    "These features give us the day,year and month of when the competition started and ended"
   ]
  },
  {
   "cell_type": "code",
   "execution_count": 1686,
   "id": "36b0450d",
   "metadata": {},
   "outputs": [
    {
     "data": {
      "text/html": [
       "<div>\n",
       "<style scoped>\n",
       "    .dataframe tbody tr th:only-of-type {\n",
       "        vertical-align: middle;\n",
       "    }\n",
       "\n",
       "    .dataframe tbody tr th {\n",
       "        vertical-align: top;\n",
       "    }\n",
       "\n",
       "    .dataframe thead th {\n",
       "        text-align: right;\n",
       "    }\n",
       "</style>\n",
       "<table border=\"1\" class=\"dataframe\">\n",
       "  <thead>\n",
       "    <tr style=\"text-align: right;\">\n",
       "      <th></th>\n",
       "      <th>Number of NA</th>\n",
       "      <th>Percent NA</th>\n",
       "    </tr>\n",
       "  </thead>\n",
       "  <tbody>\n",
       "    <tr>\n",
       "      <th>CompEndTime Day_of_week</th>\n",
       "      <td>9182</td>\n",
       "      <td>18.91</td>\n",
       "    </tr>\n",
       "    <tr>\n",
       "      <th>CompEndTime Month</th>\n",
       "      <td>9182</td>\n",
       "      <td>18.91</td>\n",
       "    </tr>\n",
       "    <tr>\n",
       "      <th>Country</th>\n",
       "      <td>8412</td>\n",
       "      <td>17.32</td>\n",
       "    </tr>\n",
       "    <tr>\n",
       "      <th>SubmissionLimitPerDay</th>\n",
       "      <td>712</td>\n",
       "      <td>1.47</td>\n",
       "    </tr>\n",
       "  </tbody>\n",
       "</table>\n",
       "</div>"
      ],
      "text/plain": [
       "                         Number of NA  Percent NA\n",
       "CompEndTime Day_of_week          9182       18.91\n",
       "CompEndTime Month                9182       18.91\n",
       "Country                          8412       17.32\n",
       "SubmissionLimitPerDay             712        1.47"
      ]
     },
     "execution_count": 1686,
     "metadata": {},
     "output_type": "execute_result"
    }
   ],
   "source": [
    "#Check Null values\n",
    "df_na = assess_NA(result_comp)\n",
    "df_na"
   ]
  },
  {
   "cell_type": "code",
   "execution_count": 1687,
   "id": "a74c5d4d",
   "metadata": {},
   "outputs": [],
   "source": [
    "result_comp['CompEndTime Day_of_week'].fillna(result_comp['CompEndTime Day_of_week'].mean(), inplace = True)\n",
    "result_comp['CompEndTime Month'].fillna(result_comp['CompEndTime Month'].mean(), inplace = True)\n"
   ]
  },
  {
   "cell_type": "code",
   "execution_count": 1688,
   "id": "c6e87bd9",
   "metadata": {},
   "outputs": [
    {
     "data": {
      "text/plain": [
       "3             19716\n",
       "2             15284\n",
       "not mapped     9182\n",
       "4              2437\n",
       "1              1946\n",
       "Name: CompEndTime Year, dtype: int64"
      ]
     },
     "execution_count": 1688,
     "metadata": {},
     "output_type": "execute_result"
    }
   ],
   "source": [
    "result_comp['CompEndTime Year'].value_counts()"
   ]
  },
  {
   "cell_type": "markdown",
   "id": "54a922b7",
   "metadata": {},
   "source": [
    "**Created features from competition start and end time that record competition duration.**"
   ]
  },
  {
   "cell_type": "code",
   "execution_count": 1689,
   "id": "83c2f324",
   "metadata": {},
   "outputs": [],
   "source": [
    "result_comp['CompEndTime Year'].replace('not mapped', 2.5, inplace=True)"
   ]
  },
  {
   "cell_type": "code",
   "execution_count": 1690,
   "id": "103f1b6d",
   "metadata": {},
   "outputs": [],
   "source": [
    "result_comp['CompEndTime Year'] = result_comp['CompEndTime Year'].astype(int)\n",
    "result_comp['Comp_Duration Year'] = result_comp['CompEndTime Year'] - result_comp['CompStartTime Year'] \n",
    "result_comp['Comp_Duration Year'].replace(-1, 6, inplace=True)"
   ]
  },
  {
   "cell_type": "code",
   "execution_count": 33,
   "id": "74c2efd6",
   "metadata": {},
   "outputs": [],
   "source": [
    "result_comp['CompDuration Month'] = result_comp['CompEndTime Month'] - result_comp['CompStartTime Month'] \n",
    "result_comp['CompDuration Month'] = np.where(result_comp['CompDuration Month'] < 0, 12 + result_comp['CompDuration Month'], result_comp['CompDuration Month'])"
   ]
  },
  {
   "cell_type": "code",
   "execution_count": 34,
   "id": "e68735f5",
   "metadata": {},
   "outputs": [],
   "source": [
    "result_comp['CompDuration Day'] = result_comp['CompEndTime Day_of_week'] - result_comp['CompStartTime Day_of_week']\n",
    "result_comp['CompDuration Day'] = np.where(result_comp['CompDuration Day'] < 0, 7 + result_comp['CompDuration Day'], result_comp['CompDuration Day'])"
   ]
  },
  {
   "cell_type": "code",
   "execution_count": 1693,
   "id": "e24e3f6a",
   "metadata": {},
   "outputs": [],
   "source": [
    "result_comp.drop(['CompEndTime Month', 'CompStartTime Month', 'CompEndTime Day_of_week', 'CompStartTime Day_of_week'], axis = 1, inplace = True)"
   ]
  },
  {
   "cell_type": "markdown",
   "id": "eeadaeee",
   "metadata": {},
   "source": [
    "### Submission Limit Per Day\n",
    "Number of submissions per day limit per competition"
   ]
  },
  {
   "cell_type": "code",
   "execution_count": 1694,
   "id": "04595fc2",
   "metadata": {},
   "outputs": [
    {
     "data": {
      "text/html": [
       "<div>\n",
       "<style scoped>\n",
       "    .dataframe tbody tr th:only-of-type {\n",
       "        vertical-align: middle;\n",
       "    }\n",
       "\n",
       "    .dataframe tbody tr th {\n",
       "        vertical-align: top;\n",
       "    }\n",
       "\n",
       "    .dataframe thead th {\n",
       "        text-align: right;\n",
       "    }\n",
       "</style>\n",
       "<table border=\"1\" class=\"dataframe\">\n",
       "  <thead>\n",
       "    <tr style=\"text-align: right;\">\n",
       "      <th></th>\n",
       "      <th>SubmissionLimitPerDay</th>\n",
       "      <th>Successful Submission Count</th>\n",
       "    </tr>\n",
       "  </thead>\n",
       "  <tbody>\n",
       "    <tr>\n",
       "      <th>0</th>\n",
       "      <td>30.0</td>\n",
       "      <td>10</td>\n",
       "    </tr>\n",
       "    <tr>\n",
       "      <th>1</th>\n",
       "      <td>10.0</td>\n",
       "      <td>-999</td>\n",
       "    </tr>\n",
       "    <tr>\n",
       "      <th>2</th>\n",
       "      <td>30.0</td>\n",
       "      <td>10</td>\n",
       "    </tr>\n",
       "    <tr>\n",
       "      <th>3</th>\n",
       "      <td>200.0</td>\n",
       "      <td>-999</td>\n",
       "    </tr>\n",
       "    <tr>\n",
       "      <th>4</th>\n",
       "      <td>30.0</td>\n",
       "      <td>-999</td>\n",
       "    </tr>\n",
       "    <tr>\n",
       "      <th>...</th>\n",
       "      <td>...</td>\n",
       "      <td>...</td>\n",
       "    </tr>\n",
       "    <tr>\n",
       "      <th>48560</th>\n",
       "      <td>50.0</td>\n",
       "      <td>10</td>\n",
       "    </tr>\n",
       "    <tr>\n",
       "      <th>48561</th>\n",
       "      <td>50.0</td>\n",
       "      <td>10</td>\n",
       "    </tr>\n",
       "    <tr>\n",
       "      <th>48562</th>\n",
       "      <td>50.0</td>\n",
       "      <td>-999</td>\n",
       "    </tr>\n",
       "    <tr>\n",
       "      <th>48563</th>\n",
       "      <td>50.0</td>\n",
       "      <td>10</td>\n",
       "    </tr>\n",
       "    <tr>\n",
       "      <th>48564</th>\n",
       "      <td>50.0</td>\n",
       "      <td>-999</td>\n",
       "    </tr>\n",
       "  </tbody>\n",
       "</table>\n",
       "<p>48565 rows × 2 columns</p>\n",
       "</div>"
      ],
      "text/plain": [
       "       SubmissionLimitPerDay  Successful Submission Count\n",
       "0                       30.0                           10\n",
       "1                       10.0                         -999\n",
       "2                       30.0                           10\n",
       "3                      200.0                         -999\n",
       "4                       30.0                         -999\n",
       "...                      ...                          ...\n",
       "48560                   50.0                           10\n",
       "48561                   50.0                           10\n",
       "48562                   50.0                         -999\n",
       "48563                   50.0                           10\n",
       "48564                   50.0                         -999\n",
       "\n",
       "[48565 rows x 2 columns]"
      ]
     },
     "execution_count": 1694,
     "metadata": {},
     "output_type": "execute_result"
    }
   ],
   "source": [
    "result_comp[['SubmissionLimitPerDay', 'Successful Submission Count']]"
   ]
  },
  {
   "cell_type": "code",
   "execution_count": 1695,
   "id": "b59e77d2",
   "metadata": {},
   "outputs": [
    {
     "data": {
      "text/plain": [
       "30.0     22815\n",
       "10.0     12811\n",
       "100.0     4007\n",
       "200.0     3052\n",
       "5.0       2337\n",
       "20.0      1136\n",
       "50.0      1002\n",
       "4.0        593\n",
       "65.0       100\n",
       "Name: SubmissionLimitPerDay, dtype: int64"
      ]
     },
     "execution_count": 1695,
     "metadata": {},
     "output_type": "execute_result"
    }
   ],
   "source": [
    "result_comp['SubmissionLimitPerDay'].value_counts()\n"
   ]
  },
  {
   "cell_type": "code",
   "execution_count": 1696,
   "id": "bf8dd042",
   "metadata": {},
   "outputs": [
    {
     "data": {
      "image/png": "[encoded data removed]",
      "text/plain": [
       "<Figure size 1296x288 with 1 Axes>"
      ]
     },
     "metadata": {},
     "output_type": "display_data"
    }
   ],
   "source": [
    "plt.figure(figsize=(18,4))\n",
    "sns.countplot(data = result_comp, x = 'SubmissionLimitPerDay')\n",
    "plt.show()"
   ]
  },
  {
   "cell_type": "code",
   "execution_count": 1697,
   "id": "ad16ac84",
   "metadata": {},
   "outputs": [],
   "source": [
    "result_comp['SubmissionLimitPerDay'].fillna(result_comp['SubmissionLimitPerDay'].mean(), inplace = True)"
   ]
  },
  {
   "cell_type": "markdown",
   "id": "4da002b4",
   "metadata": {},
   "source": [
    "### Country and Comp ID\n",
    "* Competition ID - his is the ID of the competition or hackathon\n",
    "* Country -  Competition host is from or where hackathon is being hosted"
   ]
  },
  {
   "cell_type": "code",
   "execution_count": 28,
   "id": "2ff00bfc",
   "metadata": {},
   "outputs": [
    {
     "data": {
      "image/png": "[encoded data removed]",
      "text/plain": [
       "<Figure size 1440x432 with 1 Axes>"
      ]
     },
     "metadata": {
      "needs_background": "light"
     },
     "output_type": "display_data"
    }
   ],
   "source": [
    "import seaborn as sns\n",
    "import matplotlib.pyplot as plt\n",
    "plt.figure(figsize=(20,6))\n",
    "sns.barplot(x = 'Country', y = 'Points Reward',data = result_comp)\n",
    "plt.show()"
   ]
  },
  {
   "cell_type": "code",
   "execution_count": 29,
   "id": "5553b871",
   "metadata": {},
   "outputs": [
    {
     "data": {
      "image/png": "[encoded data removed]",
      "text/plain": [
       "<Figure size 1440x432 with 1 Axes>"
      ]
     },
     "metadata": {
      "needs_background": "light"
     },
     "output_type": "display_data"
    }
   ],
   "source": [
    "import seaborn as sns\n",
    "import matplotlib.pyplot as plt\n",
    "plt.figure(figsize=(20,6))\n",
    "sns.barplot(x = 'Country', y = 'SubmissionLimitPerDay',data = result_comp)\n",
    "plt.show()\n"
   ]
  },
  {
   "cell_type": "code",
   "execution_count": 35,
   "id": "d84131e9",
   "metadata": {},
   "outputs": [
    {
     "data": {
      "image/png": "[encoded data removed]",
      "text/plain": [
       "<Figure size 1440x432 with 1 Axes>"
      ]
     },
     "metadata": {
      "needs_background": "light"
     },
     "output_type": "display_data"
    }
   ],
   "source": [
    "import seaborn as sns\n",
    "import matplotlib.pyplot as plt\n",
    "plt.figure(figsize=(20,6))\n",
    "sns.barplot(x = 'Country', y = 'CompDuration Month',data = result_comp)\n",
    "plt.show()"
   ]
  },
  {
   "cell_type": "markdown",
   "id": "b223f7f4",
   "metadata": {},
   "source": [
    "* We can see from the graphs how contries are related to points rewarded, submission limits and competition durations.\n",
    "* We can see relationships like countries where competition duration is more, submission limit is less as the user get's more time to work on his submission. \n",
    "* In order to capture these relationships we will perform one hot encoding on the contries column and we will find out the sum of the one hot encoded columns to preserve its relationship with other features."
   ]
  },
  {
   "cell_type": "code",
   "execution_count": 1701,
   "id": "13d3b78e",
   "metadata": {},
   "outputs": [],
   "source": [
    "one_hot = pd.get_dummies(result_comp['Country'])\n",
    "result_comp.drop('Country',axis = 1, inplace= True)"
   ]
  },
  {
   "cell_type": "code",
   "execution_count": 1702,
   "id": "1962687a",
   "metadata": {},
   "outputs": [],
   "source": [
    "result_comp = result_comp.join(one_hot)"
   ]
  },
  {
   "cell_type": "markdown",
   "id": "97e871bd",
   "metadata": {},
   "source": [
    "* As CompID has high dimensionality we will use base encoding to encode its values.\n",
    "* For Binary encoding, the Base is 2 which means it converts the numerical values of a category into its respective Binary form. If you want to change the Base of encoding scheme you may use Base N encoder. In the case when categories are more and binary encoding is not able to handle the dimensionality then we can use a larger base such as 4 or 8."
   ]
  },
  {
   "cell_type": "code",
   "execution_count": 1703,
   "id": "838a098b",
   "metadata": {},
   "outputs": [
    {
     "data": {
      "text/plain": [
       "137"
      ]
     },
     "execution_count": 1703,
     "metadata": {},
     "output_type": "execute_result"
    }
   ],
   "source": [
    "result_comp['CompID'].nunique()"
   ]
  },
  {
   "cell_type": "code",
   "execution_count": 1704,
   "id": "7b083f51",
   "metadata": {},
   "outputs": [],
   "source": [
    "import category_encoders as ce\n",
    "encoder1= ce.BaseNEncoder(return_df=True,base=2)\n",
    "enc1 = encoder1.fit_transform(result_comp['CompID'])\n",
    "result_comp.drop('CompID',axis = 1, inplace= True)\n",
    "result_comp = result_comp.join(enc1)"
   ]
  },
  {
   "cell_type": "markdown",
   "id": "4ead5562",
   "metadata": {},
   "source": [
    "### Now we will aggregate the rows according to the analysis done, and join our table to our originial dataset."
   ]
  },
  {
   "cell_type": "code",
   "execution_count": 1705,
   "id": "df13c879",
   "metadata": {},
   "outputs": [
    {
     "data": {
      "text/plain": [
       "Index(['UserID', 'PublicRank', 'Successful Submission Count',\n",
       "       'CompPartCreated Year', 'CompPartCreated Month',\n",
       "       'CompPartCreated Day_of_week', 'FeatureA_0', 'FeatureA_1', 'FeatureA_2',\n",
       "       'FeatureA_3', 'FeatureA_4', 'FeatureB_0', 'FeatureB_1', 'FeatureB_2',\n",
       "       'FeatureB_3', 'FeatureC_0', 'FeatureC_1', 'FeatureC_2', 'FeatureC_3',\n",
       "       'FeatureC_4', 'FeatureC_5', 'Kind', 'Points Reward', 'FeatureD_0',\n",
       "       'FeatureD_1', 'SecretCode', 'SubmissionLimitPerDay', 'FeatureE_0',\n",
       "       'FeatureE_1', 'FeatureE_2', 'FeatureE_3', 'FeatureE_4',\n",
       "       'CompEndTime Year', 'CompStartTime Year', 'PublicRank_Freq',\n",
       "       'Successful Submission Count_Freq', 'Comp_Duration Year',\n",
       "       'CompDuration Month', 'CompDuration Day', 'ID_0NU5', 'ID_2GBE',\n",
       "       'ID_5OWN', 'ID_60OO', 'ID_ABPY', 'ID_ACV0', 'ID_ARVG', 'ID_CKI7',\n",
       "       'ID_CXB1', 'ID_DMRM', 'ID_FC41', 'ID_GU74', 'ID_HIN5', 'ID_HIXK',\n",
       "       'ID_HWRH', 'ID_I1L9', 'ID_K86O', 'ID_NVM2', 'ID_OS8P', 'ID_P0A0',\n",
       "       'ID_RAZW', 'ID_U4GT', 'CompID_0', 'CompID_1', 'CompID_2', 'CompID_3',\n",
       "       'CompID_4', 'CompID_5', 'CompID_6', 'CompID_7'],\n",
       "      dtype='object')"
      ]
     },
     "execution_count": 1705,
     "metadata": {},
     "output_type": "execute_result"
    }
   ],
   "source": [
    "result_comp.columns"
   ]
  },
  {
   "cell_type": "code",
   "execution_count": 1706,
   "id": "abbfc6a2",
   "metadata": {},
   "outputs": [],
   "source": [
    "result_comp_final = result_comp.groupby(['UserID']).agg({'PublicRank':[renamer(np.size,'PublicRank_Count')],\n",
    "                                           'PublicRank_Freq':[renamer(np.mean,'PublicRank_Freq')],\n",
    "                                           'Successful Submission Count':[renamer(np.size,'Successful Submission Count_Size')],\n",
    "                                           'Successful Submission Count_Freq':[renamer(np.mean,'Successful Submission Count_Freq')],\n",
    "                                           'Comp_Duration Year':[renamer(np.mean,'CompDuration Year_Mean')],\n",
    "                                           'CompDuration Month':[renamer(np.mean,'Comp_Duration Month_Mean')],\n",
    "                                           'CompDuration Day':[renamer(np.mean,'CompDuration Day_Mean')],\n",
    "                                           'CompEndTime Year':[renamer(np.sum,'CompEndTime Year')],\n",
    "                                           'CompStartTime Year':[renamer(np.mean,'CompStartTime Year_Mean')],\n",
    "                                           'FeatureA_0':[renamer(np.sum,'FeatureA_0')],\n",
    "                                           'FeatureA_1':[renamer(np.sum,'FeatureA_1')],\n",
    "                                           'FeatureA_2':[renamer(np.sum,'FeatureA_2')],\n",
    "                                           'FeatureA_3':[renamer(np.sum,'FeatureA_3')],\n",
    "                                           'FeatureA_4':[renamer(np.sum,'FeatureA_4')],\n",
    "                                           'FeatureB_0':[renamer(np.sum,'FeatureB_0')],\n",
    "                                           'FeatureB_1':[renamer(np.sum,'FeatureB_1')],\n",
    "                                           'FeatureB_2':[renamer(np.sum,'FeatureB_2')],\n",
    "                                           'FeatureB_3':[renamer(np.sum,'FeatureB_3')],\n",
    "                                           'FeatureC_0':[renamer(np.sum,'FeatureC_0')],\n",
    "                                           'FeatureC_1':[renamer(np.sum,'FeatureC_1')],\n",
    "                                           'FeatureC_2':[renamer(np.sum,'FeatureC_2')],\n",
    "                                           'FeatureC_3':[renamer(np.sum,'FeatureC_3')],\n",
    "                                           'FeatureC_4':[renamer(np.sum,'FeatureC_4')],\n",
    "                                           'FeatureC_5':[renamer(np.sum,'FeatureC_5')],\n",
    "                                           'Kind':[renamer(lambda x: pd.Series.mode(x)[0],'Kind')],\n",
    "                                           'Points Reward':[renamer(np.mean,'Points Reward')],\n",
    "                                           'FeatureD_0':[renamer(np.mean,'FeatureD_0')],\n",
    "                                           'FeatureD_1':[renamer(np.mean,'FeatureD_1')],\n",
    "                                           'FeatureE_0':[renamer(np.sum,'FeatureE_0')],\n",
    "                                           'FeatureE_1':[renamer(np.sum,'FeatureE_1')],\n",
    "                                           'FeatureE_2':[renamer(np.sum,'FeatureE_2')],\n",
    "                                           'FeatureE_3':[renamer(np.sum,'FeatureE_3')],\n",
    "                                           'FeatureE_4':[renamer(np.sum,'FeatureE_4')],\n",
    "                                           'CompID_0':[renamer(np.sum,'CompID_0')],\n",
    "                                           'CompID_1':[renamer(np.sum,'CompID_1')],\n",
    "                                           'CompID_2':[renamer(np.sum,'CompID_2')],\n",
    "                                           'CompID_3':[renamer(np.sum,'CompID_3')],\n",
    "                                           'CompID_4':[renamer(np.sum,'CompID_4')],\n",
    "                                           'CompID_5':[renamer(np.sum,'CompID_5')],\n",
    "                                           'CompID_6':[renamer(np.sum,'CompID_6')],\n",
    "                                           'CompID_7':[renamer(np.sum,'CompID_7')] ,            \n",
    "                                           'SecretCode':[renamer(np.sum,'SecretCode')]\n",
    "\n",
    "                                                                                                       \n",
    "                                                    })\n",
    "result_comp_final.columns = result_comp_final.columns.droplevel(level=0)\n",
    "\n",
    "result_comp_final = result_comp_final.reset_index()\n",
    "\n"
   ]
  },
  {
   "cell_type": "markdown",
   "id": "9075d87e",
   "metadata": {},
   "source": [
    "### Join the previously joined train and comment table with the competition tables joined."
   ]
  },
  {
   "cell_type": "code",
   "execution_count": 1707,
   "id": "5d7be8a1",
   "metadata": {},
   "outputs": [],
   "source": [
    "result_train = pd.merge(result,\n",
    "                  result_comp_final,\n",
    "                  left_on = ['User_ID'],\n",
    "                  right_on= ['UserID'],\n",
    "                  how ='left')"
   ]
  },
  {
   "cell_type": "code",
   "execution_count": 1708,
   "id": "8e086699",
   "metadata": {},
   "outputs": [
    {
     "data": {
      "text/html": [
       "<div>\n",
       "<style scoped>\n",
       "    .dataframe tbody tr th:only-of-type {\n",
       "        vertical-align: middle;\n",
       "    }\n",
       "\n",
       "    .dataframe tbody tr th {\n",
       "        vertical-align: top;\n",
       "    }\n",
       "\n",
       "    .dataframe thead th {\n",
       "        text-align: right;\n",
       "    }\n",
       "</style>\n",
       "<table border=\"1\" class=\"dataframe\">\n",
       "  <thead>\n",
       "    <tr style=\"text-align: right;\">\n",
       "      <th></th>\n",
       "      <th>Number of NA</th>\n",
       "      <th>Percent NA</th>\n",
       "    </tr>\n",
       "  </thead>\n",
       "  <tbody>\n",
       "    <tr>\n",
       "      <th>CommentDoW_Mean</th>\n",
       "      <td>225989</td>\n",
       "      <td>86.98</td>\n",
       "    </tr>\n",
       "    <tr>\n",
       "      <th>CommentMonth_Median</th>\n",
       "      <td>225989</td>\n",
       "      <td>86.98</td>\n",
       "    </tr>\n",
       "    <tr>\n",
       "      <th>CommentDoW_Count</th>\n",
       "      <td>225989</td>\n",
       "      <td>86.98</td>\n",
       "    </tr>\n",
       "    <tr>\n",
       "      <th>CommentDoW_Median</th>\n",
       "      <td>225989</td>\n",
       "      <td>86.98</td>\n",
       "    </tr>\n",
       "    <tr>\n",
       "      <th>CommentDoW_Sum</th>\n",
       "      <td>225989</td>\n",
       "      <td>86.98</td>\n",
       "    </tr>\n",
       "    <tr>\n",
       "      <th>CommentYear_Count</th>\n",
       "      <td>225989</td>\n",
       "      <td>86.98</td>\n",
       "    </tr>\n",
       "    <tr>\n",
       "      <th>CommentYear_Mean</th>\n",
       "      <td>225989</td>\n",
       "      <td>86.98</td>\n",
       "    </tr>\n",
       "    <tr>\n",
       "      <th>CommentYear_Median</th>\n",
       "      <td>225989</td>\n",
       "      <td>86.98</td>\n",
       "    </tr>\n",
       "    <tr>\n",
       "      <th>CommentYear_Sum</th>\n",
       "      <td>225989</td>\n",
       "      <td>86.98</td>\n",
       "    </tr>\n",
       "    <tr>\n",
       "      <th>CommentMonth_Mean</th>\n",
       "      <td>225989</td>\n",
       "      <td>86.98</td>\n",
       "    </tr>\n",
       "    <tr>\n",
       "      <th>CommentMonth_Count</th>\n",
       "      <td>225989</td>\n",
       "      <td>86.98</td>\n",
       "    </tr>\n",
       "    <tr>\n",
       "      <th>CommentMonth_Sum</th>\n",
       "      <td>225989</td>\n",
       "      <td>86.98</td>\n",
       "    </tr>\n",
       "    <tr>\n",
       "      <th>UserID_x</th>\n",
       "      <td>225989</td>\n",
       "      <td>86.98</td>\n",
       "    </tr>\n",
       "    <tr>\n",
       "      <th>FeatureE_2</th>\n",
       "      <td>49314</td>\n",
       "      <td>18.98</td>\n",
       "    </tr>\n",
       "    <tr>\n",
       "      <th>Kind</th>\n",
       "      <td>49314</td>\n",
       "      <td>18.98</td>\n",
       "    </tr>\n",
       "    <tr>\n",
       "      <th>FeatureC_5</th>\n",
       "      <td>49314</td>\n",
       "      <td>18.98</td>\n",
       "    </tr>\n",
       "    <tr>\n",
       "      <th>FeatureC_4</th>\n",
       "      <td>49314</td>\n",
       "      <td>18.98</td>\n",
       "    </tr>\n",
       "    <tr>\n",
       "      <th>FeatureC_3</th>\n",
       "      <td>49314</td>\n",
       "      <td>18.98</td>\n",
       "    </tr>\n",
       "    <tr>\n",
       "      <th>FeatureC_2</th>\n",
       "      <td>49314</td>\n",
       "      <td>18.98</td>\n",
       "    </tr>\n",
       "    <tr>\n",
       "      <th>Points Reward</th>\n",
       "      <td>49314</td>\n",
       "      <td>18.98</td>\n",
       "    </tr>\n",
       "    <tr>\n",
       "      <th>FeatureC_1</th>\n",
       "      <td>49314</td>\n",
       "      <td>18.98</td>\n",
       "    </tr>\n",
       "    <tr>\n",
       "      <th>FeatureD_0</th>\n",
       "      <td>49314</td>\n",
       "      <td>18.98</td>\n",
       "    </tr>\n",
       "    <tr>\n",
       "      <th>FeatureD_1</th>\n",
       "      <td>49314</td>\n",
       "      <td>18.98</td>\n",
       "    </tr>\n",
       "    <tr>\n",
       "      <th>FeatureE_0</th>\n",
       "      <td>49314</td>\n",
       "      <td>18.98</td>\n",
       "    </tr>\n",
       "    <tr>\n",
       "      <th>FeatureE_1</th>\n",
       "      <td>49314</td>\n",
       "      <td>18.98</td>\n",
       "    </tr>\n",
       "    <tr>\n",
       "      <th>FeatureA_1</th>\n",
       "      <td>49314</td>\n",
       "      <td>18.98</td>\n",
       "    </tr>\n",
       "    <tr>\n",
       "      <th>FeatureE_3</th>\n",
       "      <td>49314</td>\n",
       "      <td>18.98</td>\n",
       "    </tr>\n",
       "    <tr>\n",
       "      <th>FeatureE_4</th>\n",
       "      <td>49314</td>\n",
       "      <td>18.98</td>\n",
       "    </tr>\n",
       "    <tr>\n",
       "      <th>CompID_0</th>\n",
       "      <td>49314</td>\n",
       "      <td>18.98</td>\n",
       "    </tr>\n",
       "    <tr>\n",
       "      <th>CompID_1</th>\n",
       "      <td>49314</td>\n",
       "      <td>18.98</td>\n",
       "    </tr>\n",
       "    <tr>\n",
       "      <th>FeatureB_3</th>\n",
       "      <td>49314</td>\n",
       "      <td>18.98</td>\n",
       "    </tr>\n",
       "    <tr>\n",
       "      <th>CompID_2</th>\n",
       "      <td>49314</td>\n",
       "      <td>18.98</td>\n",
       "    </tr>\n",
       "    <tr>\n",
       "      <th>CompID_3</th>\n",
       "      <td>49314</td>\n",
       "      <td>18.98</td>\n",
       "    </tr>\n",
       "    <tr>\n",
       "      <th>CompID_4</th>\n",
       "      <td>49314</td>\n",
       "      <td>18.98</td>\n",
       "    </tr>\n",
       "    <tr>\n",
       "      <th>CompID_5</th>\n",
       "      <td>49314</td>\n",
       "      <td>18.98</td>\n",
       "    </tr>\n",
       "    <tr>\n",
       "      <th>CompID_6</th>\n",
       "      <td>49314</td>\n",
       "      <td>18.98</td>\n",
       "    </tr>\n",
       "    <tr>\n",
       "      <th>CompID_7</th>\n",
       "      <td>49314</td>\n",
       "      <td>18.98</td>\n",
       "    </tr>\n",
       "    <tr>\n",
       "      <th>FeatureC_0</th>\n",
       "      <td>49314</td>\n",
       "      <td>18.98</td>\n",
       "    </tr>\n",
       "    <tr>\n",
       "      <th>SecretCode</th>\n",
       "      <td>49314</td>\n",
       "      <td>18.98</td>\n",
       "    </tr>\n",
       "    <tr>\n",
       "      <th>FeatureB_2</th>\n",
       "      <td>49314</td>\n",
       "      <td>18.98</td>\n",
       "    </tr>\n",
       "    <tr>\n",
       "      <th>CompDuration Day_Mean</th>\n",
       "      <td>49314</td>\n",
       "      <td>18.98</td>\n",
       "    </tr>\n",
       "    <tr>\n",
       "      <th>UserID_y</th>\n",
       "      <td>49314</td>\n",
       "      <td>18.98</td>\n",
       "    </tr>\n",
       "    <tr>\n",
       "      <th>PublicRank_Count</th>\n",
       "      <td>49314</td>\n",
       "      <td>18.98</td>\n",
       "    </tr>\n",
       "    <tr>\n",
       "      <th>PublicRank_Freq</th>\n",
       "      <td>49314</td>\n",
       "      <td>18.98</td>\n",
       "    </tr>\n",
       "    <tr>\n",
       "      <th>Successful Submission Count_Size</th>\n",
       "      <td>49314</td>\n",
       "      <td>18.98</td>\n",
       "    </tr>\n",
       "    <tr>\n",
       "      <th>Successful Submission Count_Freq</th>\n",
       "      <td>49314</td>\n",
       "      <td>18.98</td>\n",
       "    </tr>\n",
       "    <tr>\n",
       "      <th>FeatureB_1</th>\n",
       "      <td>49314</td>\n",
       "      <td>18.98</td>\n",
       "    </tr>\n",
       "    <tr>\n",
       "      <th>Comp_Duration Month_Mean</th>\n",
       "      <td>49314</td>\n",
       "      <td>18.98</td>\n",
       "    </tr>\n",
       "    <tr>\n",
       "      <th>CompDuration Year_Mean</th>\n",
       "      <td>49314</td>\n",
       "      <td>18.98</td>\n",
       "    </tr>\n",
       "    <tr>\n",
       "      <th>CompEndTime Year</th>\n",
       "      <td>49314</td>\n",
       "      <td>18.98</td>\n",
       "    </tr>\n",
       "    <tr>\n",
       "      <th>CompStartTime Year_Mean</th>\n",
       "      <td>49314</td>\n",
       "      <td>18.98</td>\n",
       "    </tr>\n",
       "    <tr>\n",
       "      <th>FeatureA_0</th>\n",
       "      <td>49314</td>\n",
       "      <td>18.98</td>\n",
       "    </tr>\n",
       "    <tr>\n",
       "      <th>FeatureA_2</th>\n",
       "      <td>49314</td>\n",
       "      <td>18.98</td>\n",
       "    </tr>\n",
       "    <tr>\n",
       "      <th>FeatureA_3</th>\n",
       "      <td>49314</td>\n",
       "      <td>18.98</td>\n",
       "    </tr>\n",
       "    <tr>\n",
       "      <th>FeatureA_4</th>\n",
       "      <td>49314</td>\n",
       "      <td>18.98</td>\n",
       "    </tr>\n",
       "    <tr>\n",
       "      <th>FeatureB_0</th>\n",
       "      <td>49314</td>\n",
       "      <td>18.98</td>\n",
       "    </tr>\n",
       "  </tbody>\n",
       "</table>\n",
       "</div>"
      ],
      "text/plain": [
       "                                  Number of NA  Percent NA\n",
       "CommentDoW_Mean                         225989       86.98\n",
       "CommentMonth_Median                     225989       86.98\n",
       "CommentDoW_Count                        225989       86.98\n",
       "CommentDoW_Median                       225989       86.98\n",
       "CommentDoW_Sum                          225989       86.98\n",
       "CommentYear_Count                       225989       86.98\n",
       "CommentYear_Mean                        225989       86.98\n",
       "CommentYear_Median                      225989       86.98\n",
       "CommentYear_Sum                         225989       86.98\n",
       "CommentMonth_Mean                       225989       86.98\n",
       "CommentMonth_Count                      225989       86.98\n",
       "CommentMonth_Sum                        225989       86.98\n",
       "UserID_x                                225989       86.98\n",
       "FeatureE_2                               49314       18.98\n",
       "Kind                                     49314       18.98\n",
       "FeatureC_5                               49314       18.98\n",
       "FeatureC_4                               49314       18.98\n",
       "FeatureC_3                               49314       18.98\n",
       "FeatureC_2                               49314       18.98\n",
       "Points Reward                            49314       18.98\n",
       "FeatureC_1                               49314       18.98\n",
       "FeatureD_0                               49314       18.98\n",
       "FeatureD_1                               49314       18.98\n",
       "FeatureE_0                               49314       18.98\n",
       "FeatureE_1                               49314       18.98\n",
       "FeatureA_1                               49314       18.98\n",
       "FeatureE_3                               49314       18.98\n",
       "FeatureE_4                               49314       18.98\n",
       "CompID_0                                 49314       18.98\n",
       "CompID_1                                 49314       18.98\n",
       "FeatureB_3                               49314       18.98\n",
       "CompID_2                                 49314       18.98\n",
       "CompID_3                                 49314       18.98\n",
       "CompID_4                                 49314       18.98\n",
       "CompID_5                                 49314       18.98\n",
       "CompID_6                                 49314       18.98\n",
       "CompID_7                                 49314       18.98\n",
       "FeatureC_0                               49314       18.98\n",
       "SecretCode                               49314       18.98\n",
       "FeatureB_2                               49314       18.98\n",
       "CompDuration Day_Mean                    49314       18.98\n",
       "UserID_y                                 49314       18.98\n",
       "PublicRank_Count                         49314       18.98\n",
       "PublicRank_Freq                          49314       18.98\n",
       "Successful Submission Count_Size         49314       18.98\n",
       "Successful Submission Count_Freq         49314       18.98\n",
       "FeatureB_1                               49314       18.98\n",
       "Comp_Duration Month_Mean                 49314       18.98\n",
       "CompDuration Year_Mean                   49314       18.98\n",
       "CompEndTime Year                         49314       18.98\n",
       "CompStartTime Year_Mean                  49314       18.98\n",
       "FeatureA_0                               49314       18.98\n",
       "FeatureA_2                               49314       18.98\n",
       "FeatureA_3                               49314       18.98\n",
       "FeatureA_4                               49314       18.98\n",
       "FeatureB_0                               49314       18.98"
      ]
     },
     "execution_count": 1708,
     "metadata": {},
     "output_type": "execute_result"
    }
   ],
   "source": [
    "#Check Null values\n",
    "df_na = assess_NA(result_train)\n",
    "df_na"
   ]
  },
  {
   "cell_type": "markdown",
   "id": "a52abf56",
   "metadata": {},
   "source": [
    "**We can see that 86% values in the comment table are null. This is because very few users have commented on the website. In order capture this behaviour we will create a new feature to record when a user has commented and when he has not.**"
   ]
  },
  {
   "cell_type": "code",
   "execution_count": 1709,
   "id": "e06ba014",
   "metadata": {},
   "outputs": [],
   "source": [
    "result_train.drop(['CompPart','Comment','Sub', 'Disc'], axis = 1 ,inplace=True)\n",
    "result_train.drop(['UserID_x','UserID_y'], axis = 1 ,inplace=True)\n",
    "result_train['Comments'] = np.where((result_train['CommentMonth_Sum'].isnull()) & \n",
    "                                    (result_train['CommentMonth_Median'].isnull()) &\n",
    "                                    (result_train['CommentMonth_Mean'].isnull()) &\n",
    "                                    (result_train['CommentMonth_Count'].isnull()) &\n",
    "                                    (result_train['CommentYear_Mean'].isnull()) &\n",
    "                                    (result_train['CommentYear_Median'].isnull()) &\n",
    "                                    (result_train['CommentYear_Sum'].isnull()) &\n",
    "                                    (result_train['CommentYear_Count'].isnull()) &\n",
    "                                    (result_train['CommentDoW_Sum'].isnull()) &\n",
    "                                    (result_train['CommentDoW_Median'].isnull()) &\n",
    "                                    (result_train['CommentDoW_Mean'].isnull()) &\n",
    "                                    (result_train['CommentDoW_Count'].isnull()), 0,1)"
   ]
  },
  {
   "cell_type": "code",
   "execution_count": 1710,
   "id": "f91d1aa4",
   "metadata": {},
   "outputs": [],
   "source": [
    "#We will fill the nulll values with zero as a null value means user hasn't commented\n",
    "cols = list(comments1.columns[1:])\n",
    "result_train[cols] = result_train[cols].fillna(0)"
   ]
  },
  {
   "cell_type": "code",
   "execution_count": 1711,
   "id": "5a467bdd",
   "metadata": {},
   "outputs": [],
   "source": [
    "result_train.fillna(-999, inplace = True)"
   ]
  },
  {
   "cell_type": "markdown",
   "id": "bb31de00",
   "metadata": {},
   "source": [
    "**We will check the correlation of the columns of our dataset with the target variable too see if any column is highly correlated(can be dropped)**"
   ]
  },
  {
   "cell_type": "code",
   "execution_count": 1712,
   "id": "aa7a6c57",
   "metadata": {},
   "outputs": [
    {
     "name": "stdout",
     "output_type": "stream",
     "text": [
      "Target                1.000000\n",
      "CommentYear_Median    0.224069\n",
      "CommentYear_Mean      0.223179\n",
      "Comments              0.211280\n",
      "CommentYear_Sum       0.199691\n",
      "CommentDoW_Sum        0.198604\n",
      "CommentMonth_Count    0.198073\n",
      "CommentYear_Count     0.198073\n",
      "CommentDoW_Count      0.198073\n",
      "CommentMonth_Mean     0.197110\n",
      "Name: Target, dtype: float64\n"
     ]
    }
   ],
   "source": [
    "#Check correlation\n",
    "corr_matrix = result_train.corr().abs()\n",
    "print(corr_matrix['Target'].sort_values(ascending=False).head(10))"
   ]
  },
  {
   "cell_type": "markdown",
   "id": "7c2d817b",
   "metadata": {},
   "source": [
    "# We will now train our baseline model. \n",
    "\n",
    "* **For Training the model I devided the data into a trainset and holdout test set.**\n",
    "\n"
   ]
  },
  {
   "cell_type": "code",
   "execution_count": 1717,
   "id": "22de369c",
   "metadata": {},
   "outputs": [],
   "source": [
    "from sklearn.model_selection import train_test_split\n",
    "x = result_train.drop('Target', axis = 1)\n",
    "y = result_train['Target']\n",
    "x1_train, x1_test, y1_train, y1_test = train_test_split(x, y, test_size=0.33, random_state=42)"
   ]
  },
  {
   "cell_type": "markdown",
   "id": "e4a39dcc",
   "metadata": {},
   "source": [
    "## Evaluation Metric\n",
    "\n",
    "### ROC AUC Score- \n",
    "* It is a chart that visualizes the tradeoff between true positive rate (TPR) and false positive rate (FPR). Basically, for every threshold, we calculate TPR and FPR and plot it on one chart.It can be shown that ROC AUC score is equivalent to calculating the rank correlation between predictions and targets. \n",
    "* From an interpretation standpoint, it is more useful because it tells us that this metric shows how good at ranking predictions your model is. It tells you what is the probability that a randomly chosen positive instance is ranked higher than a randomly chosen negative instance.\n",
    "\n",
    "### Why we use roc_auc in our model as an evaluation metric:\n",
    "\n",
    "* We care about ranking predictions (How likely is it that the user is active in the future).\n",
    " \n",
    "* Our data is not heavily imbalanced as in heavily imbalanced the data the true negatives would pull down the false positives.\n",
    " \n",
    "* We care about true negatives as much as we care about true positives (We equally likely need to know if a user is active or inactive in the future)."
   ]
  },
  {
   "cell_type": "code",
   "execution_count": 1718,
   "id": "a5d39956",
   "metadata": {},
   "outputs": [],
   "source": [
    "from sklearn.ensemble import RandomForestClassifier\n",
    "from sklearn.metrics import roc_curve, roc_auc_score\n",
    "import matplotlib as plt\n",
    "rf = RandomForestClassifier()"
   ]
  },
  {
   "cell_type": "markdown",
   "id": "f8783251",
   "metadata": {},
   "source": [
    "## Cross Validation Strategy (Stratified Group K fold)\n",
    "* Stratification will enforce the class distribution in each **split of the data to match the distribution in the complete training dataset**.\n",
    "* **StratifiedGroupKFold** attempts to create folds which maintains the percentage of samples of each class** while making sure that there are **equal number of distinct groups** in each fold.\n"
   ]
  },
  {
   "cell_type": "code",
   "execution_count": 1737,
   "id": "7562a9f5",
   "metadata": {},
   "outputs": [],
   "source": [
    "from sklearn.model_selection import StratifiedGroupKFold\n",
    "cv = StratifiedGroupKFold(n_splits=5, shuffle = True, random_state = 4)"
   ]
  },
  {
   "cell_type": "code",
   "execution_count": 1738,
   "id": "0354644d",
   "metadata": {},
   "outputs": [
    {
     "name": "stdout",
     "output_type": "stream",
     "text": [
      "AUC Score: 0.8970177650389154\n"
     ]
    }
   ],
   "source": [
    "groups = x1_train['User_ID']\n",
    "i = 1\n",
    "aucs = []\n",
    "for train_index,test_index in cv.split(x1_train,y1_train,groups):\n",
    "    x_train, x_test, y_train, y_test = x.iloc[train_index], x.iloc[test_index], y.iloc[train_index], y.iloc[test_index]\n",
    "    x_train  = x_train.drop(['User_ID'], axis = 1)\n",
    "    x_test  = x_test.drop(['User_ID'], axis = 1)\n",
    "    rf.fit(x_train, y_train)\n",
    "    rf_probs = rf.predict_proba(x_test)\n",
    "    aucscore = roc_auc_score(y_test, rf_probs[:,1])\n",
    "    aucs.append(aucscore)\n",
    "print(\"AUC Score:\", np.mean(aucs))"
   ]
  },
  {
   "cell_type": "markdown",
   "id": "fce2b507",
   "metadata": {},
   "source": [
    "**Check model on hold out test set**\n"
   ]
  },
  {
   "cell_type": "code",
   "execution_count": 1739,
   "id": "bafa1c79",
   "metadata": {},
   "outputs": [
    {
     "name": "stdout",
     "output_type": "stream",
     "text": [
      "Hold Out Set Value is: 0.9219297124872639\n"
     ]
    }
   ],
   "source": [
    "xq = x1_test.drop(['User_ID'], axis = 1)\n",
    "rfp = rf.predict_proba(xq)[:,1]\n",
    "print('Hold Out Set Value is:',roc_auc_score(y1_test,rfp))"
   ]
  },
  {
   "cell_type": "markdown",
   "id": "4bee0aff",
   "metadata": {},
   "source": [
    "**By checking the lineplot of the accuracy change perfold, we can inder whether the model is overfitting orunderfitting. If there is huge variation in the accuracy per fold, we can say that model is overfitting. As it will not generalize well.** "
   ]
  },
  {
   "cell_type": "code",
   "execution_count": 1740,
   "id": "feba429c",
   "metadata": {},
   "outputs": [
    {
     "data": {
      "image/png": "[encoded data removed]",
      "text/plain": [
       "<Figure size 1296x288 with 1 Axes>"
      ]
     },
     "metadata": {},
     "output_type": "display_data"
    }
   ],
   "source": [
    "import seaborn as sns\n",
    "import matplotlib.pyplot as plt\n",
    "plt.figure(figsize=(18,4))\n",
    "sns.set_theme(style=\"darkgrid\")\n",
    "p = sns.lineplot(x=[i+1 for i in range(len(aucs))],y=aucs[::-1])\n",
    "p.set_xlabel(\"Folds\", fontsize = 15)\n",
    "p.set_ylabel(\"roc_auc_score\", fontsize = 15)\n",
    "plt.title(\"Cross Val Score Per Fold\", fontsize = 15)\n",
    "plt.show()"
   ]
  },
  {
   "cell_type": "markdown",
   "id": "220e71fc",
   "metadata": {},
   "source": [
    "## Why we use the probability of our data points belonging to a class rather than the prediction of the acutal class for the ROC Curve\n",
    "\n",
    "The ROC curve **shows how sensitivity and specificity varies at every possible threshold**. Binary predictions, where **predictions have been thresholded already**, or a contingency table, have lost information about the other thresholds. Therefore you can't calculate the ROC curve from this summarized data."
   ]
  },
  {
   "cell_type": "code",
   "execution_count": 1741,
   "id": "37026283",
   "metadata": {},
   "outputs": [
    {
     "data": {
      "image/png": "[encoded data removed]",
      "text/plain": [
       "<Figure size 432x288 with 1 Axes>"
      ]
     },
     "metadata": {},
     "output_type": "display_data"
    }
   ],
   "source": [
    "import sklearn.metrics as metrics\n",
    "# calculate the fpr and tpr for all thresholds of the classification\n",
    "probs = rf.predict_proba(xq)\n",
    "preds = probs[:,1]\n",
    "fpr, tpr, threshold = metrics.roc_curve(y1_test, preds)\n",
    "roc_auc = metrics.auc(fpr, tpr)\n",
    "\n",
    "# method I: plt\n",
    "import matplotlib.pyplot as plt\n",
    "plt.title('Receiver Operating Characteristic')\n",
    "plt.plot(fpr, tpr, 'b', label = 'AUC = %0.2f' % roc_auc)\n",
    "plt.legend(loc = 'lower right')\n",
    "plt.plot([0, 1], [0, 1],'r--')\n",
    "plt.xlim([0, 1])\n",
    "plt.ylim([0, 1])\n",
    "plt.ylabel('True Positive Rate')\n",
    "plt.xlabel('False Positive Rate')\n",
    "plt.show()"
   ]
  },
  {
   "cell_type": "markdown",
   "id": "c6726f6b",
   "metadata": {},
   "source": [
    "## Hyperparameter Tuning\n",
    "* Hyperparameter tuning is choosing a set of optimal hyperparameters for a learning algorithm\n",
    "\n",
    "* **RandomSearchCV**- Random search is a technique where **random combinations of the hyperparameters** are used to find the best solution for the built model. In this search pattern, the random combinations of parameters considered in every iteration **increase the chances of finding the optimal parameter** as compared to other techniques as the **model might end up being trained on the optimised parameters** without any aliasing. \n"
   ]
  },
  {
   "cell_type": "code",
   "execution_count": 1726,
   "id": "7cc80c02",
   "metadata": {},
   "outputs": [],
   "source": [
    "from sklearn.model_selection import StratifiedGroupKFold\n",
    "\n",
    "cv1 = StratifiedGroupKFold(n_splits=5, shuffle = True, random_state = 4)\n",
    "rf = RandomForestClassifier()\n",
    "from sklearn.model_selection import RandomizedSearchCV\n",
    "# Number of trees in random forest\n",
    "n_estimators = [int(x) for x in np.linspace(start = 200, stop = 2000, num = 10)]\n",
    "# Number of features to consider at every split\n",
    "max_features = ['auto', 'sqrt']\n",
    "# Maximum number of levels in tree\n",
    "max_depth = [int(x) for x in np.linspace(10, 110, num = 11)]\n",
    "max_depth.append(None)\n",
    "# Minimum number of samples required to split a node\n",
    "min_samples_split = [2, 5, 10]\n",
    "# Minimum number of samples required at each leaf node\n",
    "min_samples_leaf = [1, 2, 4]\n",
    "# Method of selecting samples for training each tree\n",
    "bootstrap = [True, False]\n",
    "# Create the random grid\n",
    "random_grid = {'n_estimators': n_estimators,\n",
    "               'max_features': max_features,\n",
    "               'max_depth': max_depth,\n",
    "               'min_samples_split': min_samples_split,\n",
    "               'min_samples_leaf': min_samples_leaf,\n",
    "               'bootstrap': bootstrap}\n"
   ]
  },
  {
   "cell_type": "code",
   "execution_count": 1727,
   "id": "1c0e94aa",
   "metadata": {},
   "outputs": [],
   "source": [
    "x1_train.drop(['User_ID'], axis = 1, inplace = True)"
   ]
  },
  {
   "cell_type": "code",
   "execution_count": 832,
   "id": "9d376cb2",
   "metadata": {},
   "outputs": [
    {
     "name": "stdout",
     "output_type": "stream",
     "text": [
      "Fitting 5 folds for each of 5 candidates, totalling 25 fits\n"
     ]
    },
    {
     "name": "stderr",
     "output_type": "stream",
     "text": [
      "/Users/haripurnapatre/opt/anaconda3/lib/python3.9/site-packages/sklearn/model_selection/_validation.py:771: UserWarning: Scoring failed. The score on this train-test partition for these parameters will be set to nan. Details: \n",
      "Traceback (most recent call last):\n",
      "  File \"/Users/haripurnapatre/opt/anaconda3/lib/python3.9/site-packages/sklearn/metrics/_scorer.py\", line 355, in _score\n",
      "    y_pred = method_caller(clf, \"decision_function\", X)\n",
      "  File \"/Users/haripurnapatre/opt/anaconda3/lib/python3.9/site-packages/sklearn/metrics/_scorer.py\", line 68, in _cached_call\n",
      "    return getattr(estimator, method)(*args, **kwargs)\n",
      "AttributeError: 'RandomForestClassifier' object has no attribute 'decision_function'\n",
      "\n",
      "During handling of the above exception, another exception occurred:\n",
      "\n",
      "Traceback (most recent call last):\n",
      "  File \"/Users/haripurnapatre/opt/anaconda3/lib/python3.9/site-packages/sklearn/model_selection/_validation.py\", line 762, in _score\n",
      "    scores = scorer(estimator, X_test, y_test)\n",
      "  File \"/Users/haripurnapatre/opt/anaconda3/lib/python3.9/site-packages/sklearn/metrics/_scorer.py\", line 216, in __call__\n",
      "    return self._score(\n",
      "  File \"/Users/haripurnapatre/opt/anaconda3/lib/python3.9/site-packages/sklearn/metrics/_scorer.py\", line 369, in _score\n",
      "    y_pred = method_caller(clf, \"predict_proba\", X)\n",
      "  File \"/Users/haripurnapatre/opt/anaconda3/lib/python3.9/site-packages/sklearn/metrics/_scorer.py\", line 68, in _cached_call\n",
      "    return getattr(estimator, method)(*args, **kwargs)\n",
      "  File \"/Users/haripurnapatre/opt/anaconda3/lib/python3.9/site-packages/sklearn/ensemble/_forest.py\", line 840, in predict_proba\n",
      "    X = self._validate_X_predict(X)\n",
      "  File \"/Users/haripurnapatre/opt/anaconda3/lib/python3.9/site-packages/sklearn/ensemble/_forest.py\", line 569, in _validate_X_predict\n",
      "    X = self._validate_data(X, dtype=DTYPE, accept_sparse=\"csr\", reset=False)\n",
      "  File \"/Users/haripurnapatre/opt/anaconda3/lib/python3.9/site-packages/sklearn/base.py\", line 561, in _validate_data\n",
      "    X = check_array(X, **check_params)\n",
      "  File \"/Users/haripurnapatre/opt/anaconda3/lib/python3.9/site-packages/sklearn/utils/validation.py\", line 797, in check_array\n",
      "    raise ValueError(\n",
      "ValueError: Found array with 0 sample(s) (shape=(0, 52)) while a minimum of 1 is required.\n",
      "\n",
      "  warnings.warn(\n",
      "/Users/haripurnapatre/opt/anaconda3/lib/python3.9/site-packages/sklearn/model_selection/_validation.py:771: UserWarning: Scoring failed. The score on this train-test partition for these parameters will be set to nan. Details: \n",
      "Traceback (most recent call last):\n",
      "  File \"/Users/haripurnapatre/opt/anaconda3/lib/python3.9/site-packages/sklearn/metrics/_scorer.py\", line 355, in _score\n",
      "    y_pred = method_caller(clf, \"decision_function\", X)\n",
      "  File \"/Users/haripurnapatre/opt/anaconda3/lib/python3.9/site-packages/sklearn/metrics/_scorer.py\", line 68, in _cached_call\n",
      "    return getattr(estimator, method)(*args, **kwargs)\n",
      "AttributeError: 'RandomForestClassifier' object has no attribute 'decision_function'\n",
      "\n",
      "During handling of the above exception, another exception occurred:\n",
      "\n",
      "Traceback (most recent call last):\n",
      "  File \"/Users/haripurnapatre/opt/anaconda3/lib/python3.9/site-packages/sklearn/model_selection/_validation.py\", line 762, in _score\n",
      "    scores = scorer(estimator, X_test, y_test)\n",
      "  File \"/Users/haripurnapatre/opt/anaconda3/lib/python3.9/site-packages/sklearn/metrics/_scorer.py\", line 216, in __call__\n",
      "    return self._score(\n",
      "  File \"/Users/haripurnapatre/opt/anaconda3/lib/python3.9/site-packages/sklearn/metrics/_scorer.py\", line 369, in _score\n",
      "    y_pred = method_caller(clf, \"predict_proba\", X)\n",
      "  File \"/Users/haripurnapatre/opt/anaconda3/lib/python3.9/site-packages/sklearn/metrics/_scorer.py\", line 68, in _cached_call\n",
      "    return getattr(estimator, method)(*args, **kwargs)\n",
      "  File \"/Users/haripurnapatre/opt/anaconda3/lib/python3.9/site-packages/sklearn/ensemble/_forest.py\", line 840, in predict_proba\n",
      "    X = self._validate_X_predict(X)\n",
      "  File \"/Users/haripurnapatre/opt/anaconda3/lib/python3.9/site-packages/sklearn/ensemble/_forest.py\", line 569, in _validate_X_predict\n",
      "    X = self._validate_data(X, dtype=DTYPE, accept_sparse=\"csr\", reset=False)\n",
      "  File \"/Users/haripurnapatre/opt/anaconda3/lib/python3.9/site-packages/sklearn/base.py\", line 561, in _validate_data\n",
      "    X = check_array(X, **check_params)\n",
      "  File \"/Users/haripurnapatre/opt/anaconda3/lib/python3.9/site-packages/sklearn/utils/validation.py\", line 797, in check_array\n",
      "    raise ValueError(\n",
      "ValueError: Found array with 0 sample(s) (shape=(0, 52)) while a minimum of 1 is required.\n",
      "\n",
      "  warnings.warn(\n",
      "/Users/haripurnapatre/opt/anaconda3/lib/python3.9/site-packages/sklearn/model_selection/_validation.py:771: UserWarning: Scoring failed. The score on this train-test partition for these parameters will be set to nan. Details: \n",
      "Traceback (most recent call last):\n",
      "  File \"/Users/haripurnapatre/opt/anaconda3/lib/python3.9/site-packages/sklearn/metrics/_scorer.py\", line 355, in _score\n",
      "    y_pred = method_caller(clf, \"decision_function\", X)\n",
      "  File \"/Users/haripurnapatre/opt/anaconda3/lib/python3.9/site-packages/sklearn/metrics/_scorer.py\", line 68, in _cached_call\n",
      "    return getattr(estimator, method)(*args, **kwargs)\n",
      "AttributeError: 'RandomForestClassifier' object has no attribute 'decision_function'\n",
      "\n",
      "During handling of the above exception, another exception occurred:\n",
      "\n",
      "Traceback (most recent call last):\n",
      "  File \"/Users/haripurnapatre/opt/anaconda3/lib/python3.9/site-packages/sklearn/model_selection/_validation.py\", line 762, in _score\n",
      "    scores = scorer(estimator, X_test, y_test)\n",
      "  File \"/Users/haripurnapatre/opt/anaconda3/lib/python3.9/site-packages/sklearn/metrics/_scorer.py\", line 216, in __call__\n",
      "    return self._score(\n",
      "  File \"/Users/haripurnapatre/opt/anaconda3/lib/python3.9/site-packages/sklearn/metrics/_scorer.py\", line 369, in _score\n",
      "    y_pred = method_caller(clf, \"predict_proba\", X)\n",
      "  File \"/Users/haripurnapatre/opt/anaconda3/lib/python3.9/site-packages/sklearn/metrics/_scorer.py\", line 68, in _cached_call\n",
      "    return getattr(estimator, method)(*args, **kwargs)\n",
      "  File \"/Users/haripurnapatre/opt/anaconda3/lib/python3.9/site-packages/sklearn/ensemble/_forest.py\", line 840, in predict_proba\n",
      "    X = self._validate_X_predict(X)\n",
      "  File \"/Users/haripurnapatre/opt/anaconda3/lib/python3.9/site-packages/sklearn/ensemble/_forest.py\", line 569, in _validate_X_predict\n",
      "    X = self._validate_data(X, dtype=DTYPE, accept_sparse=\"csr\", reset=False)\n",
      "  File \"/Users/haripurnapatre/opt/anaconda3/lib/python3.9/site-packages/sklearn/base.py\", line 561, in _validate_data\n",
      "    X = check_array(X, **check_params)\n",
      "  File \"/Users/haripurnapatre/opt/anaconda3/lib/python3.9/site-packages/sklearn/utils/validation.py\", line 797, in check_array\n",
      "    raise ValueError(\n",
      "ValueError: Found array with 0 sample(s) (shape=(0, 52)) while a minimum of 1 is required.\n",
      "\n",
      "  warnings.warn(\n",
      "/Users/haripurnapatre/opt/anaconda3/lib/python3.9/site-packages/sklearn/model_selection/_validation.py:771: UserWarning: Scoring failed. The score on this train-test partition for these parameters will be set to nan. Details: \n",
      "Traceback (most recent call last):\n",
      "  File \"/Users/haripurnapatre/opt/anaconda3/lib/python3.9/site-packages/sklearn/model_selection/_validation.py\", line 762, in _score\n",
      "    scores = scorer(estimator, X_test, y_test)\n",
      "  File \"/Users/haripurnapatre/opt/anaconda3/lib/python3.9/site-packages/sklearn/metrics/_scorer.py\", line 216, in __call__\n",
      "    return self._score(\n",
      "  File \"/Users/haripurnapatre/opt/anaconda3/lib/python3.9/site-packages/sklearn/metrics/_scorer.py\", line 381, in _score\n",
      "    return self._sign * self._score_func(y, y_pred, **self._kwargs)\n",
      "  File \"/Users/haripurnapatre/opt/anaconda3/lib/python3.9/site-packages/sklearn/metrics/_ranking.py\", line 567, in roc_auc_score\n",
      "    return _average_binary_score(\n",
      "  File \"/Users/haripurnapatre/opt/anaconda3/lib/python3.9/site-packages/sklearn/metrics/_base.py\", line 75, in _average_binary_score\n",
      "    return binary_metric(y_true, y_score, sample_weight=sample_weight)\n",
      "  File \"/Users/haripurnapatre/opt/anaconda3/lib/python3.9/site-packages/sklearn/metrics/_ranking.py\", line 337, in _binary_roc_auc_score\n",
      "    raise ValueError(\n",
      "ValueError: Only one class present in y_true. ROC AUC score is not defined in that case.\n",
      "\n",
      "  warnings.warn(\n",
      "/Users/haripurnapatre/opt/anaconda3/lib/python3.9/site-packages/sklearn/model_selection/_validation.py:771: UserWarning: Scoring failed. The score on this train-test partition for these parameters will be set to nan. Details: \n",
      "Traceback (most recent call last):\n",
      "  File \"/Users/haripurnapatre/opt/anaconda3/lib/python3.9/site-packages/sklearn/metrics/_scorer.py\", line 355, in _score\n",
      "    y_pred = method_caller(clf, \"decision_function\", X)\n",
      "  File \"/Users/haripurnapatre/opt/anaconda3/lib/python3.9/site-packages/sklearn/metrics/_scorer.py\", line 68, in _cached_call\n",
      "    return getattr(estimator, method)(*args, **kwargs)\n",
      "AttributeError: 'RandomForestClassifier' object has no attribute 'decision_function'\n",
      "\n",
      "During handling of the above exception, another exception occurred:\n",
      "\n",
      "Traceback (most recent call last):\n",
      "  File \"/Users/haripurnapatre/opt/anaconda3/lib/python3.9/site-packages/sklearn/model_selection/_validation.py\", line 762, in _score\n",
      "    scores = scorer(estimator, X_test, y_test)\n",
      "  File \"/Users/haripurnapatre/opt/anaconda3/lib/python3.9/site-packages/sklearn/metrics/_scorer.py\", line 216, in __call__\n",
      "    return self._score(\n",
      "  File \"/Users/haripurnapatre/opt/anaconda3/lib/python3.9/site-packages/sklearn/metrics/_scorer.py\", line 369, in _score\n",
      "    y_pred = method_caller(clf, \"predict_proba\", X)\n",
      "  File \"/Users/haripurnapatre/opt/anaconda3/lib/python3.9/site-packages/sklearn/metrics/_scorer.py\", line 68, in _cached_call\n",
      "    return getattr(estimator, method)(*args, **kwargs)\n",
      "  File \"/Users/haripurnapatre/opt/anaconda3/lib/python3.9/site-packages/sklearn/ensemble/_forest.py\", line 840, in predict_proba\n",
      "    X = self._validate_X_predict(X)\n",
      "  File \"/Users/haripurnapatre/opt/anaconda3/lib/python3.9/site-packages/sklearn/ensemble/_forest.py\", line 569, in _validate_X_predict\n",
      "    X = self._validate_data(X, dtype=DTYPE, accept_sparse=\"csr\", reset=False)\n",
      "  File \"/Users/haripurnapatre/opt/anaconda3/lib/python3.9/site-packages/sklearn/base.py\", line 561, in _validate_data\n",
      "    X = check_array(X, **check_params)\n",
      "  File \"/Users/haripurnapatre/opt/anaconda3/lib/python3.9/site-packages/sklearn/utils/validation.py\", line 797, in check_array\n",
      "    raise ValueError(\n",
      "ValueError: Found array with 0 sample(s) (shape=(0, 52)) while a minimum of 1 is required.\n",
      "\n",
      "  warnings.warn(\n",
      "/Users/haripurnapatre/opt/anaconda3/lib/python3.9/site-packages/sklearn/model_selection/_validation.py:771: UserWarning: Scoring failed. The score on this train-test partition for these parameters will be set to nan. Details: \n",
      "Traceback (most recent call last):\n",
      "  File \"/Users/haripurnapatre/opt/anaconda3/lib/python3.9/site-packages/sklearn/metrics/_scorer.py\", line 355, in _score\n",
      "    y_pred = method_caller(clf, \"decision_function\", X)\n",
      "  File \"/Users/haripurnapatre/opt/anaconda3/lib/python3.9/site-packages/sklearn/metrics/_scorer.py\", line 68, in _cached_call\n",
      "    return getattr(estimator, method)(*args, **kwargs)\n",
      "AttributeError: 'RandomForestClassifier' object has no attribute 'decision_function'\n",
      "\n",
      "During handling of the above exception, another exception occurred:\n",
      "\n",
      "Traceback (most recent call last):\n",
      "  File \"/Users/haripurnapatre/opt/anaconda3/lib/python3.9/site-packages/sklearn/model_selection/_validation.py\", line 762, in _score\n",
      "    scores = scorer(estimator, X_test, y_test)\n",
      "  File \"/Users/haripurnapatre/opt/anaconda3/lib/python3.9/site-packages/sklearn/metrics/_scorer.py\", line 216, in __call__\n",
      "    return self._score(\n",
      "  File \"/Users/haripurnapatre/opt/anaconda3/lib/python3.9/site-packages/sklearn/metrics/_scorer.py\", line 369, in _score\n",
      "    y_pred = method_caller(clf, \"predict_proba\", X)\n",
      "  File \"/Users/haripurnapatre/opt/anaconda3/lib/python3.9/site-packages/sklearn/metrics/_scorer.py\", line 68, in _cached_call\n",
      "    return getattr(estimator, method)(*args, **kwargs)\n",
      "  File \"/Users/haripurnapatre/opt/anaconda3/lib/python3.9/site-packages/sklearn/ensemble/_forest.py\", line 840, in predict_proba\n",
      "    X = self._validate_X_predict(X)\n",
      "  File \"/Users/haripurnapatre/opt/anaconda3/lib/python3.9/site-packages/sklearn/ensemble/_forest.py\", line 569, in _validate_X_predict\n",
      "    X = self._validate_data(X, dtype=DTYPE, accept_sparse=\"csr\", reset=False)\n",
      "  File \"/Users/haripurnapatre/opt/anaconda3/lib/python3.9/site-packages/sklearn/base.py\", line 561, in _validate_data\n",
      "    X = check_array(X, **check_params)\n",
      "  File \"/Users/haripurnapatre/opt/anaconda3/lib/python3.9/site-packages/sklearn/utils/validation.py\", line 797, in check_array\n",
      "    raise ValueError(\n",
      "ValueError: Found array with 0 sample(s) (shape=(0, 52)) while a minimum of 1 is required.\n",
      "\n",
      "  warnings.warn(\n",
      "/Users/haripurnapatre/opt/anaconda3/lib/python3.9/site-packages/sklearn/model_selection/_validation.py:771: UserWarning: Scoring failed. The score on this train-test partition for these parameters will be set to nan. Details: \n",
      "Traceback (most recent call last):\n",
      "  File \"/Users/haripurnapatre/opt/anaconda3/lib/python3.9/site-packages/sklearn/metrics/_scorer.py\", line 355, in _score\n",
      "    y_pred = method_caller(clf, \"decision_function\", X)\n",
      "  File \"/Users/haripurnapatre/opt/anaconda3/lib/python3.9/site-packages/sklearn/metrics/_scorer.py\", line 68, in _cached_call\n",
      "    return getattr(estimator, method)(*args, **kwargs)\n",
      "AttributeError: 'RandomForestClassifier' object has no attribute 'decision_function'\n",
      "\n",
      "During handling of the above exception, another exception occurred:\n",
      "\n",
      "Traceback (most recent call last):\n",
      "  File \"/Users/haripurnapatre/opt/anaconda3/lib/python3.9/site-packages/sklearn/model_selection/_validation.py\", line 762, in _score\n",
      "    scores = scorer(estimator, X_test, y_test)\n",
      "  File \"/Users/haripurnapatre/opt/anaconda3/lib/python3.9/site-packages/sklearn/metrics/_scorer.py\", line 216, in __call__\n",
      "    return self._score(\n",
      "  File \"/Users/haripurnapatre/opt/anaconda3/lib/python3.9/site-packages/sklearn/metrics/_scorer.py\", line 369, in _score\n",
      "    y_pred = method_caller(clf, \"predict_proba\", X)\n",
      "  File \"/Users/haripurnapatre/opt/anaconda3/lib/python3.9/site-packages/sklearn/metrics/_scorer.py\", line 68, in _cached_call\n",
      "    return getattr(estimator, method)(*args, **kwargs)\n",
      "  File \"/Users/haripurnapatre/opt/anaconda3/lib/python3.9/site-packages/sklearn/ensemble/_forest.py\", line 840, in predict_proba\n",
      "    X = self._validate_X_predict(X)\n",
      "  File \"/Users/haripurnapatre/opt/anaconda3/lib/python3.9/site-packages/sklearn/ensemble/_forest.py\", line 569, in _validate_X_predict\n",
      "    X = self._validate_data(X, dtype=DTYPE, accept_sparse=\"csr\", reset=False)\n",
      "  File \"/Users/haripurnapatre/opt/anaconda3/lib/python3.9/site-packages/sklearn/base.py\", line 561, in _validate_data\n",
      "    X = check_array(X, **check_params)\n",
      "  File \"/Users/haripurnapatre/opt/anaconda3/lib/python3.9/site-packages/sklearn/utils/validation.py\", line 797, in check_array\n",
      "    raise ValueError(\n",
      "ValueError: Found array with 0 sample(s) (shape=(0, 52)) while a minimum of 1 is required.\n",
      "\n",
      "  warnings.warn(\n",
      "/Users/haripurnapatre/opt/anaconda3/lib/python3.9/site-packages/sklearn/model_selection/_validation.py:771: UserWarning: Scoring failed. The score on this train-test partition for these parameters will be set to nan. Details: \n",
      "Traceback (most recent call last):\n",
      "  File \"/Users/haripurnapatre/opt/anaconda3/lib/python3.9/site-packages/sklearn/model_selection/_validation.py\", line 762, in _score\n",
      "    scores = scorer(estimator, X_test, y_test)\n",
      "  File \"/Users/haripurnapatre/opt/anaconda3/lib/python3.9/site-packages/sklearn/metrics/_scorer.py\", line 216, in __call__\n",
      "    return self._score(\n",
      "  File \"/Users/haripurnapatre/opt/anaconda3/lib/python3.9/site-packages/sklearn/metrics/_scorer.py\", line 381, in _score\n",
      "    return self._sign * self._score_func(y, y_pred, **self._kwargs)\n",
      "  File \"/Users/haripurnapatre/opt/anaconda3/lib/python3.9/site-packages/sklearn/metrics/_ranking.py\", line 567, in roc_auc_score\n",
      "    return _average_binary_score(\n",
      "  File \"/Users/haripurnapatre/opt/anaconda3/lib/python3.9/site-packages/sklearn/metrics/_base.py\", line 75, in _average_binary_score\n",
      "    return binary_metric(y_true, y_score, sample_weight=sample_weight)\n",
      "  File \"/Users/haripurnapatre/opt/anaconda3/lib/python3.9/site-packages/sklearn/metrics/_ranking.py\", line 337, in _binary_roc_auc_score\n",
      "    raise ValueError(\n",
      "ValueError: Only one class present in y_true. ROC AUC score is not defined in that case.\n",
      "\n",
      "  warnings.warn(\n",
      "/Users/haripurnapatre/opt/anaconda3/lib/python3.9/site-packages/sklearn/model_selection/_validation.py:771: UserWarning: Scoring failed. The score on this train-test partition for these parameters will be set to nan. Details: \n",
      "Traceback (most recent call last):\n",
      "  File \"/Users/haripurnapatre/opt/anaconda3/lib/python3.9/site-packages/sklearn/metrics/_scorer.py\", line 355, in _score\n",
      "    y_pred = method_caller(clf, \"decision_function\", X)\n",
      "  File \"/Users/haripurnapatre/opt/anaconda3/lib/python3.9/site-packages/sklearn/metrics/_scorer.py\", line 68, in _cached_call\n",
      "    return getattr(estimator, method)(*args, **kwargs)\n",
      "AttributeError: 'RandomForestClassifier' object has no attribute 'decision_function'\n",
      "\n",
      "During handling of the above exception, another exception occurred:\n",
      "\n",
      "Traceback (most recent call last):\n",
      "  File \"/Users/haripurnapatre/opt/anaconda3/lib/python3.9/site-packages/sklearn/model_selection/_validation.py\", line 762, in _score\n",
      "    scores = scorer(estimator, X_test, y_test)\n",
      "  File \"/Users/haripurnapatre/opt/anaconda3/lib/python3.9/site-packages/sklearn/metrics/_scorer.py\", line 216, in __call__\n",
      "    return self._score(\n",
      "  File \"/Users/haripurnapatre/opt/anaconda3/lib/python3.9/site-packages/sklearn/metrics/_scorer.py\", line 369, in _score\n",
      "    y_pred = method_caller(clf, \"predict_proba\", X)\n",
      "  File \"/Users/haripurnapatre/opt/anaconda3/lib/python3.9/site-packages/sklearn/metrics/_scorer.py\", line 68, in _cached_call\n",
      "    return getattr(estimator, method)(*args, **kwargs)\n",
      "  File \"/Users/haripurnapatre/opt/anaconda3/lib/python3.9/site-packages/sklearn/ensemble/_forest.py\", line 840, in predict_proba\n",
      "    X = self._validate_X_predict(X)\n",
      "  File \"/Users/haripurnapatre/opt/anaconda3/lib/python3.9/site-packages/sklearn/ensemble/_forest.py\", line 569, in _validate_X_predict\n",
      "    X = self._validate_data(X, dtype=DTYPE, accept_sparse=\"csr\", reset=False)\n",
      "  File \"/Users/haripurnapatre/opt/anaconda3/lib/python3.9/site-packages/sklearn/base.py\", line 561, in _validate_data\n",
      "    X = check_array(X, **check_params)\n",
      "  File \"/Users/haripurnapatre/opt/anaconda3/lib/python3.9/site-packages/sklearn/utils/validation.py\", line 797, in check_array\n",
      "    raise ValueError(\n",
      "ValueError: Found array with 0 sample(s) (shape=(0, 52)) while a minimum of 1 is required.\n",
      "\n",
      "  warnings.warn(\n",
      "/Users/haripurnapatre/opt/anaconda3/lib/python3.9/site-packages/sklearn/model_selection/_validation.py:771: UserWarning: Scoring failed. The score on this train-test partition for these parameters will be set to nan. Details: \n",
      "Traceback (most recent call last):\n",
      "  File \"/Users/haripurnapatre/opt/anaconda3/lib/python3.9/site-packages/sklearn/metrics/_scorer.py\", line 355, in _score\n",
      "    y_pred = method_caller(clf, \"decision_function\", X)\n",
      "  File \"/Users/haripurnapatre/opt/anaconda3/lib/python3.9/site-packages/sklearn/metrics/_scorer.py\", line 68, in _cached_call\n",
      "    return getattr(estimator, method)(*args, **kwargs)\n",
      "AttributeError: 'RandomForestClassifier' object has no attribute 'decision_function'\n",
      "\n",
      "During handling of the above exception, another exception occurred:\n",
      "\n",
      "Traceback (most recent call last):\n",
      "  File \"/Users/haripurnapatre/opt/anaconda3/lib/python3.9/site-packages/sklearn/model_selection/_validation.py\", line 762, in _score\n",
      "    scores = scorer(estimator, X_test, y_test)\n",
      "  File \"/Users/haripurnapatre/opt/anaconda3/lib/python3.9/site-packages/sklearn/metrics/_scorer.py\", line 216, in __call__\n",
      "    return self._score(\n",
      "  File \"/Users/haripurnapatre/opt/anaconda3/lib/python3.9/site-packages/sklearn/metrics/_scorer.py\", line 369, in _score\n",
      "    y_pred = method_caller(clf, \"predict_proba\", X)\n",
      "  File \"/Users/haripurnapatre/opt/anaconda3/lib/python3.9/site-packages/sklearn/metrics/_scorer.py\", line 68, in _cached_call\n",
      "    return getattr(estimator, method)(*args, **kwargs)\n",
      "  File \"/Users/haripurnapatre/opt/anaconda3/lib/python3.9/site-packages/sklearn/ensemble/_forest.py\", line 840, in predict_proba\n",
      "    X = self._validate_X_predict(X)\n",
      "  File \"/Users/haripurnapatre/opt/anaconda3/lib/python3.9/site-packages/sklearn/ensemble/_forest.py\", line 569, in _validate_X_predict\n",
      "    X = self._validate_data(X, dtype=DTYPE, accept_sparse=\"csr\", reset=False)\n",
      "  File \"/Users/haripurnapatre/opt/anaconda3/lib/python3.9/site-packages/sklearn/base.py\", line 561, in _validate_data\n",
      "    X = check_array(X, **check_params)\n",
      "  File \"/Users/haripurnapatre/opt/anaconda3/lib/python3.9/site-packages/sklearn/utils/validation.py\", line 797, in check_array\n",
      "    raise ValueError(\n",
      "ValueError: Found array with 0 sample(s) (shape=(0, 52)) while a minimum of 1 is required.\n",
      "\n",
      "  warnings.warn(\n",
      "/Users/haripurnapatre/opt/anaconda3/lib/python3.9/site-packages/sklearn/model_selection/_validation.py:771: UserWarning: Scoring failed. The score on this train-test partition for these parameters will be set to nan. Details: \n",
      "Traceback (most recent call last):\n",
      "  File \"/Users/haripurnapatre/opt/anaconda3/lib/python3.9/site-packages/sklearn/metrics/_scorer.py\", line 355, in _score\n",
      "    y_pred = method_caller(clf, \"decision_function\", X)\n",
      "  File \"/Users/haripurnapatre/opt/anaconda3/lib/python3.9/site-packages/sklearn/metrics/_scorer.py\", line 68, in _cached_call\n",
      "    return getattr(estimator, method)(*args, **kwargs)\n",
      "AttributeError: 'RandomForestClassifier' object has no attribute 'decision_function'\n",
      "\n",
      "During handling of the above exception, another exception occurred:\n",
      "\n",
      "Traceback (most recent call last):\n",
      "  File \"/Users/haripurnapatre/opt/anaconda3/lib/python3.9/site-packages/sklearn/model_selection/_validation.py\", line 762, in _score\n",
      "    scores = scorer(estimator, X_test, y_test)\n",
      "  File \"/Users/haripurnapatre/opt/anaconda3/lib/python3.9/site-packages/sklearn/metrics/_scorer.py\", line 216, in __call__\n",
      "    return self._score(\n",
      "  File \"/Users/haripurnapatre/opt/anaconda3/lib/python3.9/site-packages/sklearn/metrics/_scorer.py\", line 369, in _score\n",
      "    y_pred = method_caller(clf, \"predict_proba\", X)\n",
      "  File \"/Users/haripurnapatre/opt/anaconda3/lib/python3.9/site-packages/sklearn/metrics/_scorer.py\", line 68, in _cached_call\n",
      "    return getattr(estimator, method)(*args, **kwargs)\n",
      "  File \"/Users/haripurnapatre/opt/anaconda3/lib/python3.9/site-packages/sklearn/ensemble/_forest.py\", line 840, in predict_proba\n",
      "    X = self._validate_X_predict(X)\n",
      "  File \"/Users/haripurnapatre/opt/anaconda3/lib/python3.9/site-packages/sklearn/ensemble/_forest.py\", line 569, in _validate_X_predict\n",
      "    X = self._validate_data(X, dtype=DTYPE, accept_sparse=\"csr\", reset=False)\n",
      "  File \"/Users/haripurnapatre/opt/anaconda3/lib/python3.9/site-packages/sklearn/base.py\", line 561, in _validate_data\n",
      "    X = check_array(X, **check_params)\n",
      "  File \"/Users/haripurnapatre/opt/anaconda3/lib/python3.9/site-packages/sklearn/utils/validation.py\", line 797, in check_array\n",
      "    raise ValueError(\n",
      "ValueError: Found array with 0 sample(s) (shape=(0, 52)) while a minimum of 1 is required.\n",
      "\n",
      "  warnings.warn(\n",
      "/Users/haripurnapatre/opt/anaconda3/lib/python3.9/site-packages/sklearn/model_selection/_validation.py:771: UserWarning: Scoring failed. The score on this train-test partition for these parameters will be set to nan. Details: \n",
      "Traceback (most recent call last):\n",
      "  File \"/Users/haripurnapatre/opt/anaconda3/lib/python3.9/site-packages/sklearn/model_selection/_validation.py\", line 762, in _score\n",
      "    scores = scorer(estimator, X_test, y_test)\n",
      "  File \"/Users/haripurnapatre/opt/anaconda3/lib/python3.9/site-packages/sklearn/metrics/_scorer.py\", line 216, in __call__\n",
      "    return self._score(\n",
      "  File \"/Users/haripurnapatre/opt/anaconda3/lib/python3.9/site-packages/sklearn/metrics/_scorer.py\", line 381, in _score\n",
      "    return self._sign * self._score_func(y, y_pred, **self._kwargs)\n",
      "  File \"/Users/haripurnapatre/opt/anaconda3/lib/python3.9/site-packages/sklearn/metrics/_ranking.py\", line 567, in roc_auc_score\n",
      "    return _average_binary_score(\n",
      "  File \"/Users/haripurnapatre/opt/anaconda3/lib/python3.9/site-packages/sklearn/metrics/_base.py\", line 75, in _average_binary_score\n",
      "    return binary_metric(y_true, y_score, sample_weight=sample_weight)\n",
      "  File \"/Users/haripurnapatre/opt/anaconda3/lib/python3.9/site-packages/sklearn/metrics/_ranking.py\", line 337, in _binary_roc_auc_score\n",
      "    raise ValueError(\n",
      "ValueError: Only one class present in y_true. ROC AUC score is not defined in that case.\n",
      "\n",
      "  warnings.warn(\n",
      "/Users/haripurnapatre/opt/anaconda3/lib/python3.9/site-packages/sklearn/model_selection/_validation.py:771: UserWarning: Scoring failed. The score on this train-test partition for these parameters will be set to nan. Details: \n",
      "Traceback (most recent call last):\n",
      "  File \"/Users/haripurnapatre/opt/anaconda3/lib/python3.9/site-packages/sklearn/metrics/_scorer.py\", line 355, in _score\n",
      "    y_pred = method_caller(clf, \"decision_function\", X)\n",
      "  File \"/Users/haripurnapatre/opt/anaconda3/lib/python3.9/site-packages/sklearn/metrics/_scorer.py\", line 68, in _cached_call\n",
      "    return getattr(estimator, method)(*args, **kwargs)\n",
      "AttributeError: 'RandomForestClassifier' object has no attribute 'decision_function'\n",
      "\n",
      "During handling of the above exception, another exception occurred:\n",
      "\n",
      "Traceback (most recent call last):\n",
      "  File \"/Users/haripurnapatre/opt/anaconda3/lib/python3.9/site-packages/sklearn/model_selection/_validation.py\", line 762, in _score\n",
      "    scores = scorer(estimator, X_test, y_test)\n",
      "  File \"/Users/haripurnapatre/opt/anaconda3/lib/python3.9/site-packages/sklearn/metrics/_scorer.py\", line 216, in __call__\n",
      "    return self._score(\n",
      "  File \"/Users/haripurnapatre/opt/anaconda3/lib/python3.9/site-packages/sklearn/metrics/_scorer.py\", line 369, in _score\n",
      "    y_pred = method_caller(clf, \"predict_proba\", X)\n",
      "  File \"/Users/haripurnapatre/opt/anaconda3/lib/python3.9/site-packages/sklearn/metrics/_scorer.py\", line 68, in _cached_call\n",
      "    return getattr(estimator, method)(*args, **kwargs)\n",
      "  File \"/Users/haripurnapatre/opt/anaconda3/lib/python3.9/site-packages/sklearn/ensemble/_forest.py\", line 840, in predict_proba\n",
      "    X = self._validate_X_predict(X)\n",
      "  File \"/Users/haripurnapatre/opt/anaconda3/lib/python3.9/site-packages/sklearn/ensemble/_forest.py\", line 569, in _validate_X_predict\n",
      "    X = self._validate_data(X, dtype=DTYPE, accept_sparse=\"csr\", reset=False)\n",
      "  File \"/Users/haripurnapatre/opt/anaconda3/lib/python3.9/site-packages/sklearn/base.py\", line 561, in _validate_data\n",
      "    X = check_array(X, **check_params)\n",
      "  File \"/Users/haripurnapatre/opt/anaconda3/lib/python3.9/site-packages/sklearn/utils/validation.py\", line 797, in check_array\n",
      "    raise ValueError(\n",
      "ValueError: Found array with 0 sample(s) (shape=(0, 52)) while a minimum of 1 is required.\n",
      "\n",
      "  warnings.warn(\n",
      "/Users/haripurnapatre/opt/anaconda3/lib/python3.9/site-packages/sklearn/model_selection/_validation.py:771: UserWarning: Scoring failed. The score on this train-test partition for these parameters will be set to nan. Details: \n",
      "Traceback (most recent call last):\n",
      "  File \"/Users/haripurnapatre/opt/anaconda3/lib/python3.9/site-packages/sklearn/metrics/_scorer.py\", line 355, in _score\n",
      "    y_pred = method_caller(clf, \"decision_function\", X)\n",
      "  File \"/Users/haripurnapatre/opt/anaconda3/lib/python3.9/site-packages/sklearn/metrics/_scorer.py\", line 68, in _cached_call\n",
      "    return getattr(estimator, method)(*args, **kwargs)\n",
      "AttributeError: 'RandomForestClassifier' object has no attribute 'decision_function'\n",
      "\n",
      "During handling of the above exception, another exception occurred:\n",
      "\n",
      "Traceback (most recent call last):\n",
      "  File \"/Users/haripurnapatre/opt/anaconda3/lib/python3.9/site-packages/sklearn/model_selection/_validation.py\", line 762, in _score\n",
      "    scores = scorer(estimator, X_test, y_test)\n",
      "  File \"/Users/haripurnapatre/opt/anaconda3/lib/python3.9/site-packages/sklearn/metrics/_scorer.py\", line 216, in __call__\n",
      "    return self._score(\n",
      "  File \"/Users/haripurnapatre/opt/anaconda3/lib/python3.9/site-packages/sklearn/metrics/_scorer.py\", line 369, in _score\n",
      "    y_pred = method_caller(clf, \"predict_proba\", X)\n",
      "  File \"/Users/haripurnapatre/opt/anaconda3/lib/python3.9/site-packages/sklearn/metrics/_scorer.py\", line 68, in _cached_call\n",
      "    return getattr(estimator, method)(*args, **kwargs)\n",
      "  File \"/Users/haripurnapatre/opt/anaconda3/lib/python3.9/site-packages/sklearn/ensemble/_forest.py\", line 840, in predict_proba\n",
      "    X = self._validate_X_predict(X)\n",
      "  File \"/Users/haripurnapatre/opt/anaconda3/lib/python3.9/site-packages/sklearn/ensemble/_forest.py\", line 569, in _validate_X_predict\n",
      "    X = self._validate_data(X, dtype=DTYPE, accept_sparse=\"csr\", reset=False)\n",
      "  File \"/Users/haripurnapatre/opt/anaconda3/lib/python3.9/site-packages/sklearn/base.py\", line 561, in _validate_data\n",
      "    X = check_array(X, **check_params)\n",
      "  File \"/Users/haripurnapatre/opt/anaconda3/lib/python3.9/site-packages/sklearn/utils/validation.py\", line 797, in check_array\n",
      "    raise ValueError(\n",
      "ValueError: Found array with 0 sample(s) (shape=(0, 52)) while a minimum of 1 is required.\n",
      "\n",
      "  warnings.warn(\n",
      "/Users/haripurnapatre/opt/anaconda3/lib/python3.9/site-packages/sklearn/model_selection/_validation.py:771: UserWarning: Scoring failed. The score on this train-test partition for these parameters will be set to nan. Details: \n",
      "Traceback (most recent call last):\n",
      "  File \"/Users/haripurnapatre/opt/anaconda3/lib/python3.9/site-packages/sklearn/metrics/_scorer.py\", line 355, in _score\n",
      "    y_pred = method_caller(clf, \"decision_function\", X)\n",
      "  File \"/Users/haripurnapatre/opt/anaconda3/lib/python3.9/site-packages/sklearn/metrics/_scorer.py\", line 68, in _cached_call\n",
      "    return getattr(estimator, method)(*args, **kwargs)\n",
      "AttributeError: 'RandomForestClassifier' object has no attribute 'decision_function'\n",
      "\n",
      "During handling of the above exception, another exception occurred:\n",
      "\n",
      "Traceback (most recent call last):\n",
      "  File \"/Users/haripurnapatre/opt/anaconda3/lib/python3.9/site-packages/sklearn/model_selection/_validation.py\", line 762, in _score\n",
      "    scores = scorer(estimator, X_test, y_test)\n",
      "  File \"/Users/haripurnapatre/opt/anaconda3/lib/python3.9/site-packages/sklearn/metrics/_scorer.py\", line 216, in __call__\n",
      "    return self._score(\n",
      "  File \"/Users/haripurnapatre/opt/anaconda3/lib/python3.9/site-packages/sklearn/metrics/_scorer.py\", line 369, in _score\n",
      "    y_pred = method_caller(clf, \"predict_proba\", X)\n",
      "  File \"/Users/haripurnapatre/opt/anaconda3/lib/python3.9/site-packages/sklearn/metrics/_scorer.py\", line 68, in _cached_call\n",
      "    return getattr(estimator, method)(*args, **kwargs)\n",
      "  File \"/Users/haripurnapatre/opt/anaconda3/lib/python3.9/site-packages/sklearn/ensemble/_forest.py\", line 840, in predict_proba\n",
      "    X = self._validate_X_predict(X)\n",
      "  File \"/Users/haripurnapatre/opt/anaconda3/lib/python3.9/site-packages/sklearn/ensemble/_forest.py\", line 569, in _validate_X_predict\n",
      "    X = self._validate_data(X, dtype=DTYPE, accept_sparse=\"csr\", reset=False)\n",
      "  File \"/Users/haripurnapatre/opt/anaconda3/lib/python3.9/site-packages/sklearn/base.py\", line 561, in _validate_data\n",
      "    X = check_array(X, **check_params)\n",
      "  File \"/Users/haripurnapatre/opt/anaconda3/lib/python3.9/site-packages/sklearn/utils/validation.py\", line 797, in check_array\n",
      "    raise ValueError(\n",
      "ValueError: Found array with 0 sample(s) (shape=(0, 52)) while a minimum of 1 is required.\n",
      "\n",
      "  warnings.warn(\n",
      "/Users/haripurnapatre/opt/anaconda3/lib/python3.9/site-packages/sklearn/model_selection/_validation.py:771: UserWarning: Scoring failed. The score on this train-test partition for these parameters will be set to nan. Details: \n",
      "Traceback (most recent call last):\n",
      "  File \"/Users/haripurnapatre/opt/anaconda3/lib/python3.9/site-packages/sklearn/model_selection/_validation.py\", line 762, in _score\n",
      "    scores = scorer(estimator, X_test, y_test)\n",
      "  File \"/Users/haripurnapatre/opt/anaconda3/lib/python3.9/site-packages/sklearn/metrics/_scorer.py\", line 216, in __call__\n",
      "    return self._score(\n",
      "  File \"/Users/haripurnapatre/opt/anaconda3/lib/python3.9/site-packages/sklearn/metrics/_scorer.py\", line 381, in _score\n",
      "    return self._sign * self._score_func(y, y_pred, **self._kwargs)\n",
      "  File \"/Users/haripurnapatre/opt/anaconda3/lib/python3.9/site-packages/sklearn/metrics/_ranking.py\", line 567, in roc_auc_score\n",
      "    return _average_binary_score(\n",
      "  File \"/Users/haripurnapatre/opt/anaconda3/lib/python3.9/site-packages/sklearn/metrics/_base.py\", line 75, in _average_binary_score\n",
      "    return binary_metric(y_true, y_score, sample_weight=sample_weight)\n",
      "  File \"/Users/haripurnapatre/opt/anaconda3/lib/python3.9/site-packages/sklearn/metrics/_ranking.py\", line 337, in _binary_roc_auc_score\n",
      "    raise ValueError(\n",
      "ValueError: Only one class present in y_true. ROC AUC score is not defined in that case.\n",
      "\n",
      "  warnings.warn(\n",
      "/Users/haripurnapatre/opt/anaconda3/lib/python3.9/site-packages/sklearn/model_selection/_validation.py:771: UserWarning: Scoring failed. The score on this train-test partition for these parameters will be set to nan. Details: \n",
      "Traceback (most recent call last):\n",
      "  File \"/Users/haripurnapatre/opt/anaconda3/lib/python3.9/site-packages/sklearn/metrics/_scorer.py\", line 355, in _score\n",
      "    y_pred = method_caller(clf, \"decision_function\", X)\n",
      "  File \"/Users/haripurnapatre/opt/anaconda3/lib/python3.9/site-packages/sklearn/metrics/_scorer.py\", line 68, in _cached_call\n",
      "    return getattr(estimator, method)(*args, **kwargs)\n",
      "AttributeError: 'RandomForestClassifier' object has no attribute 'decision_function'\n",
      "\n",
      "During handling of the above exception, another exception occurred:\n",
      "\n",
      "Traceback (most recent call last):\n",
      "  File \"/Users/haripurnapatre/opt/anaconda3/lib/python3.9/site-packages/sklearn/model_selection/_validation.py\", line 762, in _score\n",
      "    scores = scorer(estimator, X_test, y_test)\n",
      "  File \"/Users/haripurnapatre/opt/anaconda3/lib/python3.9/site-packages/sklearn/metrics/_scorer.py\", line 216, in __call__\n",
      "    return self._score(\n",
      "  File \"/Users/haripurnapatre/opt/anaconda3/lib/python3.9/site-packages/sklearn/metrics/_scorer.py\", line 369, in _score\n",
      "    y_pred = method_caller(clf, \"predict_proba\", X)\n",
      "  File \"/Users/haripurnapatre/opt/anaconda3/lib/python3.9/site-packages/sklearn/metrics/_scorer.py\", line 68, in _cached_call\n",
      "    return getattr(estimator, method)(*args, **kwargs)\n",
      "  File \"/Users/haripurnapatre/opt/anaconda3/lib/python3.9/site-packages/sklearn/ensemble/_forest.py\", line 840, in predict_proba\n",
      "    X = self._validate_X_predict(X)\n",
      "  File \"/Users/haripurnapatre/opt/anaconda3/lib/python3.9/site-packages/sklearn/ensemble/_forest.py\", line 569, in _validate_X_predict\n",
      "    X = self._validate_data(X, dtype=DTYPE, accept_sparse=\"csr\", reset=False)\n",
      "  File \"/Users/haripurnapatre/opt/anaconda3/lib/python3.9/site-packages/sklearn/base.py\", line 561, in _validate_data\n",
      "    X = check_array(X, **check_params)\n",
      "  File \"/Users/haripurnapatre/opt/anaconda3/lib/python3.9/site-packages/sklearn/utils/validation.py\", line 797, in check_array\n",
      "    raise ValueError(\n",
      "ValueError: Found array with 0 sample(s) (shape=(0, 52)) while a minimum of 1 is required.\n",
      "\n",
      "  warnings.warn(\n",
      "/Users/haripurnapatre/opt/anaconda3/lib/python3.9/site-packages/sklearn/model_selection/_validation.py:771: UserWarning: Scoring failed. The score on this train-test partition for these parameters will be set to nan. Details: \n",
      "Traceback (most recent call last):\n",
      "  File \"/Users/haripurnapatre/opt/anaconda3/lib/python3.9/site-packages/sklearn/metrics/_scorer.py\", line 355, in _score\n",
      "    y_pred = method_caller(clf, \"decision_function\", X)\n",
      "  File \"/Users/haripurnapatre/opt/anaconda3/lib/python3.9/site-packages/sklearn/metrics/_scorer.py\", line 68, in _cached_call\n",
      "    return getattr(estimator, method)(*args, **kwargs)\n",
      "AttributeError: 'RandomForestClassifier' object has no attribute 'decision_function'\n",
      "\n",
      "During handling of the above exception, another exception occurred:\n",
      "\n",
      "Traceback (most recent call last):\n",
      "  File \"/Users/haripurnapatre/opt/anaconda3/lib/python3.9/site-packages/sklearn/model_selection/_validation.py\", line 762, in _score\n",
      "    scores = scorer(estimator, X_test, y_test)\n",
      "  File \"/Users/haripurnapatre/opt/anaconda3/lib/python3.9/site-packages/sklearn/metrics/_scorer.py\", line 216, in __call__\n",
      "    return self._score(\n",
      "  File \"/Users/haripurnapatre/opt/anaconda3/lib/python3.9/site-packages/sklearn/metrics/_scorer.py\", line 369, in _score\n",
      "    y_pred = method_caller(clf, \"predict_proba\", X)\n",
      "  File \"/Users/haripurnapatre/opt/anaconda3/lib/python3.9/site-packages/sklearn/metrics/_scorer.py\", line 68, in _cached_call\n",
      "    return getattr(estimator, method)(*args, **kwargs)\n",
      "  File \"/Users/haripurnapatre/opt/anaconda3/lib/python3.9/site-packages/sklearn/ensemble/_forest.py\", line 840, in predict_proba\n",
      "    X = self._validate_X_predict(X)\n",
      "  File \"/Users/haripurnapatre/opt/anaconda3/lib/python3.9/site-packages/sklearn/ensemble/_forest.py\", line 569, in _validate_X_predict\n",
      "    X = self._validate_data(X, dtype=DTYPE, accept_sparse=\"csr\", reset=False)\n",
      "  File \"/Users/haripurnapatre/opt/anaconda3/lib/python3.9/site-packages/sklearn/base.py\", line 561, in _validate_data\n",
      "    X = check_array(X, **check_params)\n",
      "  File \"/Users/haripurnapatre/opt/anaconda3/lib/python3.9/site-packages/sklearn/utils/validation.py\", line 797, in check_array\n",
      "    raise ValueError(\n",
      "ValueError: Found array with 0 sample(s) (shape=(0, 52)) while a minimum of 1 is required.\n",
      "\n",
      "  warnings.warn(\n",
      "/Users/haripurnapatre/opt/anaconda3/lib/python3.9/site-packages/sklearn/model_selection/_validation.py:771: UserWarning: Scoring failed. The score on this train-test partition for these parameters will be set to nan. Details: \n",
      "Traceback (most recent call last):\n",
      "  File \"/Users/haripurnapatre/opt/anaconda3/lib/python3.9/site-packages/sklearn/model_selection/_validation.py\", line 762, in _score\n",
      "    scores = scorer(estimator, X_test, y_test)\n",
      "  File \"/Users/haripurnapatre/opt/anaconda3/lib/python3.9/site-packages/sklearn/metrics/_scorer.py\", line 216, in __call__\n",
      "    return self._score(\n",
      "  File \"/Users/haripurnapatre/opt/anaconda3/lib/python3.9/site-packages/sklearn/metrics/_scorer.py\", line 381, in _score\n",
      "    return self._sign * self._score_func(y, y_pred, **self._kwargs)\n",
      "  File \"/Users/haripurnapatre/opt/anaconda3/lib/python3.9/site-packages/sklearn/metrics/_ranking.py\", line 567, in roc_auc_score\n",
      "    return _average_binary_score(\n",
      "  File \"/Users/haripurnapatre/opt/anaconda3/lib/python3.9/site-packages/sklearn/metrics/_base.py\", line 75, in _average_binary_score\n",
      "    return binary_metric(y_true, y_score, sample_weight=sample_weight)\n",
      "  File \"/Users/haripurnapatre/opt/anaconda3/lib/python3.9/site-packages/sklearn/metrics/_ranking.py\", line 337, in _binary_roc_auc_score\n",
      "    raise ValueError(\n",
      "ValueError: Only one class present in y_true. ROC AUC score is not defined in that case.\n",
      "\n",
      "  warnings.warn(\n",
      "/Users/haripurnapatre/opt/anaconda3/lib/python3.9/site-packages/sklearn/model_selection/_validation.py:771: UserWarning: Scoring failed. The score on this train-test partition for these parameters will be set to nan. Details: \n",
      "Traceback (most recent call last):\n",
      "  File \"/Users/haripurnapatre/opt/anaconda3/lib/python3.9/site-packages/sklearn/metrics/_scorer.py\", line 355, in _score\n",
      "    y_pred = method_caller(clf, \"decision_function\", X)\n",
      "  File \"/Users/haripurnapatre/opt/anaconda3/lib/python3.9/site-packages/sklearn/metrics/_scorer.py\", line 68, in _cached_call\n",
      "    return getattr(estimator, method)(*args, **kwargs)\n",
      "AttributeError: 'RandomForestClassifier' object has no attribute 'decision_function'\n",
      "\n",
      "During handling of the above exception, another exception occurred:\n",
      "\n",
      "Traceback (most recent call last):\n",
      "  File \"/Users/haripurnapatre/opt/anaconda3/lib/python3.9/site-packages/sklearn/model_selection/_validation.py\", line 762, in _score\n",
      "    scores = scorer(estimator, X_test, y_test)\n",
      "  File \"/Users/haripurnapatre/opt/anaconda3/lib/python3.9/site-packages/sklearn/metrics/_scorer.py\", line 216, in __call__\n",
      "    return self._score(\n",
      "  File \"/Users/haripurnapatre/opt/anaconda3/lib/python3.9/site-packages/sklearn/metrics/_scorer.py\", line 369, in _score\n",
      "    y_pred = method_caller(clf, \"predict_proba\", X)\n",
      "  File \"/Users/haripurnapatre/opt/anaconda3/lib/python3.9/site-packages/sklearn/metrics/_scorer.py\", line 68, in _cached_call\n",
      "    return getattr(estimator, method)(*args, **kwargs)\n",
      "  File \"/Users/haripurnapatre/opt/anaconda3/lib/python3.9/site-packages/sklearn/ensemble/_forest.py\", line 840, in predict_proba\n",
      "    X = self._validate_X_predict(X)\n",
      "  File \"/Users/haripurnapatre/opt/anaconda3/lib/python3.9/site-packages/sklearn/ensemble/_forest.py\", line 569, in _validate_X_predict\n",
      "    X = self._validate_data(X, dtype=DTYPE, accept_sparse=\"csr\", reset=False)\n",
      "  File \"/Users/haripurnapatre/opt/anaconda3/lib/python3.9/site-packages/sklearn/base.py\", line 561, in _validate_data\n",
      "    X = check_array(X, **check_params)\n",
      "  File \"/Users/haripurnapatre/opt/anaconda3/lib/python3.9/site-packages/sklearn/utils/validation.py\", line 797, in check_array\n",
      "    raise ValueError(\n",
      "ValueError: Found array with 0 sample(s) (shape=(0, 52)) while a minimum of 1 is required.\n",
      "\n",
      "  warnings.warn(\n",
      "/Users/haripurnapatre/opt/anaconda3/lib/python3.9/site-packages/sklearn/model_selection/_validation.py:771: UserWarning: Scoring failed. The score on this train-test partition for these parameters will be set to nan. Details: \n",
      "Traceback (most recent call last):\n",
      "  File \"/Users/haripurnapatre/opt/anaconda3/lib/python3.9/site-packages/sklearn/metrics/_scorer.py\", line 355, in _score\n",
      "    y_pred = method_caller(clf, \"decision_function\", X)\n",
      "  File \"/Users/haripurnapatre/opt/anaconda3/lib/python3.9/site-packages/sklearn/metrics/_scorer.py\", line 68, in _cached_call\n",
      "    return getattr(estimator, method)(*args, **kwargs)\n",
      "AttributeError: 'RandomForestClassifier' object has no attribute 'decision_function'\n",
      "\n",
      "During handling of the above exception, another exception occurred:\n",
      "\n",
      "Traceback (most recent call last):\n",
      "  File \"/Users/haripurnapatre/opt/anaconda3/lib/python3.9/site-packages/sklearn/model_selection/_validation.py\", line 762, in _score\n",
      "    scores = scorer(estimator, X_test, y_test)\n",
      "  File \"/Users/haripurnapatre/opt/anaconda3/lib/python3.9/site-packages/sklearn/metrics/_scorer.py\", line 216, in __call__\n",
      "    return self._score(\n",
      "  File \"/Users/haripurnapatre/opt/anaconda3/lib/python3.9/site-packages/sklearn/metrics/_scorer.py\", line 369, in _score\n",
      "    y_pred = method_caller(clf, \"predict_proba\", X)\n",
      "  File \"/Users/haripurnapatre/opt/anaconda3/lib/python3.9/site-packages/sklearn/metrics/_scorer.py\", line 68, in _cached_call\n",
      "    return getattr(estimator, method)(*args, **kwargs)\n",
      "  File \"/Users/haripurnapatre/opt/anaconda3/lib/python3.9/site-packages/sklearn/ensemble/_forest.py\", line 840, in predict_proba\n",
      "    X = self._validate_X_predict(X)\n",
      "  File \"/Users/haripurnapatre/opt/anaconda3/lib/python3.9/site-packages/sklearn/ensemble/_forest.py\", line 569, in _validate_X_predict\n",
      "    X = self._validate_data(X, dtype=DTYPE, accept_sparse=\"csr\", reset=False)\n",
      "  File \"/Users/haripurnapatre/opt/anaconda3/lib/python3.9/site-packages/sklearn/base.py\", line 561, in _validate_data\n",
      "    X = check_array(X, **check_params)\n",
      "  File \"/Users/haripurnapatre/opt/anaconda3/lib/python3.9/site-packages/sklearn/utils/validation.py\", line 797, in check_array\n",
      "    raise ValueError(\n",
      "ValueError: Found array with 0 sample(s) (shape=(0, 52)) while a minimum of 1 is required.\n",
      "\n",
      "  warnings.warn(\n",
      "/Users/haripurnapatre/opt/anaconda3/lib/python3.9/site-packages/sklearn/model_selection/_validation.py:771: UserWarning: Scoring failed. The score on this train-test partition for these parameters will be set to nan. Details: \n",
      "Traceback (most recent call last):\n",
      "  File \"/Users/haripurnapatre/opt/anaconda3/lib/python3.9/site-packages/sklearn/metrics/_scorer.py\", line 355, in _score\n",
      "    y_pred = method_caller(clf, \"decision_function\", X)\n",
      "  File \"/Users/haripurnapatre/opt/anaconda3/lib/python3.9/site-packages/sklearn/metrics/_scorer.py\", line 68, in _cached_call\n",
      "    return getattr(estimator, method)(*args, **kwargs)\n",
      "AttributeError: 'RandomForestClassifier' object has no attribute 'decision_function'\n",
      "\n",
      "During handling of the above exception, another exception occurred:\n",
      "\n",
      "Traceback (most recent call last):\n",
      "  File \"/Users/haripurnapatre/opt/anaconda3/lib/python3.9/site-packages/sklearn/model_selection/_validation.py\", line 762, in _score\n",
      "    scores = scorer(estimator, X_test, y_test)\n",
      "  File \"/Users/haripurnapatre/opt/anaconda3/lib/python3.9/site-packages/sklearn/metrics/_scorer.py\", line 216, in __call__\n",
      "    return self._score(\n",
      "  File \"/Users/haripurnapatre/opt/anaconda3/lib/python3.9/site-packages/sklearn/metrics/_scorer.py\", line 369, in _score\n",
      "    y_pred = method_caller(clf, \"predict_proba\", X)\n",
      "  File \"/Users/haripurnapatre/opt/anaconda3/lib/python3.9/site-packages/sklearn/metrics/_scorer.py\", line 68, in _cached_call\n",
      "    return getattr(estimator, method)(*args, **kwargs)\n",
      "  File \"/Users/haripurnapatre/opt/anaconda3/lib/python3.9/site-packages/sklearn/ensemble/_forest.py\", line 840, in predict_proba\n",
      "    X = self._validate_X_predict(X)\n",
      "  File \"/Users/haripurnapatre/opt/anaconda3/lib/python3.9/site-packages/sklearn/ensemble/_forest.py\", line 569, in _validate_X_predict\n",
      "    X = self._validate_data(X, dtype=DTYPE, accept_sparse=\"csr\", reset=False)\n",
      "  File \"/Users/haripurnapatre/opt/anaconda3/lib/python3.9/site-packages/sklearn/base.py\", line 561, in _validate_data\n",
      "    X = check_array(X, **check_params)\n",
      "  File \"/Users/haripurnapatre/opt/anaconda3/lib/python3.9/site-packages/sklearn/utils/validation.py\", line 797, in check_array\n",
      "    raise ValueError(\n",
      "ValueError: Found array with 0 sample(s) (shape=(0, 52)) while a minimum of 1 is required.\n",
      "\n",
      "  warnings.warn(\n",
      "/Users/haripurnapatre/opt/anaconda3/lib/python3.9/site-packages/sklearn/model_selection/_validation.py:771: UserWarning: Scoring failed. The score on this train-test partition for these parameters will be set to nan. Details: \n",
      "Traceback (most recent call last):\n",
      "  File \"/Users/haripurnapatre/opt/anaconda3/lib/python3.9/site-packages/sklearn/metrics/_scorer.py\", line 355, in _score\n",
      "    y_pred = method_caller(clf, \"decision_function\", X)\n",
      "  File \"/Users/haripurnapatre/opt/anaconda3/lib/python3.9/site-packages/sklearn/metrics/_scorer.py\", line 68, in _cached_call\n",
      "    return getattr(estimator, method)(*args, **kwargs)\n",
      "AttributeError: 'RandomForestClassifier' object has no attribute 'decision_function'\n",
      "\n",
      "During handling of the above exception, another exception occurred:\n",
      "\n",
      "Traceback (most recent call last):\n",
      "  File \"/Users/haripurnapatre/opt/anaconda3/lib/python3.9/site-packages/sklearn/model_selection/_validation.py\", line 762, in _score\n",
      "    scores = scorer(estimator, X_test, y_test)\n",
      "  File \"/Users/haripurnapatre/opt/anaconda3/lib/python3.9/site-packages/sklearn/metrics/_scorer.py\", line 216, in __call__\n",
      "    return self._score(\n",
      "  File \"/Users/haripurnapatre/opt/anaconda3/lib/python3.9/site-packages/sklearn/metrics/_scorer.py\", line 369, in _score\n",
      "    y_pred = method_caller(clf, \"predict_proba\", X)\n",
      "  File \"/Users/haripurnapatre/opt/anaconda3/lib/python3.9/site-packages/sklearn/metrics/_scorer.py\", line 68, in _cached_call\n",
      "    return getattr(estimator, method)(*args, **kwargs)\n",
      "  File \"/Users/haripurnapatre/opt/anaconda3/lib/python3.9/site-packages/sklearn/ensemble/_forest.py\", line 840, in predict_proba\n",
      "    X = self._validate_X_predict(X)\n",
      "  File \"/Users/haripurnapatre/opt/anaconda3/lib/python3.9/site-packages/sklearn/ensemble/_forest.py\", line 569, in _validate_X_predict\n",
      "    X = self._validate_data(X, dtype=DTYPE, accept_sparse=\"csr\", reset=False)\n",
      "  File \"/Users/haripurnapatre/opt/anaconda3/lib/python3.9/site-packages/sklearn/base.py\", line 561, in _validate_data\n",
      "    X = check_array(X, **check_params)\n",
      "  File \"/Users/haripurnapatre/opt/anaconda3/lib/python3.9/site-packages/sklearn/utils/validation.py\", line 797, in check_array\n",
      "    raise ValueError(\n",
      "ValueError: Found array with 0 sample(s) (shape=(0, 52)) while a minimum of 1 is required.\n",
      "\n",
      "  warnings.warn(\n"
     ]
    },
    {
     "name": "stdout",
     "output_type": "stream",
     "text": [
      "[CV] END bootstrap=True, max_depth=50, max_features=sqrt, min_samples_leaf=2, min_samples_split=10, n_estimators=200; total time= 1.9min\n",
      "[CV] END bootstrap=False, max_depth=90, max_features=sqrt, min_samples_leaf=4, min_samples_split=10, n_estimators=600; total time=13.4min\n",
      "[CV] END bootstrap=True, max_depth=30, max_features=sqrt, min_samples_leaf=1, min_samples_split=5, n_estimators=1400; total time=13.7min\n",
      "[CV] END bootstrap=True, max_depth=50, max_features=sqrt, min_samples_leaf=2, min_samples_split=10, n_estimators=200; total time= 1.9min\n",
      "[CV] END bootstrap=False, max_depth=60, max_features=auto, min_samples_leaf=2, min_samples_split=2, n_estimators=600; total time=13.9min\n",
      "[CV] END bootstrap=False, max_depth=80, max_features=auto, min_samples_leaf=1, min_samples_split=10, n_estimators=1000; total time=13.2min\n"
     ]
    },
    {
     "name": "stderr",
     "output_type": "stream",
     "text": [
      "/Users/haripurnapatre/opt/anaconda3/lib/python3.9/site-packages/sklearn/model_selection/_validation.py:771: UserWarning: Scoring failed. The score on this train-test partition for these parameters will be set to nan. Details: \n",
      "Traceback (most recent call last):\n",
      "  File \"/Users/haripurnapatre/opt/anaconda3/lib/python3.9/site-packages/sklearn/metrics/_scorer.py\", line 355, in _score\n",
      "    y_pred = method_caller(clf, \"decision_function\", X)\n",
      "  File \"/Users/haripurnapatre/opt/anaconda3/lib/python3.9/site-packages/sklearn/metrics/_scorer.py\", line 68, in _cached_call\n",
      "    return getattr(estimator, method)(*args, **kwargs)\n",
      "AttributeError: 'RandomForestClassifier' object has no attribute 'decision_function'\n",
      "\n",
      "During handling of the above exception, another exception occurred:\n",
      "\n",
      "Traceback (most recent call last):\n",
      "  File \"/Users/haripurnapatre/opt/anaconda3/lib/python3.9/site-packages/sklearn/model_selection/_validation.py\", line 762, in _score\n",
      "    scores = scorer(estimator, X_test, y_test)\n",
      "  File \"/Users/haripurnapatre/opt/anaconda3/lib/python3.9/site-packages/sklearn/metrics/_scorer.py\", line 216, in __call__\n",
      "    return self._score(\n",
      "  File \"/Users/haripurnapatre/opt/anaconda3/lib/python3.9/site-packages/sklearn/metrics/_scorer.py\", line 369, in _score\n",
      "    y_pred = method_caller(clf, \"predict_proba\", X)\n",
      "  File \"/Users/haripurnapatre/opt/anaconda3/lib/python3.9/site-packages/sklearn/metrics/_scorer.py\", line 68, in _cached_call\n",
      "    return getattr(estimator, method)(*args, **kwargs)\n",
      "  File \"/Users/haripurnapatre/opt/anaconda3/lib/python3.9/site-packages/sklearn/ensemble/_forest.py\", line 840, in predict_proba\n",
      "    X = self._validate_X_predict(X)\n",
      "  File \"/Users/haripurnapatre/opt/anaconda3/lib/python3.9/site-packages/sklearn/ensemble/_forest.py\", line 569, in _validate_X_predict\n",
      "    X = self._validate_data(X, dtype=DTYPE, accept_sparse=\"csr\", reset=False)\n",
      "  File \"/Users/haripurnapatre/opt/anaconda3/lib/python3.9/site-packages/sklearn/base.py\", line 561, in _validate_data\n",
      "    X = check_array(X, **check_params)\n",
      "  File \"/Users/haripurnapatre/opt/anaconda3/lib/python3.9/site-packages/sklearn/utils/validation.py\", line 797, in check_array\n",
      "    raise ValueError(\n",
      "ValueError: Found array with 0 sample(s) (shape=(0, 52)) while a minimum of 1 is required.\n",
      "\n",
      "  warnings.warn(\n"
     ]
    },
    {
     "name": "stdout",
     "output_type": "stream",
     "text": [
      "[CV] END bootstrap=True, max_depth=50, max_features=sqrt, min_samples_leaf=2, min_samples_split=10, n_estimators=200; total time= 1.9min\n",
      "[CV] END bootstrap=False, max_depth=60, max_features=auto, min_samples_leaf=2, min_samples_split=2, n_estimators=600; total time=13.9min\n",
      "[CV] END bootstrap=True, max_depth=30, max_features=sqrt, min_samples_leaf=1, min_samples_split=5, n_estimators=1400; total time=13.7min\n",
      "[CV] END bootstrap=True, max_depth=50, max_features=sqrt, min_samples_leaf=2, min_samples_split=10, n_estimators=200; total time= 1.9min\n",
      "[CV] END bootstrap=False, max_depth=60, max_features=auto, min_samples_leaf=2, min_samples_split=2, n_estimators=600; total time=13.9min\n",
      "[CV] END bootstrap=True, max_depth=30, max_features=sqrt, min_samples_leaf=1, min_samples_split=5, n_estimators=1400; total time=13.7min\n"
     ]
    },
    {
     "name": "stderr",
     "output_type": "stream",
     "text": [
      "/Users/haripurnapatre/opt/anaconda3/lib/python3.9/site-packages/sklearn/model_selection/_validation.py:771: UserWarning: Scoring failed. The score on this train-test partition for these parameters will be set to nan. Details: \n",
      "Traceback (most recent call last):\n",
      "  File \"/Users/haripurnapatre/opt/anaconda3/lib/python3.9/site-packages/sklearn/metrics/_scorer.py\", line 355, in _score\n",
      "    y_pred = method_caller(clf, \"decision_function\", X)\n",
      "  File \"/Users/haripurnapatre/opt/anaconda3/lib/python3.9/site-packages/sklearn/metrics/_scorer.py\", line 68, in _cached_call\n",
      "    return getattr(estimator, method)(*args, **kwargs)\n",
      "AttributeError: 'RandomForestClassifier' object has no attribute 'decision_function'\n",
      "\n",
      "During handling of the above exception, another exception occurred:\n",
      "\n",
      "Traceback (most recent call last):\n",
      "  File \"/Users/haripurnapatre/opt/anaconda3/lib/python3.9/site-packages/sklearn/model_selection/_validation.py\", line 762, in _score\n",
      "    scores = scorer(estimator, X_test, y_test)\n",
      "  File \"/Users/haripurnapatre/opt/anaconda3/lib/python3.9/site-packages/sklearn/metrics/_scorer.py\", line 216, in __call__\n",
      "    return self._score(\n",
      "  File \"/Users/haripurnapatre/opt/anaconda3/lib/python3.9/site-packages/sklearn/metrics/_scorer.py\", line 369, in _score\n",
      "    y_pred = method_caller(clf, \"predict_proba\", X)\n",
      "  File \"/Users/haripurnapatre/opt/anaconda3/lib/python3.9/site-packages/sklearn/metrics/_scorer.py\", line 68, in _cached_call\n",
      "    return getattr(estimator, method)(*args, **kwargs)\n",
      "  File \"/Users/haripurnapatre/opt/anaconda3/lib/python3.9/site-packages/sklearn/ensemble/_forest.py\", line 840, in predict_proba\n",
      "    X = self._validate_X_predict(X)\n",
      "  File \"/Users/haripurnapatre/opt/anaconda3/lib/python3.9/site-packages/sklearn/ensemble/_forest.py\", line 569, in _validate_X_predict\n",
      "    X = self._validate_data(X, dtype=DTYPE, accept_sparse=\"csr\", reset=False)\n",
      "  File \"/Users/haripurnapatre/opt/anaconda3/lib/python3.9/site-packages/sklearn/base.py\", line 561, in _validate_data\n",
      "    X = check_array(X, **check_params)\n",
      "  File \"/Users/haripurnapatre/opt/anaconda3/lib/python3.9/site-packages/sklearn/utils/validation.py\", line 797, in check_array\n",
      "    raise ValueError(\n",
      "ValueError: Found array with 0 sample(s) (shape=(0, 52)) while a minimum of 1 is required.\n",
      "\n",
      "  warnings.warn(\n",
      "/Users/haripurnapatre/opt/anaconda3/lib/python3.9/site-packages/sklearn/model_selection/_search.py:969: UserWarning: One or more of the test scores are non-finite: [nan nan nan nan nan]\n",
      "  warnings.warn(\n"
     ]
    },
    {
     "data": {
      "text/plain": [
       "RandomizedSearchCV(cv=StratifiedGroupKFold(n_splits=5, random_state=4, shuffle=True),\n",
       "                   estimator=RandomForestClassifier(), n_iter=5, n_jobs=-1,\n",
       "                   param_distributions={'bootstrap': [True, False],\n",
       "                                        'max_depth': [10, 20, 30, 40, 50, 60,\n",
       "                                                      70, 80, 90, 100, 110,\n",
       "                                                      None],\n",
       "                                        'max_features': ['auto', 'sqrt'],\n",
       "                                        'min_samples_leaf': [1, 2, 4],\n",
       "                                        'min_samples_split': [2, 5, 10],\n",
       "                                        'n_estimators': [200, 400, 600, 800,\n",
       "                                                         1000, 1200, 1400, 1600,\n",
       "                                                         1800, 2000]},\n",
       "                   random_state=42, scoring='roc_auc', verbose=2)"
      ]
     },
     "execution_count": 832,
     "metadata": {},
     "output_type": "execute_result"
    }
   ],
   "source": [
    "rf_random = RandomizedSearchCV(estimator = rf, param_distributions = random_grid, n_iter = 5, cv = cv1, verbose=2, random_state=42, n_jobs = -1, scoring='roc_auc')\n",
    "# Fit the random search model\n",
    "\n",
    "rf_random.fit(x1_train, y1_train)"
   ]
  },
  {
   "cell_type": "markdown",
   "id": "03c4fd42",
   "metadata": {},
   "source": [
    "**Parameters optimized:**\n",
    "* **n_estimaors** - This is the **number of trees you want to build before taking averages of predictions**. Higher number of trees give you better performance but makes your code slower.\n",
    "* **min_samples_split** - This **specifies the minimum number of samples required to split an internal node**. For instance, if min_samples_split = 5 , and there are 7 samples at an internal node, then the split is allowed.\n",
    "* **min_samples_leaf** - This **guarantees a minimum number of samples in a leaf**.\n",
    "* **max_features** - These are the **maximum number of features Random Forest is allowed to try in individual tree**. For instance, if the total number of variables are 100, we can only take 10 of them in individual tree.\n",
    "* **max_depth** - The max_depth of a tree in Random Forest is defined as the **longest path between the root node and the leaf node**. Using the max_depth parameter, I can limit up to what depth I want every tree in my random forest to grow.\n",
    "* **bootstrap** - Bootstrapping is a statistical resampling technique that involves **random sampling of a dataset with replacement.**"
   ]
  },
  {
   "cell_type": "code",
   "execution_count": 837,
   "id": "d0ef68ef",
   "metadata": {},
   "outputs": [
    {
     "data": {
      "text/plain": [
       "({'n_estimators': 200,\n",
       "  'min_samples_split': 10,\n",
       "  'min_samples_leaf': 2,\n",
       "  'max_features': 'sqrt',\n",
       "  'max_depth': 50,\n",
       "  'bootstrap': True},\n",
       " nan)"
      ]
     },
     "execution_count": 837,
     "metadata": {},
     "output_type": "execute_result"
    },
    {
     "name": "stdout",
     "output_type": "stream",
     "text": [
      "[CV] END bootstrap=True, max_depth=50, max_features=sqrt, min_samples_leaf=2, min_samples_split=10, n_estimators=200; total time= 1.9min\n",
      "[CV] END bootstrap=False, max_depth=90, max_features=sqrt, min_samples_leaf=4, min_samples_split=10, n_estimators=600; total time=13.4min\n",
      "[CV] END bootstrap=True, max_depth=30, max_features=sqrt, min_samples_leaf=1, min_samples_split=5, n_estimators=1400; total time=13.7min\n",
      "[CV] END bootstrap=False, max_depth=80, max_features=auto, min_samples_leaf=1, min_samples_split=10, n_estimators=1000; total time= 5.8min\n"
     ]
    }
   ],
   "source": [
    "rf_random.best_params_,rf_random.best_score_ "
   ]
  },
  {
   "cell_type": "code",
   "execution_count": 1728,
   "id": "3a15618a",
   "metadata": {},
   "outputs": [
    {
     "data": {
      "image/png": "[encoded data removed]",
      "text/plain": [
       "<Figure size 1296x288 with 1 Axes>"
      ]
     },
     "metadata": {},
     "output_type": "display_data"
    }
   ],
   "source": [
    "import matplotlib.pyplot as plt\n",
    "import seaborn as sns\n",
    "plt.figure(figsize=(18,4))\n",
    "sns.countplot(data = result_train, x = 'Target')\n",
    "plt.show()"
   ]
  },
  {
   "cell_type": "markdown",
   "id": "da72f571",
   "metadata": {},
   "source": [
    "## Imbalanced Data\n",
    "**The model is overfitting as we are training our model on imbalanced data. In order to get better accuracy we should take care of the imbalance.**\n",
    "* Since the RF seems to be biased towards the majority classs, we shall place a heavier penalty on missclassifying the minority class. \n",
    "* We assign a weight to each class, with the minority class given larger weight (i.e., higher misclassification cost). \n",
    "* We can adjust threshold to get better classification."
   ]
  },
  {
   "cell_type": "code",
   "execution_count": 1742,
   "id": "aeee1ab3",
   "metadata": {},
   "outputs": [],
   "source": [
    "x = result_train.drop('Target', axis = 1)\n",
    "y = result_train['Target']\n",
    "x1_train, x1_test, y1_train, y1_test = train_test_split(x, y, test_size=0.33, random_state=42, stratify=y)"
   ]
  },
  {
   "cell_type": "code",
   "execution_count": 1743,
   "id": "48b95510",
   "metadata": {},
   "outputs": [],
   "source": [
    "from sklearn.utils import compute_class_weight\n",
    "#Calculate class weights\n",
    "class_weights = compute_class_weight( class_weight = \"balanced\",\n",
    "                                        classes = np.unique(y1_train),\n",
    "                                        y = y1_train)"
   ]
  },
  {
   "cell_type": "code",
   "execution_count": 1744,
   "id": "74a2b5cf",
   "metadata": {},
   "outputs": [
    {
     "data": {
      "text/plain": [
       "array([0.58121219, 3.5783556 ])"
      ]
     },
     "execution_count": 1744,
     "metadata": {},
     "output_type": "execute_result"
    }
   ],
   "source": [
    "class_weights"
   ]
  },
  {
   "cell_type": "code",
   "execution_count": 1745,
   "id": "1c8385cc",
   "metadata": {},
   "outputs": [],
   "source": [
    "weight = {0 : 0.58121219, 1 : 3.5783556 }"
   ]
  },
  {
   "cell_type": "code",
   "execution_count": 1746,
   "id": "37b12081",
   "metadata": {},
   "outputs": [],
   "source": [
    "#Assign calculated weights along with the hyperparameters.\n",
    "rf = RandomForestClassifier(n_estimators = 200,\n",
    "  min_samples_split = 10,\n",
    "  min_samples_leaf= 2,\n",
    "  max_features= 'sqrt',\n",
    "  max_depth= 50,\n",
    "  class_weight= weight,                       \n",
    "  bootstrap= True)"
   ]
  },
  {
   "cell_type": "markdown",
   "id": "d9c56e6d",
   "metadata": {},
   "source": [
    "We can see that there is a slight increase in accuracy after hyperparameter tuning"
   ]
  },
  {
   "cell_type": "code",
   "execution_count": 1747,
   "id": "721b81a0",
   "metadata": {},
   "outputs": [
    {
     "name": "stdout",
     "output_type": "stream",
     "text": [
      "AUC Score: 0.8970417153767842\n"
     ]
    }
   ],
   "source": [
    "for train_index,test_index in cv.split(x1_train,y1_train,groups):\n",
    "    x_train, x_test, y_train, y_test = x.iloc[train_index], x.iloc[test_index], y.iloc[train_index], y.iloc[test_index]\n",
    "    x_train  = x_train.drop(['User_ID'], axis = 1)\n",
    "    x_test  = x_test.drop(['User_ID'], axis = 1)\n",
    "    rf.fit(x_train, y_train)\n",
    "    rf_probs = rf.predict_proba(x_test)[:,1]\n",
    "    aucscore = roc_auc_score(y_test, rf_probs)\n",
    "    aucs.append(aucscore)\n",
    "print(\"AUC Score:\", np.mean(aucs))"
   ]
  },
  {
   "cell_type": "code",
   "execution_count": 1748,
   "id": "d8344057",
   "metadata": {},
   "outputs": [
    {
     "data": {
      "image/png": "[encoded data removed]",
      "text/plain": [
       "<Figure size 1296x288 with 1 Axes>"
      ]
     },
     "metadata": {},
     "output_type": "display_data"
    }
   ],
   "source": [
    "plt.figure(figsize=(18,4))\n",
    "sns.set_theme(style=\"darkgrid\")\n",
    "p = sns.lineplot(x=[i+1 for i in range(len(aucs))],y=aucs[::-1])\n",
    "p.set_xlabel(\"Folds\", fontsize = 15)\n",
    "p.set_ylabel(\"roc_auc_score\", fontsize = 15)\n",
    "plt.title(\"Cross Val Score Per Fold\", fontsize = 15)\n",
    "plt.show()"
   ]
  },
  {
   "cell_type": "code",
   "execution_count": 1751,
   "id": "9f02c93f",
   "metadata": {},
   "outputs": [
    {
     "name": "stdout",
     "output_type": "stream",
     "text": [
      "Hold Out Set Value is: 0.9216395255378343\n"
     ]
    }
   ],
   "source": [
    "xq = x1_test.drop(['User_ID'], axis = 1)\n",
    "rfp = rf.predict_proba(xq)[:,1]\n",
    "print('Hold Out Set Value is:',roc_auc_score(y1_test,rfp))"
   ]
  },
  {
   "cell_type": "code",
   "execution_count": 1752,
   "id": "64a3e33d",
   "metadata": {
    "scrolled": true
   },
   "outputs": [
    {
     "data": {
      "image/png": "[encoded data removed]",
      "text/plain": [
       "<Figure size 432x288 with 1 Axes>"
      ]
     },
     "metadata": {},
     "output_type": "display_data"
    }
   ],
   "source": [
    "import sklearn.metrics as metrics\n",
    "# calculate the fpr and tpr for all thresholds of the classification\n",
    "probs = rf.predict_proba(xq)\n",
    "preds = probs[:,1]\n",
    "fpr, tpr, threshold = metrics.roc_curve(y1_test, preds)\n",
    "roc_auc = metrics.auc(fpr, tpr)\n",
    "\n",
    "# method I: plt\n",
    "import matplotlib.pyplot as plt\n",
    "plt.title('Receiver Operating Characteristic')\n",
    "plt.plot(fpr, tpr, 'b', label = 'AUC = %0.2f' % roc_auc)\n",
    "plt.legend(loc = 'lower right')\n",
    "plt.plot([0, 1], [0, 1],'r--')\n",
    "plt.xlim([0, 1])\n",
    "plt.ylim([0, 1])\n",
    "plt.ylabel('True Positive Rate')\n",
    "plt.xlabel('False Positive Rate')\n",
    "plt.show()"
   ]
  },
  {
   "cell_type": "markdown",
   "id": "0c9acdac",
   "metadata": {},
   "source": [
    "## Baseline model to make the prediction of the actual class of the data point directly.\n",
    "\n",
    "* Till now we have been predicting the **probability of a data point belonging in a particular class**. Now we will make a **binary prediction of whether it belongs to a class or not**. \n",
    "* We will do this as it will help us see how our results change after **adjusting threhold.**\n",
    "* The baseline model has a **default threshold of 0.5.**\n",
    "* We use **model.predict instead of model.predict_proba.**"
   ]
  },
  {
   "cell_type": "code",
   "execution_count": 1753,
   "id": "ead95468",
   "metadata": {},
   "outputs": [
    {
     "name": "stdout",
     "output_type": "stream",
     "text": [
      "AUC Score: 0.8613896878892052\n"
     ]
    }
   ],
   "source": [
    "# we use model.predict instead of model.predict_proba\n",
    "for train_index,test_index in cv.split(x1_train,y1_train,groups):\n",
    "    x_train, x_test, y_train, y_test = x.iloc[train_index], x.iloc[test_index], y.iloc[train_index], y.iloc[test_index]\n",
    "    x_train  = x_train.drop(['User_ID'], axis = 1)\n",
    "    x_test  = x_test.drop(['User_ID'], axis = 1)\n",
    "    rf.fit(x_train, y_train)\n",
    "    rf_probs = rf.predict(x_test)\n",
    "    aucscore = roc_auc_score(y_test, rf_probs)\n",
    "    aucs.append(aucscore)\n",
    "print(\"AUC Score:\", np.mean(aucs))"
   ]
  },
  {
   "cell_type": "code",
   "execution_count": 1754,
   "id": "fee14dd4",
   "metadata": {},
   "outputs": [
    {
     "data": {
      "image/png": "[encoded data removed]",
      "text/plain": [
       "<Figure size 1296x288 with 1 Axes>"
      ]
     },
     "metadata": {},
     "output_type": "display_data"
    }
   ],
   "source": [
    "plt.figure(figsize=(18,4))\n",
    "sns.set_theme(style=\"darkgrid\")\n",
    "p = sns.lineplot(x=[i+1 for i in range(len(aucs))],y=aucs[::-1])\n",
    "p.set_xlabel(\"Folds\", fontsize = 15)\n",
    "p.set_ylabel(\"roc_auc_score\", fontsize = 15)\n",
    "plt.title(\"Cross Val Score Per Fold\", fontsize = 15)\n",
    "plt.show()"
   ]
  },
  {
   "cell_type": "code",
   "execution_count": 1757,
   "id": "108a4395",
   "metadata": {},
   "outputs": [
    {
     "name": "stdout",
     "output_type": "stream",
     "text": [
      "Baseline Value when threshold is (0.5): 0.8387145981652773\n"
     ]
    }
   ],
   "source": [
    "rfp = rf.predict(xq)\n",
    "rfp = pd.DataFrame(rfp)\n",
    "print('Baseline Value when threshold is (0.5):',roc_auc_score(y1_test,rfp))"
   ]
  },
  {
   "cell_type": "markdown",
   "id": "7ecd21ad",
   "metadata": {},
   "source": [
    "## Set Threshold\n",
    "* Using Auc_Roc as a metric to our classification model allows us to **evaluate the prediction of the actual class of the data point directly or predict its probability of belonging to different classes**. The latter gives us more control over the result. We can **determine our own threshold to interpret the result of the classifier**. This is sometimes more prudent than just building a completely new model!\n",
    "* We will set a threshold to **adjust the sensitivity and specifity** of the model to check how the model is performing."
   ]
  },
  {
   "cell_type": "code",
   "execution_count": 1758,
   "id": "43a2e6ae",
   "metadata": {},
   "outputs": [],
   "source": [
    "pred = []\n",
    "for i in np.linspace(0.1, 0.4, num=10): \n",
    "    rfp = rf.predict_proba(xq)[:,1]\n",
    "    rfp = np.where(rfp>i,1,0)\n",
    "    pred.append(roc_auc_score(y1_test,rfp))"
   ]
  },
  {
   "cell_type": "code",
   "execution_count": 1759,
   "id": "b8acf033",
   "metadata": {},
   "outputs": [],
   "source": [
    "thresh_acc = pd.DataFrame(data = pred, columns = ['ROC_AUC_Score'])"
   ]
  },
  {
   "cell_type": "code",
   "execution_count": 1760,
   "id": "2e43dd8f",
   "metadata": {},
   "outputs": [],
   "source": [
    "thresh_acc['Thresholds'] = np.linspace(0.1, 0.4, num=10)"
   ]
  },
  {
   "cell_type": "code",
   "execution_count": 1761,
   "id": "59e9c3fc",
   "metadata": {},
   "outputs": [
    {
     "data": {
      "text/html": [
       "<div>\n",
       "<style scoped>\n",
       "    .dataframe tbody tr th:only-of-type {\n",
       "        vertical-align: middle;\n",
       "    }\n",
       "\n",
       "    .dataframe tbody tr th {\n",
       "        vertical-align: top;\n",
       "    }\n",
       "\n",
       "    .dataframe thead th {\n",
       "        text-align: right;\n",
       "    }\n",
       "</style>\n",
       "<table border=\"1\" class=\"dataframe\">\n",
       "  <thead>\n",
       "    <tr style=\"text-align: right;\">\n",
       "      <th></th>\n",
       "      <th>ROC_AUC_Score</th>\n",
       "      <th>Thresholds</th>\n",
       "    </tr>\n",
       "  </thead>\n",
       "  <tbody>\n",
       "    <tr>\n",
       "      <th>9</th>\n",
       "      <td>0.855168</td>\n",
       "      <td>0.400000</td>\n",
       "    </tr>\n",
       "    <tr>\n",
       "      <th>8</th>\n",
       "      <td>0.852277</td>\n",
       "      <td>0.366667</td>\n",
       "    </tr>\n",
       "    <tr>\n",
       "      <th>7</th>\n",
       "      <td>0.847566</td>\n",
       "      <td>0.333333</td>\n",
       "    </tr>\n",
       "    <tr>\n",
       "      <th>6</th>\n",
       "      <td>0.840630</td>\n",
       "      <td>0.300000</td>\n",
       "    </tr>\n",
       "    <tr>\n",
       "      <th>5</th>\n",
       "      <td>0.833349</td>\n",
       "      <td>0.266667</td>\n",
       "    </tr>\n",
       "    <tr>\n",
       "      <th>4</th>\n",
       "      <td>0.823221</td>\n",
       "      <td>0.233333</td>\n",
       "    </tr>\n",
       "    <tr>\n",
       "      <th>3</th>\n",
       "      <td>0.812391</td>\n",
       "      <td>0.200000</td>\n",
       "    </tr>\n",
       "    <tr>\n",
       "      <th>2</th>\n",
       "      <td>0.801200</td>\n",
       "      <td>0.166667</td>\n",
       "    </tr>\n",
       "    <tr>\n",
       "      <th>1</th>\n",
       "      <td>0.788109</td>\n",
       "      <td>0.133333</td>\n",
       "    </tr>\n",
       "    <tr>\n",
       "      <th>0</th>\n",
       "      <td>0.772385</td>\n",
       "      <td>0.100000</td>\n",
       "    </tr>\n",
       "  </tbody>\n",
       "</table>\n",
       "</div>"
      ],
      "text/plain": [
       "   ROC_AUC_Score  Thresholds\n",
       "9       0.855168    0.400000\n",
       "8       0.852277    0.366667\n",
       "7       0.847566    0.333333\n",
       "6       0.840630    0.300000\n",
       "5       0.833349    0.266667\n",
       "4       0.823221    0.233333\n",
       "3       0.812391    0.200000\n",
       "2       0.801200    0.166667\n",
       "1       0.788109    0.133333\n",
       "0       0.772385    0.100000"
      ]
     },
     "execution_count": 1761,
     "metadata": {},
     "output_type": "execute_result"
    }
   ],
   "source": [
    "thresh_acc.sort_values(by='ROC_AUC_Score', ascending=False)"
   ]
  },
  {
   "cell_type": "code",
   "execution_count": 1762,
   "id": "22e95e42",
   "metadata": {},
   "outputs": [],
   "source": [
    "rfp = rf.predict_proba(xq)[:,1]\n",
    "rfp = pd.DataFrame(rfp)\n",
    "rfp = np.where(rfp>0.4,1,0)"
   ]
  },
  {
   "cell_type": "markdown",
   "id": "335ad035",
   "metadata": {},
   "source": [
    "### We can see that using the suitable threshold gives us a better classification value as compared to our baseline value."
   ]
  },
  {
   "cell_type": "code",
   "execution_count": 1763,
   "id": "b81a8950",
   "metadata": {},
   "outputs": [
    {
     "name": "stdout",
     "output_type": "stream",
     "text": [
      "Value after setting threshold(0.4) : 0.8551677730290573\n"
     ]
    }
   ],
   "source": [
    "print('Value after setting threshold(0.4) :',roc_auc_score(y1_test,rfp))"
   ]
  },
  {
   "cell_type": "markdown",
   "id": "ae928cb4",
   "metadata": {},
   "source": [
    "# Check Other Model and Compare with Original Model\n"
   ]
  },
  {
   "cell_type": "code",
   "execution_count": 1764,
   "id": "c6cecab1",
   "metadata": {},
   "outputs": [],
   "source": [
    "from xgboost import XGBClassifier\n",
    "xgb_f = XGBClassifier(scale_pos_weight = 1)"
   ]
  },
  {
   "cell_type": "code",
   "execution_count": 1765,
   "id": "2f11ece0",
   "metadata": {},
   "outputs": [
    {
     "name": "stderr",
     "output_type": "stream",
     "text": [
      "/Users/haripurnapatre/opt/anaconda3/lib/python3.9/site-packages/xgboost/sklearn.py:1224: UserWarning: The use of label encoder in XGBClassifier is deprecated and will be removed in a future release. To remove this warning, do the following: 1) Pass option use_label_encoder=False when constructing XGBClassifier object; and 2) Encode your labels (y) as integers starting with 0, i.e. 0, 1, 2, ..., [num_class - 1].\n",
      "  warnings.warn(label_encoder_deprecation_msg, UserWarning)\n"
     ]
    },
    {
     "name": "stdout",
     "output_type": "stream",
     "text": [
      "[14:40:14] WARNING: /Users/runner/miniforge3/conda-bld/xgboost-split_1637426408905/work/src/learner.cc:1115: Starting in XGBoost 1.3.0, the default evaluation metric used with the objective 'binary:logistic' was changed from 'error' to 'logloss'. Explicitly set eval_metric if you'd like to restore the old behavior.\n"
     ]
    },
    {
     "name": "stderr",
     "output_type": "stream",
     "text": [
      "/Users/haripurnapatre/opt/anaconda3/lib/python3.9/site-packages/xgboost/sklearn.py:1224: UserWarning: The use of label encoder in XGBClassifier is deprecated and will be removed in a future release. To remove this warning, do the following: 1) Pass option use_label_encoder=False when constructing XGBClassifier object; and 2) Encode your labels (y) as integers starting with 0, i.e. 0, 1, 2, ..., [num_class - 1].\n",
      "  warnings.warn(label_encoder_deprecation_msg, UserWarning)\n"
     ]
    },
    {
     "name": "stdout",
     "output_type": "stream",
     "text": [
      "[14:40:25] WARNING: /Users/runner/miniforge3/conda-bld/xgboost-split_1637426408905/work/src/learner.cc:1115: Starting in XGBoost 1.3.0, the default evaluation metric used with the objective 'binary:logistic' was changed from 'error' to 'logloss'. Explicitly set eval_metric if you'd like to restore the old behavior.\n"
     ]
    },
    {
     "name": "stderr",
     "output_type": "stream",
     "text": [
      "/Users/haripurnapatre/opt/anaconda3/lib/python3.9/site-packages/xgboost/sklearn.py:1224: UserWarning: The use of label encoder in XGBClassifier is deprecated and will be removed in a future release. To remove this warning, do the following: 1) Pass option use_label_encoder=False when constructing XGBClassifier object; and 2) Encode your labels (y) as integers starting with 0, i.e. 0, 1, 2, ..., [num_class - 1].\n",
      "  warnings.warn(label_encoder_deprecation_msg, UserWarning)\n"
     ]
    },
    {
     "name": "stdout",
     "output_type": "stream",
     "text": [
      "[14:40:38] WARNING: /Users/runner/miniforge3/conda-bld/xgboost-split_1637426408905/work/src/learner.cc:1115: Starting in XGBoost 1.3.0, the default evaluation metric used with the objective 'binary:logistic' was changed from 'error' to 'logloss'. Explicitly set eval_metric if you'd like to restore the old behavior.\n"
     ]
    },
    {
     "name": "stderr",
     "output_type": "stream",
     "text": [
      "/Users/haripurnapatre/opt/anaconda3/lib/python3.9/site-packages/xgboost/sklearn.py:1224: UserWarning: The use of label encoder in XGBClassifier is deprecated and will be removed in a future release. To remove this warning, do the following: 1) Pass option use_label_encoder=False when constructing XGBClassifier object; and 2) Encode your labels (y) as integers starting with 0, i.e. 0, 1, 2, ..., [num_class - 1].\n",
      "  warnings.warn(label_encoder_deprecation_msg, UserWarning)\n"
     ]
    },
    {
     "name": "stdout",
     "output_type": "stream",
     "text": [
      "[14:40:50] WARNING: /Users/runner/miniforge3/conda-bld/xgboost-split_1637426408905/work/src/learner.cc:1115: Starting in XGBoost 1.3.0, the default evaluation metric used with the objective 'binary:logistic' was changed from 'error' to 'logloss'. Explicitly set eval_metric if you'd like to restore the old behavior.\n"
     ]
    },
    {
     "name": "stderr",
     "output_type": "stream",
     "text": [
      "/Users/haripurnapatre/opt/anaconda3/lib/python3.9/site-packages/xgboost/sklearn.py:1224: UserWarning: The use of label encoder in XGBClassifier is deprecated and will be removed in a future release. To remove this warning, do the following: 1) Pass option use_label_encoder=False when constructing XGBClassifier object; and 2) Encode your labels (y) as integers starting with 0, i.e. 0, 1, 2, ..., [num_class - 1].\n",
      "  warnings.warn(label_encoder_deprecation_msg, UserWarning)\n"
     ]
    },
    {
     "name": "stdout",
     "output_type": "stream",
     "text": [
      "[14:41:03] WARNING: /Users/runner/miniforge3/conda-bld/xgboost-split_1637426408905/work/src/learner.cc:1115: Starting in XGBoost 1.3.0, the default evaluation metric used with the objective 'binary:logistic' was changed from 'error' to 'logloss'. Explicitly set eval_metric if you'd like to restore the old behavior.\n",
      "AUC Score: 0.9178923032933989\n"
     ]
    }
   ],
   "source": [
    "groups = x1_train['User_ID']\n",
    "i = 1\n",
    "aucs_xgb = []\n",
    "for train_index,test_index in cv.split(x1_train,y1_train,groups):\n",
    "    x_train, x_test, y_train, y_test = x1_train.iloc[train_index], x1_train.iloc[test_index], y1_train.iloc[train_index], y1_train.iloc[test_index]\n",
    "    x_train  = x_train.drop(['User_ID'], axis = 1)\n",
    "    x_test  = x_test.drop(['User_ID'], axis = 1)\n",
    "    xgb_f.fit(x_train, y_train)\n",
    "    xgb_probs = xgb_f.predict_proba(x_test)[:,1]\n",
    "    aucscore_xgb = roc_auc_score(y_test, xgb_probs)\n",
    "    aucs_xgb.append(aucscore_xgb)\n",
    "print(\"AUC Score:\", np.mean(aucs_xgb))"
   ]
  },
  {
   "cell_type": "code",
   "execution_count": 1766,
   "id": "6047edaa",
   "metadata": {},
   "outputs": [
    {
     "name": "stdout",
     "output_type": "stream",
     "text": [
      "Hold Out Set Value is: 0.9176402796239104\n"
     ]
    }
   ],
   "source": [
    "rfp = xgb_f.predict_proba(xq)[:,1]\n",
    "print('Hold Out Set Value is:',roc_auc_score(y1_test,rfp))"
   ]
  },
  {
   "cell_type": "markdown",
   "id": "6836e2cb",
   "metadata": {},
   "source": [
    "* **We can see from the graph that the area under the curve for our random forest model (in black) is slightly more than the area under the curve for the xgboost model (in red).** \n",
    "* **So we can say random forest is a better classifier for our problem.**"
   ]
  },
  {
   "cell_type": "code",
   "execution_count": 1767,
   "id": "b135df5a",
   "metadata": {},
   "outputs": [
    {
     "name": "stderr",
     "output_type": "stream",
     "text": [
      "/var/folders/y9/f2nfs3n574jc1n364wv_lbcw0000gn/T/ipykernel_65313/1584678778.py:17: UserWarning: color is redundantly defined by the 'color' keyword argument and the fmt string \"b\" (-> color=(0.2980392156862745, 0.4470588235294118, 0.6901960784313725, 1)). The keyword argument will take precedence.\n",
      "  plt.plot(fpr1, tpr1, 'b', label = 'AUC = %0.2f' % roc_auc1, color = 'red')\n"
     ]
    },
    {
     "data": {
      "image/png": "[encoded data removed]",
      "text/plain": [
       "<Figure size 432x288 with 1 Axes>"
      ]
     },
     "metadata": {},
     "output_type": "display_data"
    }
   ],
   "source": [
    "import sklearn.metrics as metrics\n",
    "# calculate the fpr and tpr for all thresholds of the classification\n",
    "probs = rf.predict_proba(xq)\n",
    "preds = probs[:,1]\n",
    "fpr, tpr, threshold = metrics.roc_curve(y1_test, preds)\n",
    "roc_auc = metrics.auc(fpr, tpr)\n",
    "\n",
    "probs1 = xgb_f.predict_proba(xq)\n",
    "preds1 = probs1[:,1]\n",
    "fpr1, tpr1, threshold = metrics.roc_curve(y1_test, preds1)\n",
    "roc_auc1 = metrics.auc(fpr1, tpr1)\n",
    "\n",
    "# method I: plt\n",
    "import matplotlib.pyplot as plt\n",
    "plt.title('Receiver Operating Characteristic')\n",
    "plt.plot(fpr, tpr, 'b', label = 'AUC = %0.2f' % roc_auc)\n",
    "plt.plot(fpr1, tpr1, 'b', label = 'AUC = %0.2f' % roc_auc1, color = 'red')\n",
    "plt.legend(loc = 'lower right')\n",
    "plt.plot([0, 1], [0, 1],'r--')\n",
    "plt.xlim([0, 1])\n",
    "plt.ylim([0, 1])\n",
    "plt.ylabel('True Positive Rate')\n",
    "plt.xlabel('False Positive Rate')\n",
    "plt.show()"
   ]
  },
  {
   "cell_type": "markdown",
   "id": "b204c9ba",
   "metadata": {},
   "source": [
    "### As a part of this project we have successfully built a model that will predict whether a user would be active or not in the future based on his current data."
   ]
  }
 ],
 "metadata": {
  "kernelspec": {
   "display_name": "Python 3 (ipykernel)",
   "language": "python",
   "name": "python3"
  },
  "language_info": {
   "codemirror_mode": {
    "name": "ipython",
    "version": 3
   },
   "file_extension": ".py",
   "mimetype": "text/x-python",
   "name": "python",
   "nbconvert_exporter": "python",
   "pygments_lexer": "ipython3",
   "version": "3.9.7"
  }
 },
 "nbformat": 4,
 "nbformat_minor": 5
}
